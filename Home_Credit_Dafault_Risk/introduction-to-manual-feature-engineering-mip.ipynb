{
 "cells": [
  {
   "cell_type": "code",
   "execution_count": 1,
   "id": "e44d0292",
   "metadata": {
    "_cell_guid": "b1076dfc-b9ad-4769-8c92-a6c4dae69d19",
    "_uuid": "8f2839f25d086af736a60e9eeb907d3b93b6e0e5",
    "execution": {
     "iopub.execute_input": "2022-05-21T05:12:20.282470Z",
     "iopub.status.busy": "2022-05-21T05:12:20.281860Z",
     "iopub.status.idle": "2022-05-21T05:12:21.328313Z",
     "shell.execute_reply": "2022-05-21T05:12:21.327412Z"
    },
    "papermill": {
     "duration": 1.09835,
     "end_time": "2022-05-21T05:12:21.330992",
     "exception": false,
     "start_time": "2022-05-21T05:12:20.232642",
     "status": "completed"
    },
    "tags": []
   },
   "outputs": [],
   "source": [
    "import pandas as pd\n",
    "import numpy as np\n",
    "\n",
    "import matplotlib.pyplot as plt\n",
    "import seaborn as sns\n",
    "\n",
    "import warnings \n",
    "warnings.filterwarnings('ignore')"
   ]
  },
  {
   "cell_type": "markdown",
   "id": "e790a812",
   "metadata": {
    "papermill": {
     "duration": 0.045923,
     "end_time": "2022-05-21T05:12:21.423496",
     "exception": false,
     "start_time": "2022-05-21T05:12:21.377573",
     "status": "completed"
    },
    "tags": []
   },
   "source": [
    "- 사용자 별로 이전 대출 categorical 데이터를 count, numeric데이터를 agg\n",
    "-  이전 대출의 매달 데이터를 count, agg하여 이전 대출 데이터와 병합\n",
    "-  missing value가 90퍼 이상인 것 제거\n",
    "- kdeplot생성 함수를 만들어서 target과 높은 corr을 갖는 feature을 kde plot 그리기\n",
    "- column 간에 correlation이 0.8이상인 것을 제거\n",
    "- lgb model 구현(features, test_features, encoding, n_folds)\n",
    "    - label, id 분리\n",
    "    - onehot encoding, lable encoding 구현\n",
    "    - array로 변환\n",
    "    - kfold 선언\n",
    "    - feature_importance_values, test_predictions, out_of_fold, valid_scores, train_scores 생성"
   ]
  },
  {
   "cell_type": "code",
   "execution_count": 2,
   "id": "83ef8f5e",
   "metadata": {
    "execution": {
     "iopub.execute_input": "2022-05-21T05:12:21.519020Z",
     "iopub.status.busy": "2022-05-21T05:12:21.518737Z",
     "iopub.status.idle": "2022-05-21T05:12:45.627798Z",
     "shell.execute_reply": "2022-05-21T05:12:45.626830Z"
    },
    "papermill": {
     "duration": 24.158901,
     "end_time": "2022-05-21T05:12:45.630389",
     "exception": false,
     "start_time": "2022-05-21T05:12:21.471488",
     "status": "completed"
    },
    "tags": []
   },
   "outputs": [],
   "source": [
    "train = pd.read_csv('../input/home-credit-default-risk/application_train.csv')\n",
    "test = pd.read_csv('../input/home-credit-default-risk/application_test.csv')\n",
    "bureau = pd.read_csv('../input/home-credit-default-risk/bureau.csv')\n",
    "bureau_balance = pd.read_csv('../input/home-credit-default-risk/bureau_balance.csv')"
   ]
  },
  {
   "cell_type": "code",
   "execution_count": 3,
   "id": "56b7c496",
   "metadata": {
    "execution": {
     "iopub.execute_input": "2022-05-21T05:12:45.723350Z",
     "iopub.status.busy": "2022-05-21T05:12:45.722399Z",
     "iopub.status.idle": "2022-05-21T05:12:45.761680Z",
     "shell.execute_reply": "2022-05-21T05:12:45.759978Z"
    },
    "papermill": {
     "duration": 0.088884,
     "end_time": "2022-05-21T05:12:45.764769",
     "exception": false,
     "start_time": "2022-05-21T05:12:45.675885",
     "status": "completed"
    },
    "tags": []
   },
   "outputs": [
    {
     "name": "stdout",
     "output_type": "stream",
     "text": [
      "Training Data Shape:  (307511, 122)\n"
     ]
    },
    {
     "data": {
      "text/html": [
       "<div>\n",
       "<style scoped>\n",
       "    .dataframe tbody tr th:only-of-type {\n",
       "        vertical-align: middle;\n",
       "    }\n",
       "\n",
       "    .dataframe tbody tr th {\n",
       "        vertical-align: top;\n",
       "    }\n",
       "\n",
       "    .dataframe thead th {\n",
       "        text-align: right;\n",
       "    }\n",
       "</style>\n",
       "<table border=\"1\" class=\"dataframe\">\n",
       "  <thead>\n",
       "    <tr style=\"text-align: right;\">\n",
       "      <th></th>\n",
       "      <th>SK_ID_CURR</th>\n",
       "      <th>TARGET</th>\n",
       "      <th>NAME_CONTRACT_TYPE</th>\n",
       "      <th>CODE_GENDER</th>\n",
       "      <th>FLAG_OWN_CAR</th>\n",
       "      <th>FLAG_OWN_REALTY</th>\n",
       "      <th>CNT_CHILDREN</th>\n",
       "      <th>AMT_INCOME_TOTAL</th>\n",
       "      <th>AMT_CREDIT</th>\n",
       "      <th>AMT_ANNUITY</th>\n",
       "      <th>...</th>\n",
       "      <th>FLAG_DOCUMENT_18</th>\n",
       "      <th>FLAG_DOCUMENT_19</th>\n",
       "      <th>FLAG_DOCUMENT_20</th>\n",
       "      <th>FLAG_DOCUMENT_21</th>\n",
       "      <th>AMT_REQ_CREDIT_BUREAU_HOUR</th>\n",
       "      <th>AMT_REQ_CREDIT_BUREAU_DAY</th>\n",
       "      <th>AMT_REQ_CREDIT_BUREAU_WEEK</th>\n",
       "      <th>AMT_REQ_CREDIT_BUREAU_MON</th>\n",
       "      <th>AMT_REQ_CREDIT_BUREAU_QRT</th>\n",
       "      <th>AMT_REQ_CREDIT_BUREAU_YEAR</th>\n",
       "    </tr>\n",
       "  </thead>\n",
       "  <tbody>\n",
       "    <tr>\n",
       "      <th>0</th>\n",
       "      <td>100002</td>\n",
       "      <td>1</td>\n",
       "      <td>Cash loans</td>\n",
       "      <td>M</td>\n",
       "      <td>N</td>\n",
       "      <td>Y</td>\n",
       "      <td>0</td>\n",
       "      <td>202500.0</td>\n",
       "      <td>406597.5</td>\n",
       "      <td>24700.5</td>\n",
       "      <td>...</td>\n",
       "      <td>0</td>\n",
       "      <td>0</td>\n",
       "      <td>0</td>\n",
       "      <td>0</td>\n",
       "      <td>0.0</td>\n",
       "      <td>0.0</td>\n",
       "      <td>0.0</td>\n",
       "      <td>0.0</td>\n",
       "      <td>0.0</td>\n",
       "      <td>1.0</td>\n",
       "    </tr>\n",
       "    <tr>\n",
       "      <th>1</th>\n",
       "      <td>100003</td>\n",
       "      <td>0</td>\n",
       "      <td>Cash loans</td>\n",
       "      <td>F</td>\n",
       "      <td>N</td>\n",
       "      <td>N</td>\n",
       "      <td>0</td>\n",
       "      <td>270000.0</td>\n",
       "      <td>1293502.5</td>\n",
       "      <td>35698.5</td>\n",
       "      <td>...</td>\n",
       "      <td>0</td>\n",
       "      <td>0</td>\n",
       "      <td>0</td>\n",
       "      <td>0</td>\n",
       "      <td>0.0</td>\n",
       "      <td>0.0</td>\n",
       "      <td>0.0</td>\n",
       "      <td>0.0</td>\n",
       "      <td>0.0</td>\n",
       "      <td>0.0</td>\n",
       "    </tr>\n",
       "    <tr>\n",
       "      <th>2</th>\n",
       "      <td>100004</td>\n",
       "      <td>0</td>\n",
       "      <td>Revolving loans</td>\n",
       "      <td>M</td>\n",
       "      <td>Y</td>\n",
       "      <td>Y</td>\n",
       "      <td>0</td>\n",
       "      <td>67500.0</td>\n",
       "      <td>135000.0</td>\n",
       "      <td>6750.0</td>\n",
       "      <td>...</td>\n",
       "      <td>0</td>\n",
       "      <td>0</td>\n",
       "      <td>0</td>\n",
       "      <td>0</td>\n",
       "      <td>0.0</td>\n",
       "      <td>0.0</td>\n",
       "      <td>0.0</td>\n",
       "      <td>0.0</td>\n",
       "      <td>0.0</td>\n",
       "      <td>0.0</td>\n",
       "    </tr>\n",
       "    <tr>\n",
       "      <th>3</th>\n",
       "      <td>100006</td>\n",
       "      <td>0</td>\n",
       "      <td>Cash loans</td>\n",
       "      <td>F</td>\n",
       "      <td>N</td>\n",
       "      <td>Y</td>\n",
       "      <td>0</td>\n",
       "      <td>135000.0</td>\n",
       "      <td>312682.5</td>\n",
       "      <td>29686.5</td>\n",
       "      <td>...</td>\n",
       "      <td>0</td>\n",
       "      <td>0</td>\n",
       "      <td>0</td>\n",
       "      <td>0</td>\n",
       "      <td>NaN</td>\n",
       "      <td>NaN</td>\n",
       "      <td>NaN</td>\n",
       "      <td>NaN</td>\n",
       "      <td>NaN</td>\n",
       "      <td>NaN</td>\n",
       "    </tr>\n",
       "    <tr>\n",
       "      <th>4</th>\n",
       "      <td>100007</td>\n",
       "      <td>0</td>\n",
       "      <td>Cash loans</td>\n",
       "      <td>M</td>\n",
       "      <td>N</td>\n",
       "      <td>Y</td>\n",
       "      <td>0</td>\n",
       "      <td>121500.0</td>\n",
       "      <td>513000.0</td>\n",
       "      <td>21865.5</td>\n",
       "      <td>...</td>\n",
       "      <td>0</td>\n",
       "      <td>0</td>\n",
       "      <td>0</td>\n",
       "      <td>0</td>\n",
       "      <td>0.0</td>\n",
       "      <td>0.0</td>\n",
       "      <td>0.0</td>\n",
       "      <td>0.0</td>\n",
       "      <td>0.0</td>\n",
       "      <td>0.0</td>\n",
       "    </tr>\n",
       "  </tbody>\n",
       "</table>\n",
       "<p>5 rows × 122 columns</p>\n",
       "</div>"
      ],
      "text/plain": [
       "   SK_ID_CURR  TARGET NAME_CONTRACT_TYPE CODE_GENDER FLAG_OWN_CAR  \\\n",
       "0      100002       1         Cash loans           M            N   \n",
       "1      100003       0         Cash loans           F            N   \n",
       "2      100004       0    Revolving loans           M            Y   \n",
       "3      100006       0         Cash loans           F            N   \n",
       "4      100007       0         Cash loans           M            N   \n",
       "\n",
       "  FLAG_OWN_REALTY  CNT_CHILDREN  AMT_INCOME_TOTAL  AMT_CREDIT  AMT_ANNUITY  \\\n",
       "0               Y             0          202500.0    406597.5      24700.5   \n",
       "1               N             0          270000.0   1293502.5      35698.5   \n",
       "2               Y             0           67500.0    135000.0       6750.0   \n",
       "3               Y             0          135000.0    312682.5      29686.5   \n",
       "4               Y             0          121500.0    513000.0      21865.5   \n",
       "\n",
       "   ...  FLAG_DOCUMENT_18 FLAG_DOCUMENT_19 FLAG_DOCUMENT_20 FLAG_DOCUMENT_21  \\\n",
       "0  ...                 0                0                0                0   \n",
       "1  ...                 0                0                0                0   \n",
       "2  ...                 0                0                0                0   \n",
       "3  ...                 0                0                0                0   \n",
       "4  ...                 0                0                0                0   \n",
       "\n",
       "  AMT_REQ_CREDIT_BUREAU_HOUR AMT_REQ_CREDIT_BUREAU_DAY  \\\n",
       "0                        0.0                       0.0   \n",
       "1                        0.0                       0.0   \n",
       "2                        0.0                       0.0   \n",
       "3                        NaN                       NaN   \n",
       "4                        0.0                       0.0   \n",
       "\n",
       "   AMT_REQ_CREDIT_BUREAU_WEEK  AMT_REQ_CREDIT_BUREAU_MON  \\\n",
       "0                         0.0                        0.0   \n",
       "1                         0.0                        0.0   \n",
       "2                         0.0                        0.0   \n",
       "3                         NaN                        NaN   \n",
       "4                         0.0                        0.0   \n",
       "\n",
       "   AMT_REQ_CREDIT_BUREAU_QRT  AMT_REQ_CREDIT_BUREAU_YEAR  \n",
       "0                        0.0                         1.0  \n",
       "1                        0.0                         0.0  \n",
       "2                        0.0                         0.0  \n",
       "3                        NaN                         NaN  \n",
       "4                        0.0                         0.0  \n",
       "\n",
       "[5 rows x 122 columns]"
      ]
     },
     "execution_count": 3,
     "metadata": {},
     "output_type": "execute_result"
    }
   ],
   "source": [
    "print('Training Data Shape: ', train.shape)\n",
    "train.head()"
   ]
  },
  {
   "cell_type": "code",
   "execution_count": 4,
   "id": "693b17c8",
   "metadata": {
    "execution": {
     "iopub.execute_input": "2022-05-21T05:12:45.860497Z",
     "iopub.status.busy": "2022-05-21T05:12:45.859805Z",
     "iopub.status.idle": "2022-05-21T05:12:45.888019Z",
     "shell.execute_reply": "2022-05-21T05:12:45.886873Z"
    },
    "papermill": {
     "duration": 0.07811,
     "end_time": "2022-05-21T05:12:45.890368",
     "exception": false,
     "start_time": "2022-05-21T05:12:45.812258",
     "status": "completed"
    },
    "tags": []
   },
   "outputs": [
    {
     "name": "stdout",
     "output_type": "stream",
     "text": [
      "Testing Data Shape:  (48744, 121)\n"
     ]
    },
    {
     "data": {
      "text/html": [
       "<div>\n",
       "<style scoped>\n",
       "    .dataframe tbody tr th:only-of-type {\n",
       "        vertical-align: middle;\n",
       "    }\n",
       "\n",
       "    .dataframe tbody tr th {\n",
       "        vertical-align: top;\n",
       "    }\n",
       "\n",
       "    .dataframe thead th {\n",
       "        text-align: right;\n",
       "    }\n",
       "</style>\n",
       "<table border=\"1\" class=\"dataframe\">\n",
       "  <thead>\n",
       "    <tr style=\"text-align: right;\">\n",
       "      <th></th>\n",
       "      <th>SK_ID_CURR</th>\n",
       "      <th>NAME_CONTRACT_TYPE</th>\n",
       "      <th>CODE_GENDER</th>\n",
       "      <th>FLAG_OWN_CAR</th>\n",
       "      <th>FLAG_OWN_REALTY</th>\n",
       "      <th>CNT_CHILDREN</th>\n",
       "      <th>AMT_INCOME_TOTAL</th>\n",
       "      <th>AMT_CREDIT</th>\n",
       "      <th>AMT_ANNUITY</th>\n",
       "      <th>AMT_GOODS_PRICE</th>\n",
       "      <th>...</th>\n",
       "      <th>FLAG_DOCUMENT_18</th>\n",
       "      <th>FLAG_DOCUMENT_19</th>\n",
       "      <th>FLAG_DOCUMENT_20</th>\n",
       "      <th>FLAG_DOCUMENT_21</th>\n",
       "      <th>AMT_REQ_CREDIT_BUREAU_HOUR</th>\n",
       "      <th>AMT_REQ_CREDIT_BUREAU_DAY</th>\n",
       "      <th>AMT_REQ_CREDIT_BUREAU_WEEK</th>\n",
       "      <th>AMT_REQ_CREDIT_BUREAU_MON</th>\n",
       "      <th>AMT_REQ_CREDIT_BUREAU_QRT</th>\n",
       "      <th>AMT_REQ_CREDIT_BUREAU_YEAR</th>\n",
       "    </tr>\n",
       "  </thead>\n",
       "  <tbody>\n",
       "    <tr>\n",
       "      <th>0</th>\n",
       "      <td>100001</td>\n",
       "      <td>Cash loans</td>\n",
       "      <td>F</td>\n",
       "      <td>N</td>\n",
       "      <td>Y</td>\n",
       "      <td>0</td>\n",
       "      <td>135000.0</td>\n",
       "      <td>568800.0</td>\n",
       "      <td>20560.5</td>\n",
       "      <td>450000.0</td>\n",
       "      <td>...</td>\n",
       "      <td>0</td>\n",
       "      <td>0</td>\n",
       "      <td>0</td>\n",
       "      <td>0</td>\n",
       "      <td>0.0</td>\n",
       "      <td>0.0</td>\n",
       "      <td>0.0</td>\n",
       "      <td>0.0</td>\n",
       "      <td>0.0</td>\n",
       "      <td>0.0</td>\n",
       "    </tr>\n",
       "    <tr>\n",
       "      <th>1</th>\n",
       "      <td>100005</td>\n",
       "      <td>Cash loans</td>\n",
       "      <td>M</td>\n",
       "      <td>N</td>\n",
       "      <td>Y</td>\n",
       "      <td>0</td>\n",
       "      <td>99000.0</td>\n",
       "      <td>222768.0</td>\n",
       "      <td>17370.0</td>\n",
       "      <td>180000.0</td>\n",
       "      <td>...</td>\n",
       "      <td>0</td>\n",
       "      <td>0</td>\n",
       "      <td>0</td>\n",
       "      <td>0</td>\n",
       "      <td>0.0</td>\n",
       "      <td>0.0</td>\n",
       "      <td>0.0</td>\n",
       "      <td>0.0</td>\n",
       "      <td>0.0</td>\n",
       "      <td>3.0</td>\n",
       "    </tr>\n",
       "    <tr>\n",
       "      <th>2</th>\n",
       "      <td>100013</td>\n",
       "      <td>Cash loans</td>\n",
       "      <td>M</td>\n",
       "      <td>Y</td>\n",
       "      <td>Y</td>\n",
       "      <td>0</td>\n",
       "      <td>202500.0</td>\n",
       "      <td>663264.0</td>\n",
       "      <td>69777.0</td>\n",
       "      <td>630000.0</td>\n",
       "      <td>...</td>\n",
       "      <td>0</td>\n",
       "      <td>0</td>\n",
       "      <td>0</td>\n",
       "      <td>0</td>\n",
       "      <td>0.0</td>\n",
       "      <td>0.0</td>\n",
       "      <td>0.0</td>\n",
       "      <td>0.0</td>\n",
       "      <td>1.0</td>\n",
       "      <td>4.0</td>\n",
       "    </tr>\n",
       "    <tr>\n",
       "      <th>3</th>\n",
       "      <td>100028</td>\n",
       "      <td>Cash loans</td>\n",
       "      <td>F</td>\n",
       "      <td>N</td>\n",
       "      <td>Y</td>\n",
       "      <td>2</td>\n",
       "      <td>315000.0</td>\n",
       "      <td>1575000.0</td>\n",
       "      <td>49018.5</td>\n",
       "      <td>1575000.0</td>\n",
       "      <td>...</td>\n",
       "      <td>0</td>\n",
       "      <td>0</td>\n",
       "      <td>0</td>\n",
       "      <td>0</td>\n",
       "      <td>0.0</td>\n",
       "      <td>0.0</td>\n",
       "      <td>0.0</td>\n",
       "      <td>0.0</td>\n",
       "      <td>0.0</td>\n",
       "      <td>3.0</td>\n",
       "    </tr>\n",
       "    <tr>\n",
       "      <th>4</th>\n",
       "      <td>100038</td>\n",
       "      <td>Cash loans</td>\n",
       "      <td>M</td>\n",
       "      <td>Y</td>\n",
       "      <td>N</td>\n",
       "      <td>1</td>\n",
       "      <td>180000.0</td>\n",
       "      <td>625500.0</td>\n",
       "      <td>32067.0</td>\n",
       "      <td>625500.0</td>\n",
       "      <td>...</td>\n",
       "      <td>0</td>\n",
       "      <td>0</td>\n",
       "      <td>0</td>\n",
       "      <td>0</td>\n",
       "      <td>NaN</td>\n",
       "      <td>NaN</td>\n",
       "      <td>NaN</td>\n",
       "      <td>NaN</td>\n",
       "      <td>NaN</td>\n",
       "      <td>NaN</td>\n",
       "    </tr>\n",
       "  </tbody>\n",
       "</table>\n",
       "<p>5 rows × 121 columns</p>\n",
       "</div>"
      ],
      "text/plain": [
       "   SK_ID_CURR NAME_CONTRACT_TYPE CODE_GENDER FLAG_OWN_CAR FLAG_OWN_REALTY  \\\n",
       "0      100001         Cash loans           F            N               Y   \n",
       "1      100005         Cash loans           M            N               Y   \n",
       "2      100013         Cash loans           M            Y               Y   \n",
       "3      100028         Cash loans           F            N               Y   \n",
       "4      100038         Cash loans           M            Y               N   \n",
       "\n",
       "   CNT_CHILDREN  AMT_INCOME_TOTAL  AMT_CREDIT  AMT_ANNUITY  AMT_GOODS_PRICE  \\\n",
       "0             0          135000.0    568800.0      20560.5         450000.0   \n",
       "1             0           99000.0    222768.0      17370.0         180000.0   \n",
       "2             0          202500.0    663264.0      69777.0         630000.0   \n",
       "3             2          315000.0   1575000.0      49018.5        1575000.0   \n",
       "4             1          180000.0    625500.0      32067.0         625500.0   \n",
       "\n",
       "   ... FLAG_DOCUMENT_18 FLAG_DOCUMENT_19 FLAG_DOCUMENT_20 FLAG_DOCUMENT_21  \\\n",
       "0  ...                0                0                0                0   \n",
       "1  ...                0                0                0                0   \n",
       "2  ...                0                0                0                0   \n",
       "3  ...                0                0                0                0   \n",
       "4  ...                0                0                0                0   \n",
       "\n",
       "  AMT_REQ_CREDIT_BUREAU_HOUR  AMT_REQ_CREDIT_BUREAU_DAY  \\\n",
       "0                        0.0                        0.0   \n",
       "1                        0.0                        0.0   \n",
       "2                        0.0                        0.0   \n",
       "3                        0.0                        0.0   \n",
       "4                        NaN                        NaN   \n",
       "\n",
       "   AMT_REQ_CREDIT_BUREAU_WEEK  AMT_REQ_CREDIT_BUREAU_MON  \\\n",
       "0                         0.0                        0.0   \n",
       "1                         0.0                        0.0   \n",
       "2                         0.0                        0.0   \n",
       "3                         0.0                        0.0   \n",
       "4                         NaN                        NaN   \n",
       "\n",
       "   AMT_REQ_CREDIT_BUREAU_QRT  AMT_REQ_CREDIT_BUREAU_YEAR  \n",
       "0                        0.0                         0.0  \n",
       "1                        0.0                         3.0  \n",
       "2                        1.0                         4.0  \n",
       "3                        0.0                         3.0  \n",
       "4                        NaN                         NaN  \n",
       "\n",
       "[5 rows x 121 columns]"
      ]
     },
     "execution_count": 4,
     "metadata": {},
     "output_type": "execute_result"
    }
   ],
   "source": [
    "print('Testing Data Shape: ', test.shape)\n",
    "test.head()"
   ]
  },
  {
   "cell_type": "code",
   "execution_count": 5,
   "id": "ad1674db",
   "metadata": {
    "execution": {
     "iopub.execute_input": "2022-05-21T05:12:45.988297Z",
     "iopub.status.busy": "2022-05-21T05:12:45.987714Z",
     "iopub.status.idle": "2022-05-21T05:12:46.008728Z",
     "shell.execute_reply": "2022-05-21T05:12:46.007743Z"
    },
    "papermill": {
     "duration": 0.071967,
     "end_time": "2022-05-21T05:12:46.010790",
     "exception": false,
     "start_time": "2022-05-21T05:12:45.938823",
     "status": "completed"
    },
    "tags": []
   },
   "outputs": [
    {
     "name": "stdout",
     "output_type": "stream",
     "text": [
      "Bureau data Shape:  (1716428, 17)\n"
     ]
    },
    {
     "data": {
      "text/html": [
       "<div>\n",
       "<style scoped>\n",
       "    .dataframe tbody tr th:only-of-type {\n",
       "        vertical-align: middle;\n",
       "    }\n",
       "\n",
       "    .dataframe tbody tr th {\n",
       "        vertical-align: top;\n",
       "    }\n",
       "\n",
       "    .dataframe thead th {\n",
       "        text-align: right;\n",
       "    }\n",
       "</style>\n",
       "<table border=\"1\" class=\"dataframe\">\n",
       "  <thead>\n",
       "    <tr style=\"text-align: right;\">\n",
       "      <th></th>\n",
       "      <th>SK_ID_CURR</th>\n",
       "      <th>SK_ID_BUREAU</th>\n",
       "      <th>CREDIT_ACTIVE</th>\n",
       "      <th>CREDIT_CURRENCY</th>\n",
       "      <th>DAYS_CREDIT</th>\n",
       "      <th>CREDIT_DAY_OVERDUE</th>\n",
       "      <th>DAYS_CREDIT_ENDDATE</th>\n",
       "      <th>DAYS_ENDDATE_FACT</th>\n",
       "      <th>AMT_CREDIT_MAX_OVERDUE</th>\n",
       "      <th>CNT_CREDIT_PROLONG</th>\n",
       "      <th>AMT_CREDIT_SUM</th>\n",
       "      <th>AMT_CREDIT_SUM_DEBT</th>\n",
       "      <th>AMT_CREDIT_SUM_LIMIT</th>\n",
       "      <th>AMT_CREDIT_SUM_OVERDUE</th>\n",
       "      <th>CREDIT_TYPE</th>\n",
       "      <th>DAYS_CREDIT_UPDATE</th>\n",
       "      <th>AMT_ANNUITY</th>\n",
       "    </tr>\n",
       "  </thead>\n",
       "  <tbody>\n",
       "    <tr>\n",
       "      <th>0</th>\n",
       "      <td>215354</td>\n",
       "      <td>5714462</td>\n",
       "      <td>Closed</td>\n",
       "      <td>currency 1</td>\n",
       "      <td>-497</td>\n",
       "      <td>0</td>\n",
       "      <td>-153.0</td>\n",
       "      <td>-153.0</td>\n",
       "      <td>NaN</td>\n",
       "      <td>0</td>\n",
       "      <td>91323.0</td>\n",
       "      <td>0.0</td>\n",
       "      <td>NaN</td>\n",
       "      <td>0.0</td>\n",
       "      <td>Consumer credit</td>\n",
       "      <td>-131</td>\n",
       "      <td>NaN</td>\n",
       "    </tr>\n",
       "    <tr>\n",
       "      <th>1</th>\n",
       "      <td>215354</td>\n",
       "      <td>5714463</td>\n",
       "      <td>Active</td>\n",
       "      <td>currency 1</td>\n",
       "      <td>-208</td>\n",
       "      <td>0</td>\n",
       "      <td>1075.0</td>\n",
       "      <td>NaN</td>\n",
       "      <td>NaN</td>\n",
       "      <td>0</td>\n",
       "      <td>225000.0</td>\n",
       "      <td>171342.0</td>\n",
       "      <td>NaN</td>\n",
       "      <td>0.0</td>\n",
       "      <td>Credit card</td>\n",
       "      <td>-20</td>\n",
       "      <td>NaN</td>\n",
       "    </tr>\n",
       "    <tr>\n",
       "      <th>2</th>\n",
       "      <td>215354</td>\n",
       "      <td>5714464</td>\n",
       "      <td>Active</td>\n",
       "      <td>currency 1</td>\n",
       "      <td>-203</td>\n",
       "      <td>0</td>\n",
       "      <td>528.0</td>\n",
       "      <td>NaN</td>\n",
       "      <td>NaN</td>\n",
       "      <td>0</td>\n",
       "      <td>464323.5</td>\n",
       "      <td>NaN</td>\n",
       "      <td>NaN</td>\n",
       "      <td>0.0</td>\n",
       "      <td>Consumer credit</td>\n",
       "      <td>-16</td>\n",
       "      <td>NaN</td>\n",
       "    </tr>\n",
       "    <tr>\n",
       "      <th>3</th>\n",
       "      <td>215354</td>\n",
       "      <td>5714465</td>\n",
       "      <td>Active</td>\n",
       "      <td>currency 1</td>\n",
       "      <td>-203</td>\n",
       "      <td>0</td>\n",
       "      <td>NaN</td>\n",
       "      <td>NaN</td>\n",
       "      <td>NaN</td>\n",
       "      <td>0</td>\n",
       "      <td>90000.0</td>\n",
       "      <td>NaN</td>\n",
       "      <td>NaN</td>\n",
       "      <td>0.0</td>\n",
       "      <td>Credit card</td>\n",
       "      <td>-16</td>\n",
       "      <td>NaN</td>\n",
       "    </tr>\n",
       "    <tr>\n",
       "      <th>4</th>\n",
       "      <td>215354</td>\n",
       "      <td>5714466</td>\n",
       "      <td>Active</td>\n",
       "      <td>currency 1</td>\n",
       "      <td>-629</td>\n",
       "      <td>0</td>\n",
       "      <td>1197.0</td>\n",
       "      <td>NaN</td>\n",
       "      <td>77674.5</td>\n",
       "      <td>0</td>\n",
       "      <td>2700000.0</td>\n",
       "      <td>NaN</td>\n",
       "      <td>NaN</td>\n",
       "      <td>0.0</td>\n",
       "      <td>Consumer credit</td>\n",
       "      <td>-21</td>\n",
       "      <td>NaN</td>\n",
       "    </tr>\n",
       "  </tbody>\n",
       "</table>\n",
       "</div>"
      ],
      "text/plain": [
       "   SK_ID_CURR  SK_ID_BUREAU CREDIT_ACTIVE CREDIT_CURRENCY  DAYS_CREDIT  \\\n",
       "0      215354       5714462        Closed      currency 1         -497   \n",
       "1      215354       5714463        Active      currency 1         -208   \n",
       "2      215354       5714464        Active      currency 1         -203   \n",
       "3      215354       5714465        Active      currency 1         -203   \n",
       "4      215354       5714466        Active      currency 1         -629   \n",
       "\n",
       "   CREDIT_DAY_OVERDUE  DAYS_CREDIT_ENDDATE  DAYS_ENDDATE_FACT  \\\n",
       "0                   0               -153.0             -153.0   \n",
       "1                   0               1075.0                NaN   \n",
       "2                   0                528.0                NaN   \n",
       "3                   0                  NaN                NaN   \n",
       "4                   0               1197.0                NaN   \n",
       "\n",
       "   AMT_CREDIT_MAX_OVERDUE  CNT_CREDIT_PROLONG  AMT_CREDIT_SUM  \\\n",
       "0                     NaN                   0         91323.0   \n",
       "1                     NaN                   0        225000.0   \n",
       "2                     NaN                   0        464323.5   \n",
       "3                     NaN                   0         90000.0   \n",
       "4                 77674.5                   0       2700000.0   \n",
       "\n",
       "   AMT_CREDIT_SUM_DEBT  AMT_CREDIT_SUM_LIMIT  AMT_CREDIT_SUM_OVERDUE  \\\n",
       "0                  0.0                   NaN                     0.0   \n",
       "1             171342.0                   NaN                     0.0   \n",
       "2                  NaN                   NaN                     0.0   \n",
       "3                  NaN                   NaN                     0.0   \n",
       "4                  NaN                   NaN                     0.0   \n",
       "\n",
       "       CREDIT_TYPE  DAYS_CREDIT_UPDATE  AMT_ANNUITY  \n",
       "0  Consumer credit                -131          NaN  \n",
       "1      Credit card                 -20          NaN  \n",
       "2  Consumer credit                 -16          NaN  \n",
       "3      Credit card                 -16          NaN  \n",
       "4  Consumer credit                 -21          NaN  "
      ]
     },
     "execution_count": 5,
     "metadata": {},
     "output_type": "execute_result"
    }
   ],
   "source": [
    "print('Bureau data Shape: ',bureau.shape)\n",
    "bureau.head()"
   ]
  },
  {
   "cell_type": "code",
   "execution_count": 6,
   "id": "d4c4cb4f",
   "metadata": {
    "execution": {
     "iopub.execute_input": "2022-05-21T05:12:46.112958Z",
     "iopub.status.busy": "2022-05-21T05:12:46.112122Z",
     "iopub.status.idle": "2022-05-21T05:12:46.122759Z",
     "shell.execute_reply": "2022-05-21T05:12:46.121697Z"
    },
    "papermill": {
     "duration": 0.062823,
     "end_time": "2022-05-21T05:12:46.124764",
     "exception": false,
     "start_time": "2022-05-21T05:12:46.061941",
     "status": "completed"
    },
    "tags": []
   },
   "outputs": [
    {
     "name": "stdout",
     "output_type": "stream",
     "text": [
      "bureau balance data shape:  (27299925, 3)\n"
     ]
    },
    {
     "data": {
      "text/html": [
       "<div>\n",
       "<style scoped>\n",
       "    .dataframe tbody tr th:only-of-type {\n",
       "        vertical-align: middle;\n",
       "    }\n",
       "\n",
       "    .dataframe tbody tr th {\n",
       "        vertical-align: top;\n",
       "    }\n",
       "\n",
       "    .dataframe thead th {\n",
       "        text-align: right;\n",
       "    }\n",
       "</style>\n",
       "<table border=\"1\" class=\"dataframe\">\n",
       "  <thead>\n",
       "    <tr style=\"text-align: right;\">\n",
       "      <th></th>\n",
       "      <th>SK_ID_BUREAU</th>\n",
       "      <th>MONTHS_BALANCE</th>\n",
       "      <th>STATUS</th>\n",
       "    </tr>\n",
       "  </thead>\n",
       "  <tbody>\n",
       "    <tr>\n",
       "      <th>0</th>\n",
       "      <td>5715448</td>\n",
       "      <td>0</td>\n",
       "      <td>C</td>\n",
       "    </tr>\n",
       "    <tr>\n",
       "      <th>1</th>\n",
       "      <td>5715448</td>\n",
       "      <td>-1</td>\n",
       "      <td>C</td>\n",
       "    </tr>\n",
       "    <tr>\n",
       "      <th>2</th>\n",
       "      <td>5715448</td>\n",
       "      <td>-2</td>\n",
       "      <td>C</td>\n",
       "    </tr>\n",
       "    <tr>\n",
       "      <th>3</th>\n",
       "      <td>5715448</td>\n",
       "      <td>-3</td>\n",
       "      <td>C</td>\n",
       "    </tr>\n",
       "    <tr>\n",
       "      <th>4</th>\n",
       "      <td>5715448</td>\n",
       "      <td>-4</td>\n",
       "      <td>C</td>\n",
       "    </tr>\n",
       "  </tbody>\n",
       "</table>\n",
       "</div>"
      ],
      "text/plain": [
       "   SK_ID_BUREAU  MONTHS_BALANCE STATUS\n",
       "0       5715448               0      C\n",
       "1       5715448              -1      C\n",
       "2       5715448              -2      C\n",
       "3       5715448              -3      C\n",
       "4       5715448              -4      C"
      ]
     },
     "execution_count": 6,
     "metadata": {},
     "output_type": "execute_result"
    }
   ],
   "source": [
    "print('bureau balance data shape: ', bureau_balance.shape)\n",
    "bureau_balance.head()"
   ]
  },
  {
   "cell_type": "code",
   "execution_count": 7,
   "id": "3f830a79",
   "metadata": {
    "execution": {
     "iopub.execute_input": "2022-05-21T05:12:46.226196Z",
     "iopub.status.busy": "2022-05-21T05:12:46.225310Z",
     "iopub.status.idle": "2022-05-21T05:12:48.023014Z",
     "shell.execute_reply": "2022-05-21T05:12:48.022008Z"
    },
    "papermill": {
     "duration": 1.850711,
     "end_time": "2022-05-21T05:12:48.025266",
     "exception": false,
     "start_time": "2022-05-21T05:12:46.174555",
     "status": "completed"
    },
    "tags": []
   },
   "outputs": [
    {
     "data": {
      "text/plain": [
       "Index(['mean', 'count', ''], dtype='object')"
      ]
     },
     "execution_count": 7,
     "metadata": {},
     "output_type": "execute_result"
    }
   ],
   "source": [
    "bureau_balance[['SK_ID_BUREAU','MONTHS_BALANCE']].groupby('SK_ID_BUREAU').agg(['mean','count']).reset_index().columns.levels[1]"
   ]
  },
  {
   "cell_type": "code",
   "execution_count": 8,
   "id": "c84d04df",
   "metadata": {
    "execution": {
     "iopub.execute_input": "2022-05-21T05:12:48.130115Z",
     "iopub.status.busy": "2022-05-21T05:12:48.129848Z",
     "iopub.status.idle": "2022-05-21T05:12:48.140309Z",
     "shell.execute_reply": "2022-05-21T05:12:48.139575Z"
    },
    "papermill": {
     "duration": 0.064535,
     "end_time": "2022-05-21T05:12:48.142348",
     "exception": false,
     "start_time": "2022-05-21T05:12:48.077813",
     "status": "completed"
    },
    "tags": []
   },
   "outputs": [],
   "source": [
    "def count_categorical(df, group_var, df_name):\n",
    "    \n",
    "    categorical = pd.get_dummies(df.select_dtypes('object'))\n",
    "    categorical[group_var] = df[group_var]\n",
    "\n",
    "    categorical = categorical.groupby(group_var).agg(['sum', 'mean'])\n",
    "\n",
    "    columns = []\n",
    "\n",
    "    for var in categorical.columns.levels[0]:\n",
    "        for stat in categorical.columns.levels[1]:\n",
    "            columns.append('%s_%s_%s'%(df_name,var, stat))\n",
    "\n",
    "    categorical.columns = columns\n",
    "    \n",
    "    return categorical\n",
    "\n",
    "def agg_numeric(df, group_var, df_name):\n",
    "    \n",
    "    group_ids = df[group_var]\n",
    "    numeric_df = df.select_dtypes('number')\n",
    "    numeric_df[group_var] = group_ids\n",
    "    \n",
    "    numeric_table = df.groupby(group_var).agg(['mean','min','max','count','sum']).reset_index()\n",
    "    \n",
    "    columns = [group_var]\n",
    "    \n",
    "    for var in numeric_table.columns.levels[0]:\n",
    "        if var != group_var:\n",
    "            for stat in numeric_table.columns.levels[1][:-1]:\n",
    "                columns.append('%s_%s_%s'%(df_name, var, stat))\n",
    "    numeric_table.columns = columns\n",
    "    \n",
    "    return numeric_table"
   ]
  },
  {
   "cell_type": "code",
   "execution_count": 9,
   "id": "454df0a1",
   "metadata": {
    "execution": {
     "iopub.execute_input": "2022-05-21T05:12:48.243255Z",
     "iopub.status.busy": "2022-05-21T05:12:48.243000Z",
     "iopub.status.idle": "2022-05-21T05:13:21.499512Z",
     "shell.execute_reply": "2022-05-21T05:13:21.498499Z"
    },
    "papermill": {
     "duration": 33.310245,
     "end_time": "2022-05-21T05:13:21.502295",
     "exception": false,
     "start_time": "2022-05-21T05:12:48.192050",
     "status": "completed"
    },
    "tags": []
   },
   "outputs": [],
   "source": [
    "bureau_agg = agg_numeric(bureau.drop(columns = ['SK_ID_BUREAU']), group_var = 'SK_ID_CURR', df_name = 'bureau')\n",
    "bureau_counts = count_categorical(bureau, group_var = 'SK_ID_CURR', df_name = 'bureau')\n",
    "bureau_balance_counts = count_categorical(bureau_balance, group_var = 'SK_ID_BUREAU', df_name = 'bureau_balance')\n",
    "bureau_balance_agg = agg_numeric(bureau_balance, group_var = 'SK_ID_BUREAU', df_name = 'bureau_balance')\n",
    "bureau_by_loan = bureau_balance_agg.merge(bureau_balance_counts, right_index = True, left_on = 'SK_ID_BUREAU', how = 'outer')\n",
    "\n",
    "# Merge to include the SK_ID_CURR\n",
    "bureau_by_loan = bureau[['SK_ID_BUREAU', 'SK_ID_CURR']].merge(bureau_by_loan, on = 'SK_ID_BUREAU', how = 'left')\n",
    "\n",
    "# Aggregate the stats for each client\n",
    "bureau_balance_by_client = agg_numeric(bureau_by_loan.drop(columns = ['SK_ID_BUREAU']), group_var = 'SK_ID_CURR', df_name = 'client')\n"
   ]
  },
  {
   "cell_type": "code",
   "execution_count": 10,
   "id": "bf94d6f2",
   "metadata": {
    "execution": {
     "iopub.execute_input": "2022-05-21T05:13:21.604325Z",
     "iopub.status.busy": "2022-05-21T05:13:21.604023Z",
     "iopub.status.idle": "2022-05-21T05:13:21.609263Z",
     "shell.execute_reply": "2022-05-21T05:13:21.608412Z"
    },
    "papermill": {
     "duration": 0.058482,
     "end_time": "2022-05-21T05:13:21.611207",
     "exception": false,
     "start_time": "2022-05-21T05:13:21.552725",
     "status": "completed"
    },
    "tags": []
   },
   "outputs": [
    {
     "name": "stdout",
     "output_type": "stream",
     "text": [
      "Original Number of Features 122\n"
     ]
    }
   ],
   "source": [
    "original_features = list(train.columns)\n",
    "print('Original Number of Features', len(original_features))"
   ]
  },
  {
   "cell_type": "code",
   "execution_count": 11,
   "id": "22ca3155",
   "metadata": {
    "execution": {
     "iopub.execute_input": "2022-05-21T05:13:21.714597Z",
     "iopub.status.busy": "2022-05-21T05:13:21.714281Z",
     "iopub.status.idle": "2022-05-21T05:13:32.618613Z",
     "shell.execute_reply": "2022-05-21T05:13:32.617371Z"
    },
    "papermill": {
     "duration": 10.95803,
     "end_time": "2022-05-21T05:13:32.621073",
     "exception": false,
     "start_time": "2022-05-21T05:13:21.663043",
     "status": "completed"
    },
    "tags": []
   },
   "outputs": [],
   "source": [
    "train = train.merge(bureau_counts, on = 'SK_ID_CURR', how='left')\n",
    "train = train.merge(bureau_agg, on = 'SK_ID_CURR', how='left')\n",
    "train = train.merge(bureau_balance_by_client, on = 'SK_ID_CURR', how='left')"
   ]
  },
  {
   "cell_type": "code",
   "execution_count": 12,
   "id": "e47272fc",
   "metadata": {
    "execution": {
     "iopub.execute_input": "2022-05-21T05:13:32.723001Z",
     "iopub.status.busy": "2022-05-21T05:13:32.722623Z",
     "iopub.status.idle": "2022-05-21T05:13:35.016325Z",
     "shell.execute_reply": "2022-05-21T05:13:35.015444Z"
    },
    "papermill": {
     "duration": 2.347773,
     "end_time": "2022-05-21T05:13:35.018783",
     "exception": false,
     "start_time": "2022-05-21T05:13:32.671010",
     "status": "completed"
    },
    "tags": []
   },
   "outputs": [],
   "source": [
    "test = test.merge(bureau_counts, on = 'SK_ID_CURR', how='left')\n",
    "test = test.merge(bureau_agg, on = 'SK_ID_CURR', how='left')\n",
    "test = test.merge(bureau_balance_by_client, on = 'SK_ID_CURR', how='left')"
   ]
  },
  {
   "cell_type": "code",
   "execution_count": 13,
   "id": "9bf33d24",
   "metadata": {
    "execution": {
     "iopub.execute_input": "2022-05-21T05:13:35.124013Z",
     "iopub.status.busy": "2022-05-21T05:13:35.123725Z",
     "iopub.status.idle": "2022-05-21T05:13:35.128445Z",
     "shell.execute_reply": "2022-05-21T05:13:35.127503Z"
    },
    "papermill": {
     "duration": 0.060167,
     "end_time": "2022-05-21T05:13:35.131170",
     "exception": false,
     "start_time": "2022-05-21T05:13:35.071003",
     "status": "completed"
    },
    "tags": []
   },
   "outputs": [
    {
     "name": "stdout",
     "output_type": "stream",
     "text": [
      "Number of features using previous loans from other institutions data:  333\n"
     ]
    }
   ],
   "source": [
    "new_features = list(train.columns)\n",
    "print('Number of features using previous loans from other institutions data: ', len(new_features))"
   ]
  },
  {
   "cell_type": "code",
   "execution_count": 14,
   "id": "00764cf8",
   "metadata": {
    "execution": {
     "iopub.execute_input": "2022-05-21T05:13:35.235939Z",
     "iopub.status.busy": "2022-05-21T05:13:35.235362Z",
     "iopub.status.idle": "2022-05-21T05:13:35.242200Z",
     "shell.execute_reply": "2022-05-21T05:13:35.241344Z"
    },
    "papermill": {
     "duration": 0.061265,
     "end_time": "2022-05-21T05:13:35.244285",
     "exception": false,
     "start_time": "2022-05-21T05:13:35.183020",
     "status": "completed"
    },
    "tags": []
   },
   "outputs": [],
   "source": [
    "def missing_values_table(df):\n",
    "    mis_val = df.isnull().sum()\n",
    "    mis_val_percent = df.isnull().sum() / len(df) * 100\n",
    "    \n",
    "    mis_val_table = pd.concat([mis_val,mis_val_percent], axis =1).rename(columns = {0:'Missing Values',1:'% of Total Values'})\n",
    "    mis_val_table = mis_val_table[mis_val_table.iloc[:,1]!=0].sort_values('% of Total Values', ascending = False).round(1)\n",
    "    \n",
    "    return mis_val_table"
   ]
  },
  {
   "cell_type": "code",
   "execution_count": 15,
   "id": "8601bfe8",
   "metadata": {
    "execution": {
     "iopub.execute_input": "2022-05-21T05:13:35.347500Z",
     "iopub.status.busy": "2022-05-21T05:13:35.347171Z",
     "iopub.status.idle": "2022-05-21T05:13:36.765154Z",
     "shell.execute_reply": "2022-05-21T05:13:36.763982Z"
    },
    "papermill": {
     "duration": 1.473248,
     "end_time": "2022-05-21T05:13:36.768566",
     "exception": false,
     "start_time": "2022-05-21T05:13:35.295318",
     "status": "completed"
    },
    "tags": []
   },
   "outputs": [
    {
     "data": {
      "text/html": [
       "<div>\n",
       "<style scoped>\n",
       "    .dataframe tbody tr th:only-of-type {\n",
       "        vertical-align: middle;\n",
       "    }\n",
       "\n",
       "    .dataframe tbody tr th {\n",
       "        vertical-align: top;\n",
       "    }\n",
       "\n",
       "    .dataframe thead th {\n",
       "        text-align: right;\n",
       "    }\n",
       "</style>\n",
       "<table border=\"1\" class=\"dataframe\">\n",
       "  <thead>\n",
       "    <tr style=\"text-align: right;\">\n",
       "      <th></th>\n",
       "      <th>Missing Values</th>\n",
       "      <th>% of Total Values</th>\n",
       "    </tr>\n",
       "  </thead>\n",
       "  <tbody>\n",
       "    <tr>\n",
       "      <th>bureau_AMT_ANNUITY_max</th>\n",
       "      <td>227502</td>\n",
       "      <td>74.0</td>\n",
       "    </tr>\n",
       "    <tr>\n",
       "      <th>bureau_AMT_ANNUITY_min</th>\n",
       "      <td>227502</td>\n",
       "      <td>74.0</td>\n",
       "    </tr>\n",
       "    <tr>\n",
       "      <th>bureau_AMT_ANNUITY_mean</th>\n",
       "      <td>227502</td>\n",
       "      <td>74.0</td>\n",
       "    </tr>\n",
       "    <tr>\n",
       "      <th>client_bureau_balance_MONTHS_BALANCE_mean_max</th>\n",
       "      <td>215280</td>\n",
       "      <td>70.0</td>\n",
       "    </tr>\n",
       "    <tr>\n",
       "      <th>client_bureau_balance_MONTHS_BALANCE_max_mean</th>\n",
       "      <td>215280</td>\n",
       "      <td>70.0</td>\n",
       "    </tr>\n",
       "  </tbody>\n",
       "</table>\n",
       "</div>"
      ],
      "text/plain": [
       "                                               Missing Values  \\\n",
       "bureau_AMT_ANNUITY_max                                 227502   \n",
       "bureau_AMT_ANNUITY_min                                 227502   \n",
       "bureau_AMT_ANNUITY_mean                                227502   \n",
       "client_bureau_balance_MONTHS_BALANCE_mean_max          215280   \n",
       "client_bureau_balance_MONTHS_BALANCE_max_mean          215280   \n",
       "\n",
       "                                               % of Total Values  \n",
       "bureau_AMT_ANNUITY_max                                      74.0  \n",
       "bureau_AMT_ANNUITY_min                                      74.0  \n",
       "bureau_AMT_ANNUITY_mean                                     74.0  \n",
       "client_bureau_balance_MONTHS_BALANCE_mean_max               70.0  \n",
       "client_bureau_balance_MONTHS_BALANCE_max_mean               70.0  "
      ]
     },
     "execution_count": 15,
     "metadata": {},
     "output_type": "execute_result"
    }
   ],
   "source": [
    "missing_train = missing_values_table(train)\n",
    "missing_train.head()"
   ]
  },
  {
   "cell_type": "code",
   "execution_count": 16,
   "id": "11425215",
   "metadata": {
    "execution": {
     "iopub.execute_input": "2022-05-21T05:13:36.884573Z",
     "iopub.status.busy": "2022-05-21T05:13:36.884266Z",
     "iopub.status.idle": "2022-05-21T05:13:36.890012Z",
     "shell.execute_reply": "2022-05-21T05:13:36.889212Z"
    },
    "papermill": {
     "duration": 0.060128,
     "end_time": "2022-05-21T05:13:36.892383",
     "exception": false,
     "start_time": "2022-05-21T05:13:36.832255",
     "status": "completed"
    },
    "tags": []
   },
   "outputs": [
    {
     "name": "stdout",
     "output_type": "stream",
     "text": [
      "0\n"
     ]
    }
   ],
   "source": [
    "missing_train_vars = list(missing_train[missing_train.iloc[:,1]>90].index)\n",
    "print(len(missing_train_vars))"
   ]
  },
  {
   "cell_type": "code",
   "execution_count": 17,
   "id": "056edc0a",
   "metadata": {
    "execution": {
     "iopub.execute_input": "2022-05-21T05:13:36.997760Z",
     "iopub.status.busy": "2022-05-21T05:13:36.997454Z",
     "iopub.status.idle": "2022-05-21T05:13:37.271019Z",
     "shell.execute_reply": "2022-05-21T05:13:37.270162Z"
    },
    "papermill": {
     "duration": 0.328396,
     "end_time": "2022-05-21T05:13:37.273170",
     "exception": false,
     "start_time": "2022-05-21T05:13:36.944774",
     "status": "completed"
    },
    "tags": []
   },
   "outputs": [
    {
     "data": {
      "text/html": [
       "<div>\n",
       "<style scoped>\n",
       "    .dataframe tbody tr th:only-of-type {\n",
       "        vertical-align: middle;\n",
       "    }\n",
       "\n",
       "    .dataframe tbody tr th {\n",
       "        vertical-align: top;\n",
       "    }\n",
       "\n",
       "    .dataframe thead th {\n",
       "        text-align: right;\n",
       "    }\n",
       "</style>\n",
       "<table border=\"1\" class=\"dataframe\">\n",
       "  <thead>\n",
       "    <tr style=\"text-align: right;\">\n",
       "      <th></th>\n",
       "      <th>Missing Values</th>\n",
       "      <th>% of Total Values</th>\n",
       "    </tr>\n",
       "  </thead>\n",
       "  <tbody>\n",
       "    <tr>\n",
       "      <th>COMMONAREA_MODE</th>\n",
       "      <td>33495</td>\n",
       "      <td>68.7</td>\n",
       "    </tr>\n",
       "    <tr>\n",
       "      <th>COMMONAREA_MEDI</th>\n",
       "      <td>33495</td>\n",
       "      <td>68.7</td>\n",
       "    </tr>\n",
       "    <tr>\n",
       "      <th>COMMONAREA_AVG</th>\n",
       "      <td>33495</td>\n",
       "      <td>68.7</td>\n",
       "    </tr>\n",
       "    <tr>\n",
       "      <th>NONLIVINGAPARTMENTS_AVG</th>\n",
       "      <td>33347</td>\n",
       "      <td>68.4</td>\n",
       "    </tr>\n",
       "    <tr>\n",
       "      <th>NONLIVINGAPARTMENTS_MODE</th>\n",
       "      <td>33347</td>\n",
       "      <td>68.4</td>\n",
       "    </tr>\n",
       "  </tbody>\n",
       "</table>\n",
       "</div>"
      ],
      "text/plain": [
       "                          Missing Values  % of Total Values\n",
       "COMMONAREA_MODE                    33495               68.7\n",
       "COMMONAREA_MEDI                    33495               68.7\n",
       "COMMONAREA_AVG                     33495               68.7\n",
       "NONLIVINGAPARTMENTS_AVG            33347               68.4\n",
       "NONLIVINGAPARTMENTS_MODE           33347               68.4"
      ]
     },
     "execution_count": 17,
     "metadata": {},
     "output_type": "execute_result"
    }
   ],
   "source": [
    "missing_test = missing_values_table(test)\n",
    "missing_test.head()"
   ]
  },
  {
   "cell_type": "code",
   "execution_count": 18,
   "id": "608242f2",
   "metadata": {
    "execution": {
     "iopub.execute_input": "2022-05-21T05:13:37.380225Z",
     "iopub.status.busy": "2022-05-21T05:13:37.379906Z",
     "iopub.status.idle": "2022-05-21T05:13:37.385718Z",
     "shell.execute_reply": "2022-05-21T05:13:37.385087Z"
    },
    "papermill": {
     "duration": 0.061178,
     "end_time": "2022-05-21T05:13:37.387707",
     "exception": false,
     "start_time": "2022-05-21T05:13:37.326529",
     "status": "completed"
    },
    "tags": []
   },
   "outputs": [
    {
     "name": "stdout",
     "output_type": "stream",
     "text": [
      "0\n"
     ]
    }
   ],
   "source": [
    "missing_test_vars = list(missing_test[missing_test.iloc[:,1]>90].index)\n",
    "print(len(missing_test_vars))"
   ]
  },
  {
   "cell_type": "code",
   "execution_count": 19,
   "id": "1fdb857e",
   "metadata": {
    "execution": {
     "iopub.execute_input": "2022-05-21T05:13:37.493899Z",
     "iopub.status.busy": "2022-05-21T05:13:37.493298Z",
     "iopub.status.idle": "2022-05-21T05:13:39.288856Z",
     "shell.execute_reply": "2022-05-21T05:13:39.287870Z"
    },
    "papermill": {
     "duration": 1.851386,
     "end_time": "2022-05-21T05:13:39.291210",
     "exception": false,
     "start_time": "2022-05-21T05:13:37.439824",
     "status": "completed"
    },
    "tags": []
   },
   "outputs": [],
   "source": [
    "train_labels = train['TARGET']\n",
    "train, test = train.align(test, join='inner', axis =1)\n",
    "train['TARGET'] = train_labels"
   ]
  },
  {
   "cell_type": "code",
   "execution_count": 20,
   "id": "ae17f378",
   "metadata": {
    "execution": {
     "iopub.execute_input": "2022-05-21T05:13:39.398305Z",
     "iopub.status.busy": "2022-05-21T05:13:39.398038Z",
     "iopub.status.idle": "2022-05-21T05:13:39.402398Z",
     "shell.execute_reply": "2022-05-21T05:13:39.401828Z"
    },
    "papermill": {
     "duration": 0.060644,
     "end_time": "2022-05-21T05:13:39.404497",
     "exception": false,
     "start_time": "2022-05-21T05:13:39.343853",
     "status": "completed"
    },
    "tags": []
   },
   "outputs": [
    {
     "name": "stdout",
     "output_type": "stream",
     "text": [
      "Training Data Shape:  (307511, 333)\n",
      "Testing Data Shape:  (48744, 332)\n"
     ]
    }
   ],
   "source": [
    "print('Training Data Shape: ', train.shape)\n",
    "print('Testing Data Shape: ', test.shape)"
   ]
  },
  {
   "cell_type": "code",
   "execution_count": 21,
   "id": "1cd01678",
   "metadata": {
    "execution": {
     "iopub.execute_input": "2022-05-21T05:13:39.511953Z",
     "iopub.status.busy": "2022-05-21T05:13:39.511690Z",
     "iopub.status.idle": "2022-05-21T05:15:11.205596Z",
     "shell.execute_reply": "2022-05-21T05:15:11.204733Z"
    },
    "papermill": {
     "duration": 91.750559,
     "end_time": "2022-05-21T05:15:11.208222",
     "exception": false,
     "start_time": "2022-05-21T05:13:39.457663",
     "status": "completed"
    },
    "tags": []
   },
   "outputs": [],
   "source": [
    "corrs = train.corr()"
   ]
  },
  {
   "cell_type": "code",
   "execution_count": 22,
   "id": "c69d3ff3",
   "metadata": {
    "execution": {
     "iopub.execute_input": "2022-05-21T05:15:11.315674Z",
     "iopub.status.busy": "2022-05-21T05:15:11.315215Z",
     "iopub.status.idle": "2022-05-21T05:15:11.325958Z",
     "shell.execute_reply": "2022-05-21T05:15:11.325427Z"
    },
    "papermill": {
     "duration": 0.066109,
     "end_time": "2022-05-21T05:15:11.327676",
     "exception": false,
     "start_time": "2022-05-21T05:15:11.261567",
     "status": "completed"
    },
    "tags": []
   },
   "outputs": [
    {
     "data": {
      "text/html": [
       "<div>\n",
       "<style scoped>\n",
       "    .dataframe tbody tr th:only-of-type {\n",
       "        vertical-align: middle;\n",
       "    }\n",
       "\n",
       "    .dataframe tbody tr th {\n",
       "        vertical-align: top;\n",
       "    }\n",
       "\n",
       "    .dataframe thead th {\n",
       "        text-align: right;\n",
       "    }\n",
       "</style>\n",
       "<table border=\"1\" class=\"dataframe\">\n",
       "  <thead>\n",
       "    <tr style=\"text-align: right;\">\n",
       "      <th></th>\n",
       "      <th>TARGET</th>\n",
       "    </tr>\n",
       "  </thead>\n",
       "  <tbody>\n",
       "    <tr>\n",
       "      <th>TARGET</th>\n",
       "      <td>1.000000</td>\n",
       "    </tr>\n",
       "    <tr>\n",
       "      <th>bureau_DAYS_CREDIT_mean</th>\n",
       "      <td>0.089729</td>\n",
       "    </tr>\n",
       "    <tr>\n",
       "      <th>client_bureau_balance_MONTHS_BALANCE_min_mean</th>\n",
       "      <td>0.089038</td>\n",
       "    </tr>\n",
       "    <tr>\n",
       "      <th>DAYS_BIRTH</th>\n",
       "      <td>0.078239</td>\n",
       "    </tr>\n",
       "    <tr>\n",
       "      <th>bureau_CREDIT_ACTIVE_Active_mean</th>\n",
       "      <td>0.077356</td>\n",
       "    </tr>\n",
       "    <tr>\n",
       "      <th>client_bureau_balance_MONTHS_BALANCE_mean_mean</th>\n",
       "      <td>0.076424</td>\n",
       "    </tr>\n",
       "    <tr>\n",
       "      <th>bureau_DAYS_CREDIT_min</th>\n",
       "      <td>0.075248</td>\n",
       "    </tr>\n",
       "    <tr>\n",
       "      <th>client_bureau_balance_MONTHS_BALANCE_min_min</th>\n",
       "      <td>0.073225</td>\n",
       "    </tr>\n",
       "    <tr>\n",
       "      <th>client_bureau_balance_MONTHS_BALANCE_sum_mean</th>\n",
       "      <td>0.072606</td>\n",
       "    </tr>\n",
       "    <tr>\n",
       "      <th>bureau_DAYS_CREDIT_UPDATE_mean</th>\n",
       "      <td>0.068927</td>\n",
       "    </tr>\n",
       "  </tbody>\n",
       "</table>\n",
       "</div>"
      ],
      "text/plain": [
       "                                                  TARGET\n",
       "TARGET                                          1.000000\n",
       "bureau_DAYS_CREDIT_mean                         0.089729\n",
       "client_bureau_balance_MONTHS_BALANCE_min_mean   0.089038\n",
       "DAYS_BIRTH                                      0.078239\n",
       "bureau_CREDIT_ACTIVE_Active_mean                0.077356\n",
       "client_bureau_balance_MONTHS_BALANCE_mean_mean  0.076424\n",
       "bureau_DAYS_CREDIT_min                          0.075248\n",
       "client_bureau_balance_MONTHS_BALANCE_min_min    0.073225\n",
       "client_bureau_balance_MONTHS_BALANCE_sum_mean   0.072606\n",
       "bureau_DAYS_CREDIT_UPDATE_mean                  0.068927"
      ]
     },
     "execution_count": 22,
     "metadata": {},
     "output_type": "execute_result"
    }
   ],
   "source": [
    "corrs = corrs.sort_values('TARGET', ascending = False)\n",
    "pd.DataFrame(corrs['TARGET'].head(10))"
   ]
  },
  {
   "cell_type": "code",
   "execution_count": 23,
   "id": "2a9eca02",
   "metadata": {
    "execution": {
     "iopub.execute_input": "2022-05-21T05:15:11.435950Z",
     "iopub.status.busy": "2022-05-21T05:15:11.435272Z",
     "iopub.status.idle": "2022-05-21T05:15:11.439911Z",
     "shell.execute_reply": "2022-05-21T05:15:11.439112Z"
    },
    "papermill": {
     "duration": 0.060567,
     "end_time": "2022-05-21T05:15:11.441875",
     "exception": false,
     "start_time": "2022-05-21T05:15:11.381308",
     "status": "completed"
    },
    "tags": []
   },
   "outputs": [],
   "source": [
    "plt.style.use('fivethirtyeight')"
   ]
  },
  {
   "cell_type": "code",
   "execution_count": 24,
   "id": "0ed51be4",
   "metadata": {
    "execution": {
     "iopub.execute_input": "2022-05-21T05:15:11.550866Z",
     "iopub.status.busy": "2022-05-21T05:15:11.550582Z",
     "iopub.status.idle": "2022-05-21T05:15:11.558019Z",
     "shell.execute_reply": "2022-05-21T05:15:11.557191Z"
    },
    "papermill": {
     "duration": 0.063958,
     "end_time": "2022-05-21T05:15:11.560175",
     "exception": false,
     "start_time": "2022-05-21T05:15:11.496217",
     "status": "completed"
    },
    "tags": []
   },
   "outputs": [],
   "source": [
    "def kde_plot(feature, df):\n",
    "    median_repaid = df.loc[df['TARGET']==0, feature].median()\n",
    "    median_not_repaid = df.loc[df['TARGET']==1, feature].median()\n",
    "    \n",
    "    plt.figure(figsize = (12, 6))\n",
    "    sns.kdeplot(df.loc[df['TARGET']==0, feature], label='target==0')\n",
    "    sns.kdeplot(df.loc[df['TARGET']==1, feature], label='target==1')\n",
    "    \n",
    "    plt.title('%s Distibution'%(feature)); plt.ylabel('Density'); plt.xlabel('%s'%feature)\n",
    "    \n",
    "    plt.legend()\n",
    "    print('corr: ', df['TARGET'].corr(df[feature]))\n",
    "    print('median value of repaid %0.4f'%median_repaid)\n",
    "    print('median value of not repaid %0.4f'%median_not_repaid)"
   ]
  },
  {
   "cell_type": "code",
   "execution_count": 25,
   "id": "ff6bcaa0",
   "metadata": {
    "execution": {
     "iopub.execute_input": "2022-05-21T05:15:11.668702Z",
     "iopub.status.busy": "2022-05-21T05:15:11.668383Z",
     "iopub.status.idle": "2022-05-21T05:15:12.482025Z",
     "shell.execute_reply": "2022-05-21T05:15:12.480987Z"
    },
    "papermill": {
     "duration": 0.870927,
     "end_time": "2022-05-21T05:15:12.484906",
     "exception": false,
     "start_time": "2022-05-21T05:15:11.613979",
     "status": "completed"
    },
    "tags": []
   },
   "outputs": [
    {
     "name": "stdout",
     "output_type": "stream",
     "text": [
      "corr:  0.07642449076705937\n",
      "median value of repaid -20.2500\n",
      "median value of not repaid -16.4129\n"
     ]
    },
    {
     "data": {
      "image/png": "[encoded data removed]",
      "text/plain": [
       "<Figure size 864x432 with 1 Axes>"
      ]
     },
     "metadata": {},
     "output_type": "display_data"
    }
   ],
   "source": [
    "kde_plot('client_bureau_balance_MONTHS_BALANCE_mean_mean',train)"
   ]
  },
  {
   "cell_type": "code",
   "execution_count": 26,
   "id": "e6972f7a",
   "metadata": {
    "execution": {
     "iopub.execute_input": "2022-05-21T05:15:12.599522Z",
     "iopub.status.busy": "2022-05-21T05:15:12.599206Z",
     "iopub.status.idle": "2022-05-21T05:15:12.630587Z",
     "shell.execute_reply": "2022-05-21T05:15:12.629785Z"
    },
    "papermill": {
     "duration": 0.091701,
     "end_time": "2022-05-21T05:15:12.633285",
     "exception": false,
     "start_time": "2022-05-21T05:15:12.541584",
     "status": "completed"
    },
    "tags": []
   },
   "outputs": [
    {
     "data": {
      "text/html": [
       "<div>\n",
       "<style scoped>\n",
       "    .dataframe tbody tr th:only-of-type {\n",
       "        vertical-align: middle;\n",
       "    }\n",
       "\n",
       "    .dataframe tbody tr th {\n",
       "        vertical-align: top;\n",
       "    }\n",
       "\n",
       "    .dataframe thead th {\n",
       "        text-align: right;\n",
       "    }\n",
       "</style>\n",
       "<table border=\"1\" class=\"dataframe\">\n",
       "  <thead>\n",
       "    <tr style=\"text-align: right;\">\n",
       "      <th></th>\n",
       "      <th>SK_ID_CURR</th>\n",
       "      <th>CNT_CHILDREN</th>\n",
       "      <th>AMT_INCOME_TOTAL</th>\n",
       "      <th>AMT_CREDIT</th>\n",
       "      <th>AMT_ANNUITY</th>\n",
       "      <th>AMT_GOODS_PRICE</th>\n",
       "      <th>REGION_POPULATION_RELATIVE</th>\n",
       "      <th>DAYS_BIRTH</th>\n",
       "      <th>DAYS_EMPLOYED</th>\n",
       "      <th>DAYS_REGISTRATION</th>\n",
       "      <th>...</th>\n",
       "      <th>client_bureau_balance_STATUS_X_sum_min</th>\n",
       "      <th>client_bureau_balance_STATUS_X_sum_max</th>\n",
       "      <th>client_bureau_balance_STATUS_X_sum_count</th>\n",
       "      <th>client_bureau_balance_STATUS_X_sum_sum</th>\n",
       "      <th>client_bureau_balance_STATUS_X_mean_mean</th>\n",
       "      <th>client_bureau_balance_STATUS_X_mean_min</th>\n",
       "      <th>client_bureau_balance_STATUS_X_mean_max</th>\n",
       "      <th>client_bureau_balance_STATUS_X_mean_count</th>\n",
       "      <th>client_bureau_balance_STATUS_X_mean_sum</th>\n",
       "      <th>TARGET</th>\n",
       "    </tr>\n",
       "  </thead>\n",
       "  <tbody>\n",
       "    <tr>\n",
       "      <th>TARGET</th>\n",
       "      <td>-0.002108</td>\n",
       "      <td>0.019187</td>\n",
       "      <td>-0.003982</td>\n",
       "      <td>-0.030369</td>\n",
       "      <td>-0.012817</td>\n",
       "      <td>-0.039645</td>\n",
       "      <td>-0.037227</td>\n",
       "      <td>0.078239</td>\n",
       "      <td>-0.044932</td>\n",
       "      <td>0.041975</td>\n",
       "      <td>...</td>\n",
       "      <td>-0.014557</td>\n",
       "      <td>-0.030919</td>\n",
       "      <td>0.010669</td>\n",
       "      <td>-0.008445</td>\n",
       "      <td>0.000408</td>\n",
       "      <td>-0.001056</td>\n",
       "      <td>0.001110</td>\n",
       "      <td>0.010669</td>\n",
       "      <td>0.009862</td>\n",
       "      <td>1.000000</td>\n",
       "    </tr>\n",
       "    <tr>\n",
       "      <th>bureau_DAYS_CREDIT_mean</th>\n",
       "      <td>0.003636</td>\n",
       "      <td>0.026094</td>\n",
       "      <td>-0.008837</td>\n",
       "      <td>-0.084393</td>\n",
       "      <td>-0.066503</td>\n",
       "      <td>-0.086089</td>\n",
       "      <td>-0.019976</td>\n",
       "      <td>0.203135</td>\n",
       "      <td>-0.043686</td>\n",
       "      <td>0.096894</td>\n",
       "      <td>...</td>\n",
       "      <td>-0.157844</td>\n",
       "      <td>-0.307838</td>\n",
       "      <td>-0.026203</td>\n",
       "      <td>-0.113809</td>\n",
       "      <td>0.014804</td>\n",
       "      <td>0.058192</td>\n",
       "      <td>-0.047574</td>\n",
       "      <td>-0.026203</td>\n",
       "      <td>-0.013751</td>\n",
       "      <td>0.089729</td>\n",
       "    </tr>\n",
       "    <tr>\n",
       "      <th>client_bureau_balance_MONTHS_BALANCE_min_mean</th>\n",
       "      <td>0.003236</td>\n",
       "      <td>0.021236</td>\n",
       "      <td>-0.025563</td>\n",
       "      <td>-0.083456</td>\n",
       "      <td>-0.058436</td>\n",
       "      <td>-0.085685</td>\n",
       "      <td>-0.013693</td>\n",
       "      <td>0.200788</td>\n",
       "      <td>-0.041321</td>\n",
       "      <td>0.091993</td>\n",
       "      <td>...</td>\n",
       "      <td>-0.157790</td>\n",
       "      <td>-0.307970</td>\n",
       "      <td>-0.128957</td>\n",
       "      <td>-0.245166</td>\n",
       "      <td>0.014839</td>\n",
       "      <td>0.058225</td>\n",
       "      <td>-0.047631</td>\n",
       "      <td>-0.128957</td>\n",
       "      <td>-0.061936</td>\n",
       "      <td>0.089038</td>\n",
       "    </tr>\n",
       "    <tr>\n",
       "      <th>DAYS_BIRTH</th>\n",
       "      <td>-0.001500</td>\n",
       "      <td>0.330938</td>\n",
       "      <td>0.027261</td>\n",
       "      <td>-0.055436</td>\n",
       "      <td>0.009445</td>\n",
       "      <td>-0.053442</td>\n",
       "      <td>-0.029582</td>\n",
       "      <td>1.000000</td>\n",
       "      <td>-0.615864</td>\n",
       "      <td>0.331912</td>\n",
       "      <td>...</td>\n",
       "      <td>-0.016743</td>\n",
       "      <td>-0.074272</td>\n",
       "      <td>-0.008141</td>\n",
       "      <td>-0.025157</td>\n",
       "      <td>-0.009988</td>\n",
       "      <td>0.014397</td>\n",
       "      <td>-0.032401</td>\n",
       "      <td>-0.008141</td>\n",
       "      <td>-0.009433</td>\n",
       "      <td>0.078239</td>\n",
       "    </tr>\n",
       "    <tr>\n",
       "      <th>bureau_CREDIT_ACTIVE_Active_mean</th>\n",
       "      <td>0.001229</td>\n",
       "      <td>0.013221</td>\n",
       "      <td>0.016527</td>\n",
       "      <td>-0.021280</td>\n",
       "      <td>-0.037859</td>\n",
       "      <td>-0.026544</td>\n",
       "      <td>0.015857</td>\n",
       "      <td>0.116114</td>\n",
       "      <td>-0.049473</td>\n",
       "      <td>0.046167</td>\n",
       "      <td>...</td>\n",
       "      <td>0.012146</td>\n",
       "      <td>-0.097456</td>\n",
       "      <td>-0.074026</td>\n",
       "      <td>-0.045975</td>\n",
       "      <td>0.139934</td>\n",
       "      <td>0.156642</td>\n",
       "      <td>0.034106</td>\n",
       "      <td>-0.074026</td>\n",
       "      <td>-0.007553</td>\n",
       "      <td>0.077356</td>\n",
       "    </tr>\n",
       "    <tr>\n",
       "      <th>...</th>\n",
       "      <td>...</td>\n",
       "      <td>...</td>\n",
       "      <td>...</td>\n",
       "      <td>...</td>\n",
       "      <td>...</td>\n",
       "      <td>...</td>\n",
       "      <td>...</td>\n",
       "      <td>...</td>\n",
       "      <td>...</td>\n",
       "      <td>...</td>\n",
       "      <td>...</td>\n",
       "      <td>...</td>\n",
       "      <td>...</td>\n",
       "      <td>...</td>\n",
       "      <td>...</td>\n",
       "      <td>...</td>\n",
       "      <td>...</td>\n",
       "      <td>...</td>\n",
       "      <td>...</td>\n",
       "      <td>...</td>\n",
       "      <td>...</td>\n",
       "    </tr>\n",
       "    <tr>\n",
       "      <th>bureau_CREDIT_ACTIVE_Closed_mean</th>\n",
       "      <td>-0.000463</td>\n",
       "      <td>-0.013071</td>\n",
       "      <td>-0.016815</td>\n",
       "      <td>0.021459</td>\n",
       "      <td>0.037671</td>\n",
       "      <td>0.026702</td>\n",
       "      <td>-0.017241</td>\n",
       "      <td>-0.115926</td>\n",
       "      <td>0.050521</td>\n",
       "      <td>-0.046846</td>\n",
       "      <td>...</td>\n",
       "      <td>-0.015712</td>\n",
       "      <td>0.092723</td>\n",
       "      <td>0.073930</td>\n",
       "      <td>0.044342</td>\n",
       "      <td>-0.142027</td>\n",
       "      <td>-0.158011</td>\n",
       "      <td>-0.036420</td>\n",
       "      <td>0.073930</td>\n",
       "      <td>0.006860</td>\n",
       "      <td>-0.079369</td>\n",
       "    </tr>\n",
       "    <tr>\n",
       "      <th>client_bureau_balance_MONTHS_BALANCE_count_mean</th>\n",
       "      <td>-0.004068</td>\n",
       "      <td>-0.026412</td>\n",
       "      <td>0.023685</td>\n",
       "      <td>0.071355</td>\n",
       "      <td>0.071230</td>\n",
       "      <td>0.073737</td>\n",
       "      <td>0.027155</td>\n",
       "      <td>-0.160568</td>\n",
       "      <td>0.033628</td>\n",
       "      <td>-0.076290</td>\n",
       "      <td>...</td>\n",
       "      <td>0.222072</td>\n",
       "      <td>0.367959</td>\n",
       "      <td>0.045621</td>\n",
       "      <td>0.278595</td>\n",
       "      <td>0.004090</td>\n",
       "      <td>-0.028684</td>\n",
       "      <td>0.056408</td>\n",
       "      <td>0.045621</td>\n",
       "      <td>0.023920</td>\n",
       "      <td>-0.080193</td>\n",
       "    </tr>\n",
       "    <tr>\n",
       "      <th>EXT_SOURCE_1</th>\n",
       "      <td>0.000082</td>\n",
       "      <td>-0.138470</td>\n",
       "      <td>0.026232</td>\n",
       "      <td>0.168429</td>\n",
       "      <td>0.119398</td>\n",
       "      <td>0.175502</td>\n",
       "      <td>0.099997</td>\n",
       "      <td>-0.600610</td>\n",
       "      <td>0.289848</td>\n",
       "      <td>-0.181095</td>\n",
       "      <td>...</td>\n",
       "      <td>0.002111</td>\n",
       "      <td>0.097395</td>\n",
       "      <td>0.010779</td>\n",
       "      <td>0.035855</td>\n",
       "      <td>0.021582</td>\n",
       "      <td>-0.021389</td>\n",
       "      <td>0.061695</td>\n",
       "      <td>0.010779</td>\n",
       "      <td>0.015403</td>\n",
       "      <td>-0.155317</td>\n",
       "    </tr>\n",
       "    <tr>\n",
       "      <th>EXT_SOURCE_2</th>\n",
       "      <td>0.002342</td>\n",
       "      <td>-0.018015</td>\n",
       "      <td>0.060925</td>\n",
       "      <td>0.131228</td>\n",
       "      <td>0.125804</td>\n",
       "      <td>0.139367</td>\n",
       "      <td>0.198924</td>\n",
       "      <td>-0.091996</td>\n",
       "      <td>-0.020767</td>\n",
       "      <td>-0.059913</td>\n",
       "      <td>...</td>\n",
       "      <td>0.024821</td>\n",
       "      <td>0.055341</td>\n",
       "      <td>-0.000163</td>\n",
       "      <td>0.024739</td>\n",
       "      <td>0.032212</td>\n",
       "      <td>0.010258</td>\n",
       "      <td>0.034839</td>\n",
       "      <td>-0.000163</td>\n",
       "      <td>0.012558</td>\n",
       "      <td>-0.160472</td>\n",
       "    </tr>\n",
       "    <tr>\n",
       "      <th>EXT_SOURCE_3</th>\n",
       "      <td>0.000222</td>\n",
       "      <td>-0.042710</td>\n",
       "      <td>-0.030229</td>\n",
       "      <td>0.043516</td>\n",
       "      <td>0.030752</td>\n",
       "      <td>0.047717</td>\n",
       "      <td>-0.006001</td>\n",
       "      <td>-0.205478</td>\n",
       "      <td>0.113434</td>\n",
       "      <td>-0.107549</td>\n",
       "      <td>...</td>\n",
       "      <td>0.098728</td>\n",
       "      <td>0.032298</td>\n",
       "      <td>-0.125794</td>\n",
       "      <td>-0.029959</td>\n",
       "      <td>-0.039872</td>\n",
       "      <td>0.026446</td>\n",
       "      <td>-0.111652</td>\n",
       "      <td>-0.125794</td>\n",
       "      <td>-0.096096</td>\n",
       "      <td>-0.178919</td>\n",
       "    </tr>\n",
       "  </tbody>\n",
       "</table>\n",
       "<p>317 rows × 317 columns</p>\n",
       "</div>"
      ],
      "text/plain": [
       "                                                 SK_ID_CURR  CNT_CHILDREN  \\\n",
       "TARGET                                            -0.002108      0.019187   \n",
       "bureau_DAYS_CREDIT_mean                            0.003636      0.026094   \n",
       "client_bureau_balance_MONTHS_BALANCE_min_mean      0.003236      0.021236   \n",
       "DAYS_BIRTH                                        -0.001500      0.330938   \n",
       "bureau_CREDIT_ACTIVE_Active_mean                   0.001229      0.013221   \n",
       "...                                                     ...           ...   \n",
       "bureau_CREDIT_ACTIVE_Closed_mean                  -0.000463     -0.013071   \n",
       "client_bureau_balance_MONTHS_BALANCE_count_mean   -0.004068     -0.026412   \n",
       "EXT_SOURCE_1                                       0.000082     -0.138470   \n",
       "EXT_SOURCE_2                                       0.002342     -0.018015   \n",
       "EXT_SOURCE_3                                       0.000222     -0.042710   \n",
       "\n",
       "                                                 AMT_INCOME_TOTAL  AMT_CREDIT  \\\n",
       "TARGET                                                  -0.003982   -0.030369   \n",
       "bureau_DAYS_CREDIT_mean                                 -0.008837   -0.084393   \n",
       "client_bureau_balance_MONTHS_BALANCE_min_mean           -0.025563   -0.083456   \n",
       "DAYS_BIRTH                                               0.027261   -0.055436   \n",
       "bureau_CREDIT_ACTIVE_Active_mean                         0.016527   -0.021280   \n",
       "...                                                           ...         ...   \n",
       "bureau_CREDIT_ACTIVE_Closed_mean                        -0.016815    0.021459   \n",
       "client_bureau_balance_MONTHS_BALANCE_count_mean          0.023685    0.071355   \n",
       "EXT_SOURCE_1                                             0.026232    0.168429   \n",
       "EXT_SOURCE_2                                             0.060925    0.131228   \n",
       "EXT_SOURCE_3                                            -0.030229    0.043516   \n",
       "\n",
       "                                                 AMT_ANNUITY  AMT_GOODS_PRICE  \\\n",
       "TARGET                                             -0.012817        -0.039645   \n",
       "bureau_DAYS_CREDIT_mean                            -0.066503        -0.086089   \n",
       "client_bureau_balance_MONTHS_BALANCE_min_mean      -0.058436        -0.085685   \n",
       "DAYS_BIRTH                                          0.009445        -0.053442   \n",
       "bureau_CREDIT_ACTIVE_Active_mean                   -0.037859        -0.026544   \n",
       "...                                                      ...              ...   \n",
       "bureau_CREDIT_ACTIVE_Closed_mean                    0.037671         0.026702   \n",
       "client_bureau_balance_MONTHS_BALANCE_count_mean     0.071230         0.073737   \n",
       "EXT_SOURCE_1                                        0.119398         0.175502   \n",
       "EXT_SOURCE_2                                        0.125804         0.139367   \n",
       "EXT_SOURCE_3                                        0.030752         0.047717   \n",
       "\n",
       "                                                 REGION_POPULATION_RELATIVE  \\\n",
       "TARGET                                                            -0.037227   \n",
       "bureau_DAYS_CREDIT_mean                                           -0.019976   \n",
       "client_bureau_balance_MONTHS_BALANCE_min_mean                     -0.013693   \n",
       "DAYS_BIRTH                                                        -0.029582   \n",
       "bureau_CREDIT_ACTIVE_Active_mean                                   0.015857   \n",
       "...                                                                     ...   \n",
       "bureau_CREDIT_ACTIVE_Closed_mean                                  -0.017241   \n",
       "client_bureau_balance_MONTHS_BALANCE_count_mean                    0.027155   \n",
       "EXT_SOURCE_1                                                       0.099997   \n",
       "EXT_SOURCE_2                                                       0.198924   \n",
       "EXT_SOURCE_3                                                      -0.006001   \n",
       "\n",
       "                                                 DAYS_BIRTH  DAYS_EMPLOYED  \\\n",
       "TARGET                                             0.078239      -0.044932   \n",
       "bureau_DAYS_CREDIT_mean                            0.203135      -0.043686   \n",
       "client_bureau_balance_MONTHS_BALANCE_min_mean      0.200788      -0.041321   \n",
       "DAYS_BIRTH                                         1.000000      -0.615864   \n",
       "bureau_CREDIT_ACTIVE_Active_mean                   0.116114      -0.049473   \n",
       "...                                                     ...            ...   \n",
       "bureau_CREDIT_ACTIVE_Closed_mean                  -0.115926       0.050521   \n",
       "client_bureau_balance_MONTHS_BALANCE_count_mean   -0.160568       0.033628   \n",
       "EXT_SOURCE_1                                      -0.600610       0.289848   \n",
       "EXT_SOURCE_2                                      -0.091996      -0.020767   \n",
       "EXT_SOURCE_3                                      -0.205478       0.113434   \n",
       "\n",
       "                                                 DAYS_REGISTRATION  ...  \\\n",
       "TARGET                                                    0.041975  ...   \n",
       "bureau_DAYS_CREDIT_mean                                   0.096894  ...   \n",
       "client_bureau_balance_MONTHS_BALANCE_min_mean             0.091993  ...   \n",
       "DAYS_BIRTH                                                0.331912  ...   \n",
       "bureau_CREDIT_ACTIVE_Active_mean                          0.046167  ...   \n",
       "...                                                            ...  ...   \n",
       "bureau_CREDIT_ACTIVE_Closed_mean                         -0.046846  ...   \n",
       "client_bureau_balance_MONTHS_BALANCE_count_mean          -0.076290  ...   \n",
       "EXT_SOURCE_1                                             -0.181095  ...   \n",
       "EXT_SOURCE_2                                             -0.059913  ...   \n",
       "EXT_SOURCE_3                                             -0.107549  ...   \n",
       "\n",
       "                                                 client_bureau_balance_STATUS_X_sum_min  \\\n",
       "TARGET                                                                        -0.014557   \n",
       "bureau_DAYS_CREDIT_mean                                                       -0.157844   \n",
       "client_bureau_balance_MONTHS_BALANCE_min_mean                                 -0.157790   \n",
       "DAYS_BIRTH                                                                    -0.016743   \n",
       "bureau_CREDIT_ACTIVE_Active_mean                                               0.012146   \n",
       "...                                                                                 ...   \n",
       "bureau_CREDIT_ACTIVE_Closed_mean                                              -0.015712   \n",
       "client_bureau_balance_MONTHS_BALANCE_count_mean                                0.222072   \n",
       "EXT_SOURCE_1                                                                   0.002111   \n",
       "EXT_SOURCE_2                                                                   0.024821   \n",
       "EXT_SOURCE_3                                                                   0.098728   \n",
       "\n",
       "                                                 client_bureau_balance_STATUS_X_sum_max  \\\n",
       "TARGET                                                                        -0.030919   \n",
       "bureau_DAYS_CREDIT_mean                                                       -0.307838   \n",
       "client_bureau_balance_MONTHS_BALANCE_min_mean                                 -0.307970   \n",
       "DAYS_BIRTH                                                                    -0.074272   \n",
       "bureau_CREDIT_ACTIVE_Active_mean                                              -0.097456   \n",
       "...                                                                                 ...   \n",
       "bureau_CREDIT_ACTIVE_Closed_mean                                               0.092723   \n",
       "client_bureau_balance_MONTHS_BALANCE_count_mean                                0.367959   \n",
       "EXT_SOURCE_1                                                                   0.097395   \n",
       "EXT_SOURCE_2                                                                   0.055341   \n",
       "EXT_SOURCE_3                                                                   0.032298   \n",
       "\n",
       "                                                 client_bureau_balance_STATUS_X_sum_count  \\\n",
       "TARGET                                                                           0.010669   \n",
       "bureau_DAYS_CREDIT_mean                                                         -0.026203   \n",
       "client_bureau_balance_MONTHS_BALANCE_min_mean                                   -0.128957   \n",
       "DAYS_BIRTH                                                                      -0.008141   \n",
       "bureau_CREDIT_ACTIVE_Active_mean                                                -0.074026   \n",
       "...                                                                                   ...   \n",
       "bureau_CREDIT_ACTIVE_Closed_mean                                                 0.073930   \n",
       "client_bureau_balance_MONTHS_BALANCE_count_mean                                  0.045621   \n",
       "EXT_SOURCE_1                                                                     0.010779   \n",
       "EXT_SOURCE_2                                                                    -0.000163   \n",
       "EXT_SOURCE_3                                                                    -0.125794   \n",
       "\n",
       "                                                 client_bureau_balance_STATUS_X_sum_sum  \\\n",
       "TARGET                                                                        -0.008445   \n",
       "bureau_DAYS_CREDIT_mean                                                       -0.113809   \n",
       "client_bureau_balance_MONTHS_BALANCE_min_mean                                 -0.245166   \n",
       "DAYS_BIRTH                                                                    -0.025157   \n",
       "bureau_CREDIT_ACTIVE_Active_mean                                              -0.045975   \n",
       "...                                                                                 ...   \n",
       "bureau_CREDIT_ACTIVE_Closed_mean                                               0.044342   \n",
       "client_bureau_balance_MONTHS_BALANCE_count_mean                                0.278595   \n",
       "EXT_SOURCE_1                                                                   0.035855   \n",
       "EXT_SOURCE_2                                                                   0.024739   \n",
       "EXT_SOURCE_3                                                                  -0.029959   \n",
       "\n",
       "                                                 client_bureau_balance_STATUS_X_mean_mean  \\\n",
       "TARGET                                                                           0.000408   \n",
       "bureau_DAYS_CREDIT_mean                                                          0.014804   \n",
       "client_bureau_balance_MONTHS_BALANCE_min_mean                                    0.014839   \n",
       "DAYS_BIRTH                                                                      -0.009988   \n",
       "bureau_CREDIT_ACTIVE_Active_mean                                                 0.139934   \n",
       "...                                                                                   ...   \n",
       "bureau_CREDIT_ACTIVE_Closed_mean                                                -0.142027   \n",
       "client_bureau_balance_MONTHS_BALANCE_count_mean                                  0.004090   \n",
       "EXT_SOURCE_1                                                                     0.021582   \n",
       "EXT_SOURCE_2                                                                     0.032212   \n",
       "EXT_SOURCE_3                                                                    -0.039872   \n",
       "\n",
       "                                                 client_bureau_balance_STATUS_X_mean_min  \\\n",
       "TARGET                                                                         -0.001056   \n",
       "bureau_DAYS_CREDIT_mean                                                         0.058192   \n",
       "client_bureau_balance_MONTHS_BALANCE_min_mean                                   0.058225   \n",
       "DAYS_BIRTH                                                                      0.014397   \n",
       "bureau_CREDIT_ACTIVE_Active_mean                                                0.156642   \n",
       "...                                                                                  ...   \n",
       "bureau_CREDIT_ACTIVE_Closed_mean                                               -0.158011   \n",
       "client_bureau_balance_MONTHS_BALANCE_count_mean                                -0.028684   \n",
       "EXT_SOURCE_1                                                                   -0.021389   \n",
       "EXT_SOURCE_2                                                                    0.010258   \n",
       "EXT_SOURCE_3                                                                    0.026446   \n",
       "\n",
       "                                                 client_bureau_balance_STATUS_X_mean_max  \\\n",
       "TARGET                                                                          0.001110   \n",
       "bureau_DAYS_CREDIT_mean                                                        -0.047574   \n",
       "client_bureau_balance_MONTHS_BALANCE_min_mean                                  -0.047631   \n",
       "DAYS_BIRTH                                                                     -0.032401   \n",
       "bureau_CREDIT_ACTIVE_Active_mean                                                0.034106   \n",
       "...                                                                                  ...   \n",
       "bureau_CREDIT_ACTIVE_Closed_mean                                               -0.036420   \n",
       "client_bureau_balance_MONTHS_BALANCE_count_mean                                 0.056408   \n",
       "EXT_SOURCE_1                                                                    0.061695   \n",
       "EXT_SOURCE_2                                                                    0.034839   \n",
       "EXT_SOURCE_3                                                                   -0.111652   \n",
       "\n",
       "                                                 client_bureau_balance_STATUS_X_mean_count  \\\n",
       "TARGET                                                                            0.010669   \n",
       "bureau_DAYS_CREDIT_mean                                                          -0.026203   \n",
       "client_bureau_balance_MONTHS_BALANCE_min_mean                                    -0.128957   \n",
       "DAYS_BIRTH                                                                       -0.008141   \n",
       "bureau_CREDIT_ACTIVE_Active_mean                                                 -0.074026   \n",
       "...                                                                                    ...   \n",
       "bureau_CREDIT_ACTIVE_Closed_mean                                                  0.073930   \n",
       "client_bureau_balance_MONTHS_BALANCE_count_mean                                   0.045621   \n",
       "EXT_SOURCE_1                                                                      0.010779   \n",
       "EXT_SOURCE_2                                                                     -0.000163   \n",
       "EXT_SOURCE_3                                                                     -0.125794   \n",
       "\n",
       "                                                 client_bureau_balance_STATUS_X_mean_sum  \\\n",
       "TARGET                                                                          0.009862   \n",
       "bureau_DAYS_CREDIT_mean                                                        -0.013751   \n",
       "client_bureau_balance_MONTHS_BALANCE_min_mean                                  -0.061936   \n",
       "DAYS_BIRTH                                                                     -0.009433   \n",
       "bureau_CREDIT_ACTIVE_Active_mean                                               -0.007553   \n",
       "...                                                                                  ...   \n",
       "bureau_CREDIT_ACTIVE_Closed_mean                                                0.006860   \n",
       "client_bureau_balance_MONTHS_BALANCE_count_mean                                 0.023920   \n",
       "EXT_SOURCE_1                                                                    0.015403   \n",
       "EXT_SOURCE_2                                                                    0.012558   \n",
       "EXT_SOURCE_3                                                                   -0.096096   \n",
       "\n",
       "                                                   TARGET  \n",
       "TARGET                                           1.000000  \n",
       "bureau_DAYS_CREDIT_mean                          0.089729  \n",
       "client_bureau_balance_MONTHS_BALANCE_min_mean    0.089038  \n",
       "DAYS_BIRTH                                       0.078239  \n",
       "bureau_CREDIT_ACTIVE_Active_mean                 0.077356  \n",
       "...                                                   ...  \n",
       "bureau_CREDIT_ACTIVE_Closed_mean                -0.079369  \n",
       "client_bureau_balance_MONTHS_BALANCE_count_mean -0.080193  \n",
       "EXT_SOURCE_1                                    -0.155317  \n",
       "EXT_SOURCE_2                                    -0.160472  \n",
       "EXT_SOURCE_3                                    -0.178919  \n",
       "\n",
       "[317 rows x 317 columns]"
      ]
     },
     "execution_count": 26,
     "metadata": {},
     "output_type": "execute_result"
    }
   ],
   "source": [
    "corrs"
   ]
  },
  {
   "cell_type": "code",
   "execution_count": 27,
   "id": "a3161174",
   "metadata": {
    "execution": {
     "iopub.execute_input": "2022-05-21T05:15:12.749401Z",
     "iopub.status.busy": "2022-05-21T05:15:12.748853Z",
     "iopub.status.idle": "2022-05-21T05:15:12.855780Z",
     "shell.execute_reply": "2022-05-21T05:15:12.855052Z"
    },
    "papermill": {
     "duration": 0.167563,
     "end_time": "2022-05-21T05:15:12.858032",
     "exception": false,
     "start_time": "2022-05-21T05:15:12.690469",
     "status": "completed"
    },
    "tags": []
   },
   "outputs": [],
   "source": [
    "threshold = 0.8\n",
    "\n",
    "above_threshold_vars ={}\n",
    "\n",
    "for col in corrs:\n",
    "    above_threshold_vars[col] = list(corrs[corrs[col]>threshold].index)"
   ]
  },
  {
   "cell_type": "code",
   "execution_count": 28,
   "id": "fce15db2",
   "metadata": {
    "execution": {
     "iopub.execute_input": "2022-05-21T05:15:12.991466Z",
     "iopub.status.busy": "2022-05-21T05:15:12.990903Z",
     "iopub.status.idle": "2022-05-21T05:15:13.001701Z",
     "shell.execute_reply": "2022-05-21T05:15:13.000602Z"
    },
    "papermill": {
     "duration": 0.085852,
     "end_time": "2022-05-21T05:15:13.003919",
     "exception": false,
     "start_time": "2022-05-21T05:15:12.918067",
     "status": "completed"
    },
    "tags": []
   },
   "outputs": [
    {
     "name": "stdout",
     "output_type": "stream",
     "text": [
      "Number of columns to remove:  134\n"
     ]
    }
   ],
   "source": [
    "cols_to_remove = []\n",
    "cols_seen = []\n",
    "cols_to_remove_pair = []\n",
    "\n",
    "for key, value in above_threshold_vars.items():\n",
    "    cols_seen.append(key)\n",
    "    for x in value:\n",
    "        if x == key:\n",
    "            next\n",
    "        else:\n",
    "            if x not in cols_seen:\n",
    "                cols_to_remove.append(x)\n",
    "                cols_to_remove_pair.append(key)\n",
    "cols_to_remove = list(set(cols_to_remove))\n",
    "print('Number of columns to remove: ', len(cols_to_remove))"
   ]
  },
  {
   "cell_type": "code",
   "execution_count": 29,
   "id": "71740093",
   "metadata": {
    "execution": {
     "iopub.execute_input": "2022-05-21T05:15:13.120442Z",
     "iopub.status.busy": "2022-05-21T05:15:13.119793Z",
     "iopub.status.idle": "2022-05-21T05:15:13.499869Z",
     "shell.execute_reply": "2022-05-21T05:15:13.499095Z"
    },
    "papermill": {
     "duration": 0.440906,
     "end_time": "2022-05-21T05:15:13.502208",
     "exception": false,
     "start_time": "2022-05-21T05:15:13.061302",
     "status": "completed"
    },
    "tags": []
   },
   "outputs": [],
   "source": [
    "train_corrs_removed = train.drop(columns = cols_to_remove)\n",
    "test_corrs_removed = test.drop(columns = cols_to_remove)"
   ]
  },
  {
   "cell_type": "code",
   "execution_count": 30,
   "id": "313ec14f",
   "metadata": {
    "execution": {
     "iopub.execute_input": "2022-05-21T05:15:13.619521Z",
     "iopub.status.busy": "2022-05-21T05:15:13.618946Z",
     "iopub.status.idle": "2022-05-21T05:15:13.625249Z",
     "shell.execute_reply": "2022-05-21T05:15:13.624036Z"
    },
    "papermill": {
     "duration": 0.06775,
     "end_time": "2022-05-21T05:15:13.628056",
     "exception": false,
     "start_time": "2022-05-21T05:15:13.560306",
     "status": "completed"
    },
    "tags": []
   },
   "outputs": [
    {
     "name": "stdout",
     "output_type": "stream",
     "text": [
      "Traning Corrs Removed Shape: (307511, 199)\n",
      "Testing Corrs Removed Shape: (48744, 198)\n"
     ]
    }
   ],
   "source": [
    "print('Traning Corrs Removed Shape:',train_corrs_removed.shape)\n",
    "print('Testing Corrs Removed Shape:',test_corrs_removed.shape)"
   ]
  },
  {
   "cell_type": "code",
   "execution_count": 31,
   "id": "7f8658b8",
   "metadata": {
    "execution": {
     "iopub.execute_input": "2022-05-21T05:15:13.746310Z",
     "iopub.status.busy": "2022-05-21T05:15:13.745645Z",
     "iopub.status.idle": "2022-05-21T05:15:14.842068Z",
     "shell.execute_reply": "2022-05-21T05:15:14.841158Z"
    },
    "papermill": {
     "duration": 1.15819,
     "end_time": "2022-05-21T05:15:14.844557",
     "exception": false,
     "start_time": "2022-05-21T05:15:13.686367",
     "status": "completed"
    },
    "tags": []
   },
   "outputs": [
    {
     "data": {
      "text/html": [
       "<style type='text/css'>\n",
       ".datatable table.frame { margin-bottom: 0; }\n",
       ".datatable table.frame thead { border-bottom: none; }\n",
       ".datatable table.frame tr.coltypes td {  color: #FFFFFF;  line-height: 6px;  padding: 0 0.5em;}\n",
       ".datatable .bool    { background: #DDDD99; }\n",
       ".datatable .object  { background: #565656; }\n",
       ".datatable .int     { background: #5D9E5D; }\n",
       ".datatable .float   { background: #4040CC; }\n",
       ".datatable .str     { background: #CC4040; }\n",
       ".datatable .time    { background: #40CC40; }\n",
       ".datatable .row_index {  background: var(--jp-border-color3);  border-right: 1px solid var(--jp-border-color0);  color: var(--jp-ui-font-color3);  font-size: 9px;}\n",
       ".datatable .frame tbody td { text-align: left; }\n",
       ".datatable .frame tr.coltypes .row_index {  background: var(--jp-border-color0);}\n",
       ".datatable th:nth-child(2) { padding-left: 12px; }\n",
       ".datatable .hellipsis {  color: var(--jp-cell-editor-border-color);}\n",
       ".datatable .vellipsis {  background: var(--jp-layout-color0);  color: var(--jp-cell-editor-border-color);}\n",
       ".datatable .na {  color: var(--jp-cell-editor-border-color);  font-size: 80%;}\n",
       ".datatable .sp {  opacity: 0.25;}\n",
       ".datatable .footer { font-size: 9px; }\n",
       ".datatable .frame_dimensions {  background: var(--jp-border-color3);  border-top: 1px solid var(--jp-border-color0);  color: var(--jp-ui-font-color3);  display: inline-block;  opacity: 0.6;  padding: 1px 10px 1px 5px;}\n",
       "</style>\n"
      ],
      "text/plain": [
       "<IPython.core.display.HTML object>"
      ]
     },
     "metadata": {},
     "output_type": "display_data"
    }
   ],
   "source": [
    "import lightgbm as lgb\n",
    "\n",
    "from sklearn.model_selection import KFold\n",
    "from sklearn.metrics import roc_auc_score\n",
    "from sklearn.preprocessing import LabelEncoder\n",
    "\n",
    "import gc\n",
    "import matplotlib.pyplot as plt"
   ]
  },
  {
   "cell_type": "code",
   "execution_count": 32,
   "id": "c13bcbd7",
   "metadata": {
    "execution": {
     "iopub.execute_input": "2022-05-21T05:15:14.965429Z",
     "iopub.status.busy": "2022-05-21T05:15:14.964744Z",
     "iopub.status.idle": "2022-05-21T05:15:15.123114Z",
     "shell.execute_reply": "2022-05-21T05:15:15.122261Z"
    },
    "papermill": {
     "duration": 0.22085,
     "end_time": "2022-05-21T05:15:15.125348",
     "exception": false,
     "start_time": "2022-05-21T05:15:14.904498",
     "status": "completed"
    },
    "tags": []
   },
   "outputs": [],
   "source": [
    "def model(features, test_features, encoding = 'ohe', n_folds =5):\n",
    "    labels = features['TARGET']\n",
    "    train_ids = features['SK_ID_CURR']\n",
    "    test_ids = test_features['SK_ID_CURR']\n",
    "    \n",
    "    train = features.drop(columns = ['TARGET','SK_ID_CURR'])\n",
    "    test = test_features.drop(columns = 'SK_ID_CURR')\n",
    "    \n",
    "    if encoding == 'ohe':\n",
    "        train = pd.get_dummies(train)\n",
    "        test = pd.get_dummies(test)\n",
    "        \n",
    "        train, test = train.align(test, join='inner', axis =1)\n",
    "        cat_indices = 'auto'\n",
    "    elif encoding == 'le':\n",
    "        label_encoder = LabelEncoder()\n",
    "        cat_indices = []\n",
    "        \n",
    "        for i, col in enumerate(train):\n",
    "            if train[col] == 'object':\n",
    "                train[col] = label_encoder.fit_transform(np.array(train[col].astype(str)).reshape(-1,))\n",
    "                test[col] = label_encoder.transform(np.array(test[col].astype(str)).reshape(-1,))\n",
    "                cat_indices.append(i)\n",
    "    else:\n",
    "        raise ValueError(\"Encoding must be either 'ohe' or 'le'\")\n",
    "    print('Traing Data Shape:', train.shape)\n",
    "    print('Testing Data Shape:', test.shape)\n",
    "    \n",
    "    feature_names = list(train.columns)\n",
    "    \n",
    "    train = np.array(train)\n",
    "    test = np.array(test)\n",
    "    \n",
    "    k_fold = KFold(n_splits = n_folds, shuffle = True, random_state = 50)\n",
    "    \n",
    "    feature_importance_values = np.zeros(len(feature_names))\n",
    "    \n",
    "    test_predictions = np.zeros(len(test))\n",
    "    out_of_fold = np.zeros(len(train))\n",
    "    \n",
    "    valid_scores = []\n",
    "    train_scores = []\n",
    "    \n",
    "    for train_indices, valid_indices in k_fold.split(train):\n",
    "        train_features, train_labels = train[train_indices], labels[train_indices]\n",
    "        valid_features, valid_labels = train[valid_indices], labels[valid_indices]\n",
    "        \n",
    "        model = lgb.LGBMClassifier(n_estimators = 10000\n",
    "                                   , objective='binary'\n",
    "                                   , class_weight = 'balanced'\n",
    "                                   , learning_rate = 0.05\n",
    "                                   , reg_alpha = 0.1\n",
    "                                   , reg_lambda = 0.1\n",
    "                                   , subsample = 0.8\n",
    "                                   , n_jobs = -1\n",
    "                                   , random_state= 50\n",
    "                                  )\n",
    "        model.fit(train_features\n",
    "                 , train_labels\n",
    "                 , eval_metric = 'auc'\n",
    "                 , eval_set = [(valid_features, valid_labels), (train_features, train_labels)]\n",
    "                 , eval_names =['valid','train']\n",
    "                 , categorical_feature = cat_indices\n",
    "                 , early_stopping_rounds = 100\n",
    "                 , verbose = 200\n",
    "        )\n",
    "        best_iteration = model.best_iteration_\n",
    "        feature_importance_values += model.feature_importances_ / k_fold.n_splits\n",
    "        \n",
    "        test_predictions += model.predict_proba(test, num_iteration = best_iteration)[:,1] / k_fold.n_splits\n",
    "        \n",
    "        out_of_fold[valid_indices] =model.predict_proba(valid_features, num_iteration = best_iteration)[:,1]\n",
    "        \n",
    "        valid_score = model.best_score_['valid']['auc']\n",
    "        train_score = model.best_score_['train']['auc']\n",
    "        \n",
    "        valid_scores.append(valid_score)\n",
    "        train_scores.append(train_score)\n",
    "        \n",
    "        gc.enable()\n",
    "        del model, train_features, valid_features\n",
    "        gc.collect()\n",
    "        \n",
    "    feature_importacne = pd.DataFrame({'feature':feature_names, 'importance':feature_importance_values})\n",
    "    \n",
    "    submission = pd.DataFrame({'SK_ID_CURR':test_ids, 'TARGET':test_predictions})\n",
    "    \n",
    "    valid_auc = roc_auc_score(labels, out_of_fold)\n",
    "    \n",
    "    valid_scores.append(valid_auc)\n",
    "    train_scores.append(np.mean(train_scores))\n",
    "    \n",
    "    fold_names = list(range(n_folds))\n",
    "    fold_names.append('overall')\n",
    "    \n",
    "    metrics = pd.DataFrame({'fold':fold_names, 'train':train_scores, 'valid': valid_scores})\n",
    "    return submission, feature_importacne, metrics"
   ]
  },
  {
   "cell_type": "code",
   "execution_count": 33,
   "id": "318f29d3",
   "metadata": {
    "execution": {
     "iopub.execute_input": "2022-05-21T05:15:15.248687Z",
     "iopub.status.busy": "2022-05-21T05:15:15.247728Z",
     "iopub.status.idle": "2022-05-21T05:15:15.256278Z",
     "shell.execute_reply": "2022-05-21T05:15:15.255708Z"
    },
    "papermill": {
     "duration": 0.070682,
     "end_time": "2022-05-21T05:15:15.258274",
     "exception": false,
     "start_time": "2022-05-21T05:15:15.187592",
     "status": "completed"
    },
    "tags": []
   },
   "outputs": [],
   "source": [
    "def plot_feature_importances(df):\n",
    "    df = df.sort_values('importance', ascending = False).reset_index()\n",
    "    \n",
    "    df['importance_nomalized'] = df['importance'] / df['importance'].sum()\n",
    "    \n",
    "    plt.figure(figsize = (10, 6))\n",
    "    ax = plt.subplot()\n",
    "    \n",
    "    ax.barh(list(reversed(list(df.index[:15]))),\n",
    "           df['importance_nomalized'].head(15),\n",
    "           align = 'center',\n",
    "           edgecolor = 'k')\n",
    "    \n",
    "    ax.set_yticks(list(reversed(list(df.index[:15]))))\n",
    "    ax.set_yticklabels(df['feature'].head(15))\n",
    "    \n",
    "    plt.xlabel('Normalized Importance')\n",
    "    plt.ylabel('Feature Importances')\n",
    "    plt.show()\n",
    "    \n",
    "    return df"
   ]
  },
  {
   "cell_type": "code",
   "execution_count": 34,
   "id": "79538354",
   "metadata": {
    "execution": {
     "iopub.execute_input": "2022-05-21T05:15:15.378840Z",
     "iopub.status.busy": "2022-05-21T05:15:15.378402Z",
     "iopub.status.idle": "2022-05-21T05:15:21.051802Z",
     "shell.execute_reply": "2022-05-21T05:15:21.050864Z"
    },
    "papermill": {
     "duration": 5.737402,
     "end_time": "2022-05-21T05:15:21.054719",
     "exception": false,
     "start_time": "2022-05-21T05:15:15.317317",
     "status": "completed"
    },
    "tags": []
   },
   "outputs": [],
   "source": [
    "train_control = pd.read_csv('../input/home-credit-default-risk/application_train.csv')\n",
    "test_control = pd.read_csv('../input/home-credit-default-risk/application_test.csv')"
   ]
  },
  {
   "cell_type": "code",
   "execution_count": 35,
   "id": "23412e01",
   "metadata": {
    "execution": {
     "iopub.execute_input": "2022-05-21T05:15:21.174821Z",
     "iopub.status.busy": "2022-05-21T05:15:21.174538Z",
     "iopub.status.idle": "2022-05-21T05:18:08.440496Z",
     "shell.execute_reply": "2022-05-21T05:18:08.439662Z"
    },
    "papermill": {
     "duration": 167.328441,
     "end_time": "2022-05-21T05:18:08.442960",
     "exception": false,
     "start_time": "2022-05-21T05:15:21.114519",
     "status": "completed"
    },
    "tags": []
   },
   "outputs": [
    {
     "name": "stdout",
     "output_type": "stream",
     "text": [
      "Traing Data Shape: (307511, 241)\n",
      "Testing Data Shape: (48744, 241)\n",
      "[200]\ttrain's auc: 0.7989\ttrain's binary_logloss: 0.547642\tvalid's auc: 0.755463\tvalid's binary_logloss: 0.563361\n",
      "[400]\ttrain's auc: 0.82864\ttrain's binary_logloss: 0.518235\tvalid's auc: 0.755594\tvalid's binary_logloss: 0.544951\n",
      "[200]\ttrain's auc: 0.798638\ttrain's binary_logloss: 0.547974\tvalid's auc: 0.758354\tvalid's binary_logloss: 0.56326\n",
      "[200]\ttrain's auc: 0.7977\ttrain's binary_logloss: 0.549358\tvalid's auc: 0.763287\tvalid's binary_logloss: 0.564505\n",
      "[200]\ttrain's auc: 0.798947\ttrain's binary_logloss: 0.547854\tvalid's auc: 0.757823\tvalid's binary_logloss: 0.562315\n",
      "[200]\ttrain's auc: 0.798357\ttrain's binary_logloss: 0.548311\tvalid's auc: 0.758237\tvalid's binary_logloss: 0.564466\n"
     ]
    }
   ],
   "source": [
    "submission, feature_importacne, metrics = model(train_control,test_control)"
   ]
  },
  {
   "cell_type": "code",
   "execution_count": 36,
   "id": "426ef4f2",
   "metadata": {
    "execution": {
     "iopub.execute_input": "2022-05-21T05:18:08.570189Z",
     "iopub.status.busy": "2022-05-21T05:18:08.569638Z",
     "iopub.status.idle": "2022-05-21T05:18:08.860031Z",
     "shell.execute_reply": "2022-05-21T05:18:08.859396Z"
    },
    "papermill": {
     "duration": 0.355682,
     "end_time": "2022-05-21T05:18:08.861908",
     "exception": false,
     "start_time": "2022-05-21T05:18:08.506226",
     "status": "completed"
    },
    "tags": []
   },
   "outputs": [
    {
     "data": {
      "image/png": "[encoded data removed]",
      "text/plain": [
       "<Figure size 720x432 with 1 Axes>"
      ]
     },
     "metadata": {},
     "output_type": "display_data"
    },
    {
     "data": {
      "text/html": [
       "<div>\n",
       "<style scoped>\n",
       "    .dataframe tbody tr th:only-of-type {\n",
       "        vertical-align: middle;\n",
       "    }\n",
       "\n",
       "    .dataframe tbody tr th {\n",
       "        vertical-align: top;\n",
       "    }\n",
       "\n",
       "    .dataframe thead th {\n",
       "        text-align: right;\n",
       "    }\n",
       "</style>\n",
       "<table border=\"1\" class=\"dataframe\">\n",
       "  <thead>\n",
       "    <tr style=\"text-align: right;\">\n",
       "      <th></th>\n",
       "      <th>index</th>\n",
       "      <th>feature</th>\n",
       "      <th>importance</th>\n",
       "      <th>importance_nomalized</th>\n",
       "    </tr>\n",
       "  </thead>\n",
       "  <tbody>\n",
       "    <tr>\n",
       "      <th>0</th>\n",
       "      <td>27</td>\n",
       "      <td>EXT_SOURCE_1</td>\n",
       "      <td>627.0</td>\n",
       "      <td>0.076277</td>\n",
       "    </tr>\n",
       "    <tr>\n",
       "      <th>1</th>\n",
       "      <td>29</td>\n",
       "      <td>EXT_SOURCE_3</td>\n",
       "      <td>598.4</td>\n",
       "      <td>0.072798</td>\n",
       "    </tr>\n",
       "    <tr>\n",
       "      <th>2</th>\n",
       "      <td>28</td>\n",
       "      <td>EXT_SOURCE_2</td>\n",
       "      <td>487.8</td>\n",
       "      <td>0.059343</td>\n",
       "    </tr>\n",
       "    <tr>\n",
       "      <th>3</th>\n",
       "      <td>6</td>\n",
       "      <td>DAYS_BIRTH</td>\n",
       "      <td>460.6</td>\n",
       "      <td>0.056034</td>\n",
       "    </tr>\n",
       "    <tr>\n",
       "      <th>4</th>\n",
       "      <td>2</td>\n",
       "      <td>AMT_CREDIT</td>\n",
       "      <td>402.8</td>\n",
       "      <td>0.049002</td>\n",
       "    </tr>\n",
       "    <tr>\n",
       "      <th>...</th>\n",
       "      <td>...</td>\n",
       "      <td>...</td>\n",
       "      <td>...</td>\n",
       "      <td>...</td>\n",
       "    </tr>\n",
       "    <tr>\n",
       "      <th>236</th>\n",
       "      <td>96</td>\n",
       "      <td>FLAG_DOCUMENT_20</td>\n",
       "      <td>0.0</td>\n",
       "      <td>0.000000</td>\n",
       "    </tr>\n",
       "    <tr>\n",
       "      <th>237</th>\n",
       "      <td>173</td>\n",
       "      <td>ORGANIZATION_TYPE_Cleaning</td>\n",
       "      <td>0.0</td>\n",
       "      <td>0.000000</td>\n",
       "    </tr>\n",
       "    <tr>\n",
       "      <th>238</th>\n",
       "      <td>78</td>\n",
       "      <td>FLAG_DOCUMENT_2</td>\n",
       "      <td>0.0</td>\n",
       "      <td>0.000000</td>\n",
       "    </tr>\n",
       "    <tr>\n",
       "      <th>239</th>\n",
       "      <td>88</td>\n",
       "      <td>FLAG_DOCUMENT_12</td>\n",
       "      <td>0.0</td>\n",
       "      <td>0.000000</td>\n",
       "    </tr>\n",
       "    <tr>\n",
       "      <th>240</th>\n",
       "      <td>80</td>\n",
       "      <td>FLAG_DOCUMENT_4</td>\n",
       "      <td>0.0</td>\n",
       "      <td>0.000000</td>\n",
       "    </tr>\n",
       "  </tbody>\n",
       "</table>\n",
       "<p>241 rows × 4 columns</p>\n",
       "</div>"
      ],
      "text/plain": [
       "     index                     feature  importance  importance_nomalized\n",
       "0       27                EXT_SOURCE_1       627.0              0.076277\n",
       "1       29                EXT_SOURCE_3       598.4              0.072798\n",
       "2       28                EXT_SOURCE_2       487.8              0.059343\n",
       "3        6                  DAYS_BIRTH       460.6              0.056034\n",
       "4        2                  AMT_CREDIT       402.8              0.049002\n",
       "..     ...                         ...         ...                   ...\n",
       "236     96            FLAG_DOCUMENT_20         0.0              0.000000\n",
       "237    173  ORGANIZATION_TYPE_Cleaning         0.0              0.000000\n",
       "238     78             FLAG_DOCUMENT_2         0.0              0.000000\n",
       "239     88            FLAG_DOCUMENT_12         0.0              0.000000\n",
       "240     80             FLAG_DOCUMENT_4         0.0              0.000000\n",
       "\n",
       "[241 rows x 4 columns]"
      ]
     },
     "execution_count": 36,
     "metadata": {},
     "output_type": "execute_result"
    }
   ],
   "source": [
    "plot_feature_importances(feature_importacne)"
   ]
  },
  {
   "cell_type": "code",
   "execution_count": 37,
   "id": "1d76bcb0",
   "metadata": {
    "execution": {
     "iopub.execute_input": "2022-05-21T05:18:09.013141Z",
     "iopub.status.busy": "2022-05-21T05:18:09.012580Z",
     "iopub.status.idle": "2022-05-21T05:18:09.022042Z",
     "shell.execute_reply": "2022-05-21T05:18:09.021472Z"
    },
    "papermill": {
     "duration": 0.092499,
     "end_time": "2022-05-21T05:18:09.024051",
     "exception": false,
     "start_time": "2022-05-21T05:18:08.931552",
     "status": "completed"
    },
    "tags": []
   },
   "outputs": [
    {
     "data": {
      "text/html": [
       "<div>\n",
       "<style scoped>\n",
       "    .dataframe tbody tr th:only-of-type {\n",
       "        vertical-align: middle;\n",
       "    }\n",
       "\n",
       "    .dataframe tbody tr th {\n",
       "        vertical-align: top;\n",
       "    }\n",
       "\n",
       "    .dataframe thead th {\n",
       "        text-align: right;\n",
       "    }\n",
       "</style>\n",
       "<table border=\"1\" class=\"dataframe\">\n",
       "  <thead>\n",
       "    <tr style=\"text-align: right;\">\n",
       "      <th></th>\n",
       "      <th>fold</th>\n",
       "      <th>train</th>\n",
       "      <th>valid</th>\n",
       "    </tr>\n",
       "  </thead>\n",
       "  <tbody>\n",
       "    <tr>\n",
       "      <th>0</th>\n",
       "      <td>0</td>\n",
       "      <td>0.815791</td>\n",
       "      <td>0.755755</td>\n",
       "    </tr>\n",
       "    <tr>\n",
       "      <th>1</th>\n",
       "      <td>1</td>\n",
       "      <td>0.811912</td>\n",
       "      <td>0.758533</td>\n",
       "    </tr>\n",
       "    <tr>\n",
       "      <th>2</th>\n",
       "      <td>2</td>\n",
       "      <td>0.811252</td>\n",
       "      <td>0.763822</td>\n",
       "    </tr>\n",
       "    <tr>\n",
       "      <th>3</th>\n",
       "      <td>3</td>\n",
       "      <td>0.805899</td>\n",
       "      <td>0.758345</td>\n",
       "    </tr>\n",
       "    <tr>\n",
       "      <th>4</th>\n",
       "      <td>4</td>\n",
       "      <td>0.807459</td>\n",
       "      <td>0.758535</td>\n",
       "    </tr>\n",
       "    <tr>\n",
       "      <th>5</th>\n",
       "      <td>overall</td>\n",
       "      <td>0.810463</td>\n",
       "      <td>0.759002</td>\n",
       "    </tr>\n",
       "  </tbody>\n",
       "</table>\n",
       "</div>"
      ],
      "text/plain": [
       "      fold     train     valid\n",
       "0        0  0.815791  0.755755\n",
       "1        1  0.811912  0.758533\n",
       "2        2  0.811252  0.763822\n",
       "3        3  0.805899  0.758345\n",
       "4        4  0.807459  0.758535\n",
       "5  overall  0.810463  0.759002"
      ]
     },
     "execution_count": 37,
     "metadata": {},
     "output_type": "execute_result"
    }
   ],
   "source": [
    "metrics"
   ]
  },
  {
   "cell_type": "code",
   "execution_count": 38,
   "id": "aea37be0",
   "metadata": {
    "execution": {
     "iopub.execute_input": "2022-05-21T05:18:09.157587Z",
     "iopub.status.busy": "2022-05-21T05:18:09.157031Z",
     "iopub.status.idle": "2022-05-21T05:23:58.129018Z",
     "shell.execute_reply": "2022-05-21T05:23:58.128118Z"
    },
    "papermill": {
     "duration": 349.041348,
     "end_time": "2022-05-21T05:23:58.132157",
     "exception": false,
     "start_time": "2022-05-21T05:18:09.090809",
     "status": "completed"
    },
    "tags": []
   },
   "outputs": [
    {
     "name": "stdout",
     "output_type": "stream",
     "text": [
      "Traing Data Shape: (307511, 452)\n",
      "Testing Data Shape: (48744, 452)\n",
      "[200]\ttrain's auc: 0.810821\ttrain's binary_logloss: 0.53617\tvalid's auc: 0.763279\tvalid's binary_logloss: 0.553134\n",
      "[200]\ttrain's auc: 0.810727\ttrain's binary_logloss: 0.53666\tvalid's auc: 0.765248\tvalid's binary_logloss: 0.553447\n",
      "[200]\ttrain's auc: 0.809569\ttrain's binary_logloss: 0.538079\tvalid's auc: 0.770517\tvalid's binary_logloss: 0.55476\n",
      "[200]\ttrain's auc: 0.810367\ttrain's binary_logloss: 0.537096\tvalid's auc: 0.765831\tvalid's binary_logloss: 0.552574\n",
      "[200]\ttrain's auc: 0.810433\ttrain's binary_logloss: 0.536726\tvalid's auc: 0.76417\tvalid's binary_logloss: 0.554751\n"
     ]
    }
   ],
   "source": [
    "submission_raw, fi_raw, metrics_raw = model(train, test)"
   ]
  },
  {
   "cell_type": "code",
   "execution_count": 39,
   "id": "92736c20",
   "metadata": {
    "execution": {
     "iopub.execute_input": "2022-05-21T05:23:58.291688Z",
     "iopub.status.busy": "2022-05-21T05:23:58.291065Z",
     "iopub.status.idle": "2022-05-21T05:23:58.567355Z",
     "shell.execute_reply": "2022-05-21T05:23:58.566639Z"
    },
    "papermill": {
     "duration": 0.365614,
     "end_time": "2022-05-21T05:23:58.569638",
     "exception": false,
     "start_time": "2022-05-21T05:23:58.204024",
     "status": "completed"
    },
    "tags": []
   },
   "outputs": [
    {
     "data": {
      "image/png": "[encoded data removed]",
      "text/plain": [
       "<Figure size 720x432 with 1 Axes>"
      ]
     },
     "metadata": {},
     "output_type": "display_data"
    }
   ],
   "source": [
    "fi_raw_sorted = plot_feature_importances(fi_raw)"
   ]
  },
  {
   "cell_type": "code",
   "execution_count": 40,
   "id": "b1e80905",
   "metadata": {
    "execution": {
     "iopub.execute_input": "2022-05-21T05:23:58.712642Z",
     "iopub.status.busy": "2022-05-21T05:23:58.712039Z",
     "iopub.status.idle": "2022-05-21T05:23:58.724756Z",
     "shell.execute_reply": "2022-05-21T05:23:58.723951Z"
    },
    "papermill": {
     "duration": 0.086881,
     "end_time": "2022-05-21T05:23:58.727037",
     "exception": false,
     "start_time": "2022-05-21T05:23:58.640156",
     "status": "completed"
    },
    "tags": []
   },
   "outputs": [
    {
     "data": {
      "text/html": [
       "<div>\n",
       "<style scoped>\n",
       "    .dataframe tbody tr th:only-of-type {\n",
       "        vertical-align: middle;\n",
       "    }\n",
       "\n",
       "    .dataframe tbody tr th {\n",
       "        vertical-align: top;\n",
       "    }\n",
       "\n",
       "    .dataframe thead th {\n",
       "        text-align: right;\n",
       "    }\n",
       "</style>\n",
       "<table border=\"1\" class=\"dataframe\">\n",
       "  <thead>\n",
       "    <tr style=\"text-align: right;\">\n",
       "      <th></th>\n",
       "      <th>fold</th>\n",
       "      <th>train</th>\n",
       "      <th>valid</th>\n",
       "    </tr>\n",
       "  </thead>\n",
       "  <tbody>\n",
       "    <tr>\n",
       "      <th>0</th>\n",
       "      <td>0</td>\n",
       "      <td>0.823660</td>\n",
       "      <td>0.763730</td>\n",
       "    </tr>\n",
       "    <tr>\n",
       "      <th>1</th>\n",
       "      <td>1</td>\n",
       "      <td>0.824682</td>\n",
       "      <td>0.766092</td>\n",
       "    </tr>\n",
       "    <tr>\n",
       "      <th>2</th>\n",
       "      <td>2</td>\n",
       "      <td>0.826798</td>\n",
       "      <td>0.771361</td>\n",
       "    </tr>\n",
       "    <tr>\n",
       "      <th>3</th>\n",
       "      <td>3</td>\n",
       "      <td>0.817720</td>\n",
       "      <td>0.766206</td>\n",
       "    </tr>\n",
       "    <tr>\n",
       "      <th>4</th>\n",
       "      <td>4</td>\n",
       "      <td>0.821525</td>\n",
       "      <td>0.764642</td>\n",
       "    </tr>\n",
       "    <tr>\n",
       "      <th>5</th>\n",
       "      <td>overall</td>\n",
       "      <td>0.822877</td>\n",
       "      <td>0.766404</td>\n",
       "    </tr>\n",
       "  </tbody>\n",
       "</table>\n",
       "</div>"
      ],
      "text/plain": [
       "      fold     train     valid\n",
       "0        0  0.823660  0.763730\n",
       "1        1  0.824682  0.766092\n",
       "2        2  0.826798  0.771361\n",
       "3        3  0.817720  0.766206\n",
       "4        4  0.821525  0.764642\n",
       "5  overall  0.822877  0.766404"
      ]
     },
     "execution_count": 40,
     "metadata": {},
     "output_type": "execute_result"
    }
   ],
   "source": [
    "metrics_raw"
   ]
  },
  {
   "cell_type": "code",
   "execution_count": 41,
   "id": "5d2122b9",
   "metadata": {
    "execution": {
     "iopub.execute_input": "2022-05-21T05:23:58.872439Z",
     "iopub.status.busy": "2022-05-21T05:23:58.872034Z",
     "iopub.status.idle": "2022-05-21T05:23:58.882543Z",
     "shell.execute_reply": "2022-05-21T05:23:58.881662Z"
    },
    "papermill": {
     "duration": 0.086956,
     "end_time": "2022-05-21T05:23:58.884832",
     "exception": false,
     "start_time": "2022-05-21T05:23:58.797876",
     "status": "completed"
    },
    "tags": []
   },
   "outputs": [
    {
     "name": "stdout",
     "output_type": "stream",
     "text": [
      "% of Top 100 Features created from the bureau data = 52.00\n"
     ]
    }
   ],
   "source": [
    "top_100 = list(fi_raw_sorted['feature'])[:100]\n",
    "new_features = [x for x in top_100 if x not in list(feature_importacne['feature'])]\n",
    "\n",
    "print('%% of Top 100 Features created from the bureau data = %d.00' % len(new_features))"
   ]
  },
  {
   "cell_type": "code",
   "execution_count": 42,
   "id": "0d144c16",
   "metadata": {
    "execution": {
     "iopub.execute_input": "2022-05-21T05:23:59.029491Z",
     "iopub.status.busy": "2022-05-21T05:23:59.029191Z",
     "iopub.status.idle": "2022-05-21T05:23:59.204287Z",
     "shell.execute_reply": "2022-05-21T05:23:59.203588Z"
    },
    "papermill": {
     "duration": 0.248867,
     "end_time": "2022-05-21T05:23:59.206620",
     "exception": false,
     "start_time": "2022-05-21T05:23:58.957753",
     "status": "completed"
    },
    "tags": []
   },
   "outputs": [],
   "source": [
    "submission_raw.to_csv('test_one.csv', index = False)"
   ]
  },
  {
   "cell_type": "code",
   "execution_count": 43,
   "id": "68f0e3ea",
   "metadata": {
    "execution": {
     "iopub.execute_input": "2022-05-21T05:23:59.349517Z",
     "iopub.status.busy": "2022-05-21T05:23:59.348960Z",
     "iopub.status.idle": "2022-05-21T05:27:39.734358Z",
     "shell.execute_reply": "2022-05-21T05:27:39.733592Z"
    },
    "papermill": {
     "duration": 220.459435,
     "end_time": "2022-05-21T05:27:39.736832",
     "exception": false,
     "start_time": "2022-05-21T05:23:59.277397",
     "status": "completed"
    },
    "tags": []
   },
   "outputs": [
    {
     "name": "stdout",
     "output_type": "stream",
     "text": [
      "Traing Data Shape: (307511, 318)\n",
      "Testing Data Shape: (48744, 318)\n",
      "[200]\ttrain's auc: 0.807062\ttrain's binary_logloss: 0.539926\tvalid's auc: 0.761756\tvalid's binary_logloss: 0.555974\n",
      "[200]\ttrain's auc: 0.807403\ttrain's binary_logloss: 0.539835\tvalid's auc: 0.762487\tvalid's binary_logloss: 0.556178\n",
      "[200]\ttrain's auc: 0.806206\ttrain's binary_logloss: 0.541195\tvalid's auc: 0.766958\tvalid's binary_logloss: 0.557491\n",
      "[400]\ttrain's auc: 0.83864\ttrain's binary_logloss: 0.508571\tvalid's auc: 0.767385\tvalid's binary_logloss: 0.536782\n",
      "[200]\ttrain's auc: 0.806561\ttrain's binary_logloss: 0.540767\tvalid's auc: 0.763307\tvalid's binary_logloss: 0.556131\n",
      "[200]\ttrain's auc: 0.807104\ttrain's binary_logloss: 0.540208\tvalid's auc: 0.760759\tvalid's binary_logloss: 0.557689\n"
     ]
    }
   ],
   "source": [
    "submission_corrs, fi_corrs, metrics_corr = model(train_corrs_removed, test_corrs_removed)"
   ]
  },
  {
   "cell_type": "code",
   "execution_count": 44,
   "id": "ce87a7ef",
   "metadata": {
    "execution": {
     "iopub.execute_input": "2022-05-21T05:27:39.887778Z",
     "iopub.status.busy": "2022-05-21T05:27:39.887204Z",
     "iopub.status.idle": "2022-05-21T05:27:39.896781Z",
     "shell.execute_reply": "2022-05-21T05:27:39.896141Z"
    },
    "papermill": {
     "duration": 0.087071,
     "end_time": "2022-05-21T05:27:39.898801",
     "exception": false,
     "start_time": "2022-05-21T05:27:39.811730",
     "status": "completed"
    },
    "tags": []
   },
   "outputs": [
    {
     "data": {
      "text/html": [
       "<div>\n",
       "<style scoped>\n",
       "    .dataframe tbody tr th:only-of-type {\n",
       "        vertical-align: middle;\n",
       "    }\n",
       "\n",
       "    .dataframe tbody tr th {\n",
       "        vertical-align: top;\n",
       "    }\n",
       "\n",
       "    .dataframe thead th {\n",
       "        text-align: right;\n",
       "    }\n",
       "</style>\n",
       "<table border=\"1\" class=\"dataframe\">\n",
       "  <thead>\n",
       "    <tr style=\"text-align: right;\">\n",
       "      <th></th>\n",
       "      <th>fold</th>\n",
       "      <th>train</th>\n",
       "      <th>valid</th>\n",
       "    </tr>\n",
       "  </thead>\n",
       "  <tbody>\n",
       "    <tr>\n",
       "      <th>0</th>\n",
       "      <td>0</td>\n",
       "      <td>0.819890</td>\n",
       "      <td>0.762222</td>\n",
       "    </tr>\n",
       "    <tr>\n",
       "      <th>1</th>\n",
       "      <td>1</td>\n",
       "      <td>0.816296</td>\n",
       "      <td>0.762811</td>\n",
       "    </tr>\n",
       "    <tr>\n",
       "      <th>2</th>\n",
       "      <td>2</td>\n",
       "      <td>0.835801</td>\n",
       "      <td>0.767546</td>\n",
       "    </tr>\n",
       "    <tr>\n",
       "      <th>3</th>\n",
       "      <td>3</td>\n",
       "      <td>0.807812</td>\n",
       "      <td>0.763487</td>\n",
       "    </tr>\n",
       "    <tr>\n",
       "      <th>4</th>\n",
       "      <td>4</td>\n",
       "      <td>0.823635</td>\n",
       "      <td>0.761030</td>\n",
       "    </tr>\n",
       "    <tr>\n",
       "      <th>5</th>\n",
       "      <td>overall</td>\n",
       "      <td>0.820687</td>\n",
       "      <td>0.763372</td>\n",
       "    </tr>\n",
       "  </tbody>\n",
       "</table>\n",
       "</div>"
      ],
      "text/plain": [
       "      fold     train     valid\n",
       "0        0  0.819890  0.762222\n",
       "1        1  0.816296  0.762811\n",
       "2        2  0.835801  0.767546\n",
       "3        3  0.807812  0.763487\n",
       "4        4  0.823635  0.761030\n",
       "5  overall  0.820687  0.763372"
      ]
     },
     "execution_count": 44,
     "metadata": {},
     "output_type": "execute_result"
    }
   ],
   "source": [
    "metrics_corr"
   ]
  },
  {
   "cell_type": "code",
   "execution_count": 45,
   "id": "19377bcb",
   "metadata": {
    "execution": {
     "iopub.execute_input": "2022-05-21T05:27:40.065628Z",
     "iopub.status.busy": "2022-05-21T05:27:40.065064Z",
     "iopub.status.idle": "2022-05-21T05:27:40.348986Z",
     "shell.execute_reply": "2022-05-21T05:27:40.348109Z"
    },
    "papermill": {
     "duration": 0.377002,
     "end_time": "2022-05-21T05:27:40.351099",
     "exception": false,
     "start_time": "2022-05-21T05:27:39.974097",
     "status": "completed"
    },
    "tags": []
   },
   "outputs": [
    {
     "data": {
      "image/png": "[encoded data removed]",
      "text/plain": [
       "<Figure size 720x432 with 1 Axes>"
      ]
     },
     "metadata": {},
     "output_type": "display_data"
    }
   ],
   "source": [
    "fi_corrs_sorted = plot_feature_importances(fi_corrs)"
   ]
  },
  {
   "cell_type": "code",
   "execution_count": 46,
   "id": "f131dcef",
   "metadata": {
    "execution": {
     "iopub.execute_input": "2022-05-21T05:27:40.506614Z",
     "iopub.status.busy": "2022-05-21T05:27:40.506068Z",
     "iopub.status.idle": "2022-05-21T05:27:40.678122Z",
     "shell.execute_reply": "2022-05-21T05:27:40.677467Z"
    },
    "papermill": {
     "duration": 0.251948,
     "end_time": "2022-05-21T05:27:40.680631",
     "exception": false,
     "start_time": "2022-05-21T05:27:40.428683",
     "status": "completed"
    },
    "tags": []
   },
   "outputs": [],
   "source": [
    "submission_corrs.to_csv('test_two.csv', index = False)"
   ]
  }
 ],
 "metadata": {
  "kernelspec": {
   "display_name": "Python 3",
   "language": "python",
   "name": "python3"
  },
  "language_info": {
   "codemirror_mode": {
    "name": "ipython",
    "version": 3
   },
   "file_extension": ".py",
   "mimetype": "text/x-python",
   "name": "python",
   "nbconvert_exporter": "python",
   "pygments_lexer": "ipython3",
   "version": "3.7.12"
  },
  "papermill": {
   "default_parameters": {},
   "duration": 931.971746,
   "end_time": "2022-05-21T05:27:42.385839",
   "environment_variables": {},
   "exception": null,
   "input_path": "__notebook__.ipynb",
   "output_path": "__notebook__.ipynb",
   "parameters": {},
   "start_time": "2022-05-21T05:12:10.414093",
   "version": "2.3.4"
  }
 },
 "nbformat": 4,
 "nbformat_minor": 5
}
