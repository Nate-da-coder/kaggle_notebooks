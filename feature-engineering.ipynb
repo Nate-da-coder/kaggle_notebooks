{
 "cells": [
  {
   "cell_type": "code",
   "execution_count": 1,
   "id": "b1dad502",
   "metadata": {
    "_cell_guid": "b1076dfc-b9ad-4769-8c92-a6c4dae69d19",
    "_uuid": "8f2839f25d086af736a60e9eeb907d3b93b6e0e5",
    "execution": {
     "iopub.execute_input": "2022-05-21T14:31:32.598053Z",
     "iopub.status.busy": "2022-05-21T14:31:32.597664Z",
     "iopub.status.idle": "2022-05-21T14:31:32.609535Z",
     "shell.execute_reply": "2022-05-21T14:31:32.608461Z"
    },
    "papermill": {
     "duration": 0.051017,
     "end_time": "2022-05-21T14:31:32.612489",
     "exception": false,
     "start_time": "2022-05-21T14:31:32.561472",
     "status": "completed"
    },
    "tags": []
   },
   "outputs": [],
   "source": [
    "import pandas as pd\n",
    "import numpy as np\n",
    "\n",
    "import matplotlib.pyplot as plt\n",
    "\n",
    "import warnings \n",
    "warnings.filterwarnings('ignore')\n",
    "\n",
    "plt.style.use('fivethirtyeight')"
   ]
  },
  {
   "cell_type": "code",
   "execution_count": 2,
   "id": "7eae5231",
   "metadata": {
    "execution": {
     "iopub.execute_input": "2022-05-21T14:31:32.685003Z",
     "iopub.status.busy": "2022-05-21T14:31:32.684664Z",
     "iopub.status.idle": "2022-05-21T14:31:56.378141Z",
     "shell.execute_reply": "2022-05-21T14:31:56.376903Z"
    },
    "papermill": {
     "duration": 23.732426,
     "end_time": "2022-05-21T14:31:56.380992",
     "exception": false,
     "start_time": "2022-05-21T14:31:32.648566",
     "status": "completed"
    },
    "tags": []
   },
   "outputs": [],
   "source": [
    "application_train = pd.read_csv('../input/home-credit-default-risk/application_train.csv')\n",
    "application_test = pd.read_csv('../input/home-credit-default-risk/application_test.csv')\n",
    "bureau = pd.read_csv('../input/home-credit-default-risk/bureau.csv')\n",
    "bureau_balance = pd.read_csv('../input/home-credit-default-risk/bureau_balance.csv')"
   ]
  },
  {
   "cell_type": "code",
   "execution_count": 3,
   "id": "a97d0a4b",
   "metadata": {
    "execution": {
     "iopub.execute_input": "2022-05-21T14:31:56.449519Z",
     "iopub.status.busy": "2022-05-21T14:31:56.449218Z",
     "iopub.status.idle": "2022-05-21T14:31:56.461197Z",
     "shell.execute_reply": "2022-05-21T14:31:56.460426Z"
    },
    "papermill": {
     "duration": 0.050233,
     "end_time": "2022-05-21T14:31:56.464763",
     "exception": false,
     "start_time": "2022-05-21T14:31:56.414530",
     "status": "completed"
    },
    "tags": []
   },
   "outputs": [],
   "source": [
    "def agg_numeric(df, group_var, df_name):\n",
    "    numeric_df = df.select_dtypes('number')\n",
    "    numeric_df = numeric_df.groupby(group_var).agg(['mean', 'sum','max','min','count']).reset_index()\n",
    "    \n",
    "    columns = [group_var]\n",
    "    for var in numeric_df.columns.levels[0]:\n",
    "        if var != group_var:\n",
    "            for stat in numeric_df.columns.levels[1][:-1]:\n",
    "                columns.append('%s_%s_%s'%(df_name, var, stat))\n",
    "    numeric_df.columns = columns\n",
    "    return numeric_df\n",
    "\n",
    "def count_categorical(df, group_var, df_name):\n",
    "    categorical_df = pd.get_dummies(df.select_dtypes('object'))\n",
    "    categorical_df[group_var] = df[group_var]\n",
    "    \n",
    "    categorical_df = categorical_df.groupby(group_var).agg(['sum','mean'])\n",
    "    \n",
    "    columns = []\n",
    "    \n",
    "    for var in categorical_df.columns.levels[0]:\n",
    "        for stat in ['count','mean']:\n",
    "            columns.append('%s_%s_%s'%(df_name, var, stat))\n",
    "    categorical_df.columns = columns\n",
    "    return categorical_df"
   ]
  },
  {
   "cell_type": "code",
   "execution_count": 4,
   "id": "cc143269",
   "metadata": {
    "execution": {
     "iopub.execute_input": "2022-05-21T14:31:56.533713Z",
     "iopub.status.busy": "2022-05-21T14:31:56.532189Z",
     "iopub.status.idle": "2022-05-21T14:32:24.284306Z",
     "shell.execute_reply": "2022-05-21T14:32:24.282990Z"
    },
    "papermill": {
     "duration": 27.790117,
     "end_time": "2022-05-21T14:32:24.287273",
     "exception": false,
     "start_time": "2022-05-21T14:31:56.497156",
     "status": "completed"
    },
    "tags": []
   },
   "outputs": [],
   "source": [
    "bureau_agg = agg_numeric(bureau.drop(columns ='SK_ID_BUREAU'), 'SK_ID_CURR', 'bureau')\n",
    "bureau_count = count_categorical(bureau.drop(columns ='SK_ID_BUREAU'), 'SK_ID_CURR', 'bureau')\n",
    "bureau_balance_agg = agg_numeric(bureau_balance, 'SK_ID_BUREAU', 'bureau_balance')\n",
    "bureau_balance_count = count_categorical(bureau_balance, 'SK_ID_BUREAU', 'bureau_balance')"
   ]
  },
  {
   "cell_type": "code",
   "execution_count": 5,
   "id": "9e9f1b2d",
   "metadata": {
    "execution": {
     "iopub.execute_input": "2022-05-21T14:32:24.355997Z",
     "iopub.status.busy": "2022-05-21T14:32:24.355694Z",
     "iopub.status.idle": "2022-05-21T14:32:32.426398Z",
     "shell.execute_reply": "2022-05-21T14:32:32.425314Z"
    },
    "papermill": {
     "duration": 8.108755,
     "end_time": "2022-05-21T14:32:32.429181",
     "exception": false,
     "start_time": "2022-05-21T14:32:24.320426",
     "status": "completed"
    },
    "tags": []
   },
   "outputs": [],
   "source": [
    "bureau_balance_by_bureau = bureau_balance_agg.merge(bureau_balance_count, left_on ='SK_ID_BUREAU', right_index= True, how = 'outer')\n",
    "bureau_balance_by_client = bureau[['SK_ID_CURR', 'SK_ID_BUREAU']].merge(bureau_balance_by_bureau, on = 'SK_ID_BUREAU', how = 'left')\n",
    "bureau_balance_by_client = agg_numeric(bureau_balance_by_client.drop(columns='SK_ID_BUREAU'),'SK_ID_CURR', 'client')"
   ]
  },
  {
   "cell_type": "code",
   "execution_count": 6,
   "id": "e253062c",
   "metadata": {
    "execution": {
     "iopub.execute_input": "2022-05-21T14:32:32.498956Z",
     "iopub.status.busy": "2022-05-21T14:32:32.498352Z",
     "iopub.status.idle": "2022-05-21T14:32:41.763371Z",
     "shell.execute_reply": "2022-05-21T14:32:41.762262Z"
    },
    "papermill": {
     "duration": 9.304353,
     "end_time": "2022-05-21T14:32:41.766072",
     "exception": false,
     "start_time": "2022-05-21T14:32:32.461719",
     "status": "completed"
    },
    "tags": []
   },
   "outputs": [],
   "source": [
    "train = application_train.merge(bureau_count, on ='SK_ID_CURR', how='left')\n",
    "train = train.merge(bureau_agg, on ='SK_ID_CURR', how='left')\n",
    "train = train.merge(bureau_balance_by_client, on ='SK_ID_CURR', how='left')"
   ]
  },
  {
   "cell_type": "code",
   "execution_count": 7,
   "id": "e25e0389",
   "metadata": {
    "execution": {
     "iopub.execute_input": "2022-05-21T14:32:41.833346Z",
     "iopub.status.busy": "2022-05-21T14:32:41.832586Z",
     "iopub.status.idle": "2022-05-21T14:32:44.147995Z",
     "shell.execute_reply": "2022-05-21T14:32:44.146859Z"
    },
    "papermill": {
     "duration": 2.352315,
     "end_time": "2022-05-21T14:32:44.150642",
     "exception": false,
     "start_time": "2022-05-21T14:32:41.798327",
     "status": "completed"
    },
    "tags": []
   },
   "outputs": [],
   "source": [
    "test = application_test.merge(bureau_count, on ='SK_ID_CURR', how='left')\n",
    "test = test.merge(bureau_agg, on ='SK_ID_CURR', how='left')\n",
    "test = test.merge(bureau_balance_by_client, on ='SK_ID_CURR', how='left')"
   ]
  },
  {
   "cell_type": "code",
   "execution_count": 8,
   "id": "db8c8d47",
   "metadata": {
    "execution": {
     "iopub.execute_input": "2022-05-21T14:32:44.218279Z",
     "iopub.status.busy": "2022-05-21T14:32:44.217703Z",
     "iopub.status.idle": "2022-05-21T14:32:44.223767Z",
     "shell.execute_reply": "2022-05-21T14:32:44.222984Z"
    },
    "papermill": {
     "duration": 0.043757,
     "end_time": "2022-05-21T14:32:44.226108",
     "exception": false,
     "start_time": "2022-05-21T14:32:44.182351",
     "status": "completed"
    },
    "tags": []
   },
   "outputs": [
    {
     "name": "stdout",
     "output_type": "stream",
     "text": [
      "Training Data Shape: (307511, 333)\n",
      "Testing Data Shape: (48744, 332)\n"
     ]
    }
   ],
   "source": [
    "print('Training Data Shape:', train.shape)\n",
    "print('Testing Data Shape:', test.shape)"
   ]
  },
  {
   "cell_type": "code",
   "execution_count": 9,
   "id": "b4ff784e",
   "metadata": {
    "execution": {
     "iopub.execute_input": "2022-05-21T14:32:44.293680Z",
     "iopub.status.busy": "2022-05-21T14:32:44.292846Z",
     "iopub.status.idle": "2022-05-21T14:32:45.724233Z",
     "shell.execute_reply": "2022-05-21T14:32:45.722955Z"
    },
    "papermill": {
     "duration": 1.469047,
     "end_time": "2022-05-21T14:32:45.727611",
     "exception": false,
     "start_time": "2022-05-21T14:32:44.258564",
     "status": "completed"
    },
    "tags": []
   },
   "outputs": [],
   "source": [
    "train_labels = train['TARGET']\n",
    "train, test= train.align(test, join='inner', axis = 1)\n",
    "train['TARGET'] = train_labels "
   ]
  },
  {
   "cell_type": "code",
   "execution_count": 10,
   "id": "67beb66f",
   "metadata": {
    "execution": {
     "iopub.execute_input": "2022-05-21T14:32:45.796608Z",
     "iopub.status.busy": "2022-05-21T14:32:45.796056Z",
     "iopub.status.idle": "2022-05-21T14:32:45.802237Z",
     "shell.execute_reply": "2022-05-21T14:32:45.800566Z"
    },
    "papermill": {
     "duration": 0.043975,
     "end_time": "2022-05-21T14:32:45.804822",
     "exception": false,
     "start_time": "2022-05-21T14:32:45.760847",
     "status": "completed"
    },
    "tags": []
   },
   "outputs": [
    {
     "name": "stdout",
     "output_type": "stream",
     "text": [
      "Training Data Shape: (307511, 333)\n",
      "Testing Data Shape: (48744, 332)\n"
     ]
    }
   ],
   "source": [
    "print('Training Data Shape:', train.shape)\n",
    "print('Testing Data Shape:', test.shape)"
   ]
  },
  {
   "cell_type": "code",
   "execution_count": 11,
   "id": "23d8878f",
   "metadata": {
    "execution": {
     "iopub.execute_input": "2022-05-21T14:32:45.871339Z",
     "iopub.status.busy": "2022-05-21T14:32:45.870470Z",
     "iopub.status.idle": "2022-05-21T14:34:00.612561Z",
     "shell.execute_reply": "2022-05-21T14:34:00.611648Z"
    },
    "papermill": {
     "duration": 74.778163,
     "end_time": "2022-05-21T14:34:00.615269",
     "exception": false,
     "start_time": "2022-05-21T14:32:45.837106",
     "status": "completed"
    },
    "tags": []
   },
   "outputs": [],
   "source": [
    "train.to_csv('train_bureau.csv', index = False)\n",
    "test.to_csv('test_bureau.csv', index = False)"
   ]
  },
  {
   "cell_type": "markdown",
   "id": "9a43ef6c",
   "metadata": {
    "papermill": {
     "duration": 0.032502,
     "end_time": "2022-05-21T14:34:00.680342",
     "exception": false,
     "start_time": "2022-05-21T14:34:00.647840",
     "status": "completed"
    },
    "tags": []
   },
   "source": [
    "## Feature Engineering"
   ]
  },
  {
   "cell_type": "code",
   "execution_count": 12,
   "id": "eb4faa6c",
   "metadata": {
    "execution": {
     "iopub.execute_input": "2022-05-21T14:34:00.748917Z",
     "iopub.status.busy": "2022-05-21T14:34:00.748065Z",
     "iopub.status.idle": "2022-05-21T14:34:00.788097Z",
     "shell.execute_reply": "2022-05-21T14:34:00.786972Z"
    },
    "papermill": {
     "duration": 0.076833,
     "end_time": "2022-05-21T14:34:00.790697",
     "exception": false,
     "start_time": "2022-05-21T14:34:00.713864",
     "status": "completed"
    },
    "tags": []
   },
   "outputs": [
    {
     "data": {
      "text/html": [
       "<div>\n",
       "<style scoped>\n",
       "    .dataframe tbody tr th:only-of-type {\n",
       "        vertical-align: middle;\n",
       "    }\n",
       "\n",
       "    .dataframe tbody tr th {\n",
       "        vertical-align: top;\n",
       "    }\n",
       "\n",
       "    .dataframe thead th {\n",
       "        text-align: right;\n",
       "    }\n",
       "</style>\n",
       "<table border=\"1\" class=\"dataframe\">\n",
       "  <thead>\n",
       "    <tr style=\"text-align: right;\">\n",
       "      <th></th>\n",
       "      <th>SK_ID_CURR</th>\n",
       "      <th>NAME_CONTRACT_TYPE</th>\n",
       "      <th>CODE_GENDER</th>\n",
       "      <th>FLAG_OWN_CAR</th>\n",
       "      <th>FLAG_OWN_REALTY</th>\n",
       "      <th>CNT_CHILDREN</th>\n",
       "      <th>AMT_INCOME_TOTAL</th>\n",
       "      <th>AMT_CREDIT</th>\n",
       "      <th>AMT_ANNUITY</th>\n",
       "      <th>AMT_GOODS_PRICE</th>\n",
       "      <th>...</th>\n",
       "      <th>client_bureau_balance_STATUS_X_count_sum</th>\n",
       "      <th>client_bureau_balance_STATUS_X_count_max</th>\n",
       "      <th>client_bureau_balance_STATUS_X_count_min</th>\n",
       "      <th>client_bureau_balance_STATUS_X_count_count</th>\n",
       "      <th>client_bureau_balance_STATUS_X_mean_mean</th>\n",
       "      <th>client_bureau_balance_STATUS_X_mean_sum</th>\n",
       "      <th>client_bureau_balance_STATUS_X_mean_max</th>\n",
       "      <th>client_bureau_balance_STATUS_X_mean_min</th>\n",
       "      <th>client_bureau_balance_STATUS_X_mean_count</th>\n",
       "      <th>TARGET</th>\n",
       "    </tr>\n",
       "  </thead>\n",
       "  <tbody>\n",
       "    <tr>\n",
       "      <th>0</th>\n",
       "      <td>100002</td>\n",
       "      <td>Cash loans</td>\n",
       "      <td>M</td>\n",
       "      <td>N</td>\n",
       "      <td>Y</td>\n",
       "      <td>0</td>\n",
       "      <td>202500.0</td>\n",
       "      <td>406597.5</td>\n",
       "      <td>24700.5</td>\n",
       "      <td>351000.0</td>\n",
       "      <td>...</td>\n",
       "      <td>15.0</td>\n",
       "      <td>3.0</td>\n",
       "      <td>0.0</td>\n",
       "      <td>8.0</td>\n",
       "      <td>0.161932</td>\n",
       "      <td>1.295455</td>\n",
       "      <td>0.5</td>\n",
       "      <td>0.0</td>\n",
       "      <td>8.0</td>\n",
       "      <td>1</td>\n",
       "    </tr>\n",
       "    <tr>\n",
       "      <th>1</th>\n",
       "      <td>100003</td>\n",
       "      <td>Cash loans</td>\n",
       "      <td>F</td>\n",
       "      <td>N</td>\n",
       "      <td>N</td>\n",
       "      <td>0</td>\n",
       "      <td>270000.0</td>\n",
       "      <td>1293502.5</td>\n",
       "      <td>35698.5</td>\n",
       "      <td>1129500.0</td>\n",
       "      <td>...</td>\n",
       "      <td>0.0</td>\n",
       "      <td>NaN</td>\n",
       "      <td>NaN</td>\n",
       "      <td>0.0</td>\n",
       "      <td>NaN</td>\n",
       "      <td>0.000000</td>\n",
       "      <td>NaN</td>\n",
       "      <td>NaN</td>\n",
       "      <td>0.0</td>\n",
       "      <td>0</td>\n",
       "    </tr>\n",
       "    <tr>\n",
       "      <th>2</th>\n",
       "      <td>100004</td>\n",
       "      <td>Revolving loans</td>\n",
       "      <td>M</td>\n",
       "      <td>Y</td>\n",
       "      <td>Y</td>\n",
       "      <td>0</td>\n",
       "      <td>67500.0</td>\n",
       "      <td>135000.0</td>\n",
       "      <td>6750.0</td>\n",
       "      <td>135000.0</td>\n",
       "      <td>...</td>\n",
       "      <td>0.0</td>\n",
       "      <td>NaN</td>\n",
       "      <td>NaN</td>\n",
       "      <td>0.0</td>\n",
       "      <td>NaN</td>\n",
       "      <td>0.000000</td>\n",
       "      <td>NaN</td>\n",
       "      <td>NaN</td>\n",
       "      <td>0.0</td>\n",
       "      <td>0</td>\n",
       "    </tr>\n",
       "    <tr>\n",
       "      <th>3</th>\n",
       "      <td>100006</td>\n",
       "      <td>Cash loans</td>\n",
       "      <td>F</td>\n",
       "      <td>N</td>\n",
       "      <td>Y</td>\n",
       "      <td>0</td>\n",
       "      <td>135000.0</td>\n",
       "      <td>312682.5</td>\n",
       "      <td>29686.5</td>\n",
       "      <td>297000.0</td>\n",
       "      <td>...</td>\n",
       "      <td>NaN</td>\n",
       "      <td>NaN</td>\n",
       "      <td>NaN</td>\n",
       "      <td>NaN</td>\n",
       "      <td>NaN</td>\n",
       "      <td>NaN</td>\n",
       "      <td>NaN</td>\n",
       "      <td>NaN</td>\n",
       "      <td>NaN</td>\n",
       "      <td>0</td>\n",
       "    </tr>\n",
       "    <tr>\n",
       "      <th>4</th>\n",
       "      <td>100007</td>\n",
       "      <td>Cash loans</td>\n",
       "      <td>M</td>\n",
       "      <td>N</td>\n",
       "      <td>Y</td>\n",
       "      <td>0</td>\n",
       "      <td>121500.0</td>\n",
       "      <td>513000.0</td>\n",
       "      <td>21865.5</td>\n",
       "      <td>513000.0</td>\n",
       "      <td>...</td>\n",
       "      <td>0.0</td>\n",
       "      <td>NaN</td>\n",
       "      <td>NaN</td>\n",
       "      <td>0.0</td>\n",
       "      <td>NaN</td>\n",
       "      <td>0.000000</td>\n",
       "      <td>NaN</td>\n",
       "      <td>NaN</td>\n",
       "      <td>0.0</td>\n",
       "      <td>0</td>\n",
       "    </tr>\n",
       "  </tbody>\n",
       "</table>\n",
       "<p>5 rows × 333 columns</p>\n",
       "</div>"
      ],
      "text/plain": [
       "   SK_ID_CURR NAME_CONTRACT_TYPE CODE_GENDER FLAG_OWN_CAR FLAG_OWN_REALTY  \\\n",
       "0      100002         Cash loans           M            N               Y   \n",
       "1      100003         Cash loans           F            N               N   \n",
       "2      100004    Revolving loans           M            Y               Y   \n",
       "3      100006         Cash loans           F            N               Y   \n",
       "4      100007         Cash loans           M            N               Y   \n",
       "\n",
       "   CNT_CHILDREN  AMT_INCOME_TOTAL  AMT_CREDIT  AMT_ANNUITY  AMT_GOODS_PRICE  \\\n",
       "0             0          202500.0    406597.5      24700.5         351000.0   \n",
       "1             0          270000.0   1293502.5      35698.5        1129500.0   \n",
       "2             0           67500.0    135000.0       6750.0         135000.0   \n",
       "3             0          135000.0    312682.5      29686.5         297000.0   \n",
       "4             0          121500.0    513000.0      21865.5         513000.0   \n",
       "\n",
       "   ... client_bureau_balance_STATUS_X_count_sum  \\\n",
       "0  ...                                     15.0   \n",
       "1  ...                                      0.0   \n",
       "2  ...                                      0.0   \n",
       "3  ...                                      NaN   \n",
       "4  ...                                      0.0   \n",
       "\n",
       "  client_bureau_balance_STATUS_X_count_max  \\\n",
       "0                                      3.0   \n",
       "1                                      NaN   \n",
       "2                                      NaN   \n",
       "3                                      NaN   \n",
       "4                                      NaN   \n",
       "\n",
       "  client_bureau_balance_STATUS_X_count_min  \\\n",
       "0                                      0.0   \n",
       "1                                      NaN   \n",
       "2                                      NaN   \n",
       "3                                      NaN   \n",
       "4                                      NaN   \n",
       "\n",
       "  client_bureau_balance_STATUS_X_count_count  \\\n",
       "0                                        8.0   \n",
       "1                                        0.0   \n",
       "2                                        0.0   \n",
       "3                                        NaN   \n",
       "4                                        0.0   \n",
       "\n",
       "  client_bureau_balance_STATUS_X_mean_mean  \\\n",
       "0                                 0.161932   \n",
       "1                                      NaN   \n",
       "2                                      NaN   \n",
       "3                                      NaN   \n",
       "4                                      NaN   \n",
       "\n",
       "   client_bureau_balance_STATUS_X_mean_sum  \\\n",
       "0                                 1.295455   \n",
       "1                                 0.000000   \n",
       "2                                 0.000000   \n",
       "3                                      NaN   \n",
       "4                                 0.000000   \n",
       "\n",
       "   client_bureau_balance_STATUS_X_mean_max  \\\n",
       "0                                      0.5   \n",
       "1                                      NaN   \n",
       "2                                      NaN   \n",
       "3                                      NaN   \n",
       "4                                      NaN   \n",
       "\n",
       "   client_bureau_balance_STATUS_X_mean_min  \\\n",
       "0                                      0.0   \n",
       "1                                      NaN   \n",
       "2                                      NaN   \n",
       "3                                      NaN   \n",
       "4                                      NaN   \n",
       "\n",
       "   client_bureau_balance_STATUS_X_mean_count  TARGET  \n",
       "0                                        8.0       1  \n",
       "1                                        0.0       0  \n",
       "2                                        0.0       0  \n",
       "3                                        NaN       0  \n",
       "4                                        0.0       0  \n",
       "\n",
       "[5 rows x 333 columns]"
      ]
     },
     "execution_count": 12,
     "metadata": {},
     "output_type": "execute_result"
    }
   ],
   "source": [
    "train.head()"
   ]
  },
  {
   "cell_type": "code",
   "execution_count": 13,
   "id": "0ee8e181",
   "metadata": {
    "execution": {
     "iopub.execute_input": "2022-05-21T14:34:00.861029Z",
     "iopub.status.busy": "2022-05-21T14:34:00.860707Z",
     "iopub.status.idle": "2022-05-21T14:34:00.868006Z",
     "shell.execute_reply": "2022-05-21T14:34:00.867264Z"
    },
    "papermill": {
     "duration": 0.045988,
     "end_time": "2022-05-21T14:34:00.870235",
     "exception": false,
     "start_time": "2022-05-21T14:34:00.824247",
     "status": "completed"
    },
    "tags": []
   },
   "outputs": [],
   "source": [
    "def get_age_label(days_birth):\n",
    "    \"\"\" Return the age group label (int). \"\"\"\n",
    "    age_years = -days_birth / 365\n",
    "    if age_years < 27: return 1\n",
    "    elif age_years < 40: return 2\n",
    "    elif age_years < 50: return 3\n",
    "    elif age_years < 65: return 4\n",
    "    elif age_years < 99: return 5\n",
    "    else: return 0"
   ]
  },
  {
   "cell_type": "code",
   "execution_count": 14,
   "id": "9c179129",
   "metadata": {
    "execution": {
     "iopub.execute_input": "2022-05-21T14:34:00.939262Z",
     "iopub.status.busy": "2022-05-21T14:34:00.938809Z",
     "iopub.status.idle": "2022-05-21T14:34:00.953494Z",
     "shell.execute_reply": "2022-05-21T14:34:00.952214Z"
    },
    "papermill": {
     "duration": 0.052393,
     "end_time": "2022-05-21T14:34:00.956381",
     "exception": false,
     "start_time": "2022-05-21T14:34:00.903988",
     "status": "completed"
    },
    "tags": []
   },
   "outputs": [],
   "source": [
    "def feature_engineering(df):\n",
    "    df = df[df['CODE_GENDER'] != 'XNA']\n",
    "    df = df[df['AMT_INCOME_TOTAL'] < 2000000]\n",
    "    df['DAYS_EMPLOYED'].replace(365243, np.nan, inplace=True)\n",
    "    df['DAYS_LAST_PHONE_CHANGE'].replace(0, np.nan, inplace=True)\n",
    "    \n",
    "    docs = [f for f in df.columns if 'FLAG_DOC' in f]\n",
    "    df['DOCUMENT_COUNT'] = df[docs].sum(axis=1)\n",
    "    df['NEW_DOC_KURT'] = df[docs].sum(axis=1)\n",
    "    \n",
    "    df['AGE_RANGE'] = df['DAYS_BIRTH'].apply(lambda x: get_age_label(x))\n",
    "    \n",
    "    df['EXT_SOURCES_PROD'] = df['EXT_SOURCE_1'] * df['EXT_SOURCE_2'] * df['EXT_SOURCE_3']\n",
    "    df['EXT_SOURCE_WEIGHT'] = df['EXT_SOURCE_1']*2 + df['EXT_SOURCE_2'] *1 + df['EXT_SOURCE_3'] *3\n",
    "    \n",
    "    for function_name in ['min', 'max', 'mean', 'nanmedian', 'var']:\n",
    "        feature_name = 'EXT_SOURCES_{}'.format(function_name.upper())\n",
    "        df[feature_name] = eval('np.{}'.format(function_name))(\n",
    "            df[['EXT_SOURCE_1', 'EXT_SOURCE_2', 'EXT_SOURCE_3']], axis=1)\n",
    "\n",
    "    # Credit ratios\n",
    "    df['CREDIT_TO_ANNUITY_RATIO'] = df['AMT_CREDIT'] / df['AMT_ANNUITY']\n",
    "    df['CREDIT_TO_GOODS_RATIO'] = df['AMT_CREDIT'] / df['AMT_GOODS_PRICE']\n",
    "    # Income ratios\n",
    "    df['ANNUITY_TO_INCOME_RATIO'] = df['AMT_ANNUITY'] / df['AMT_INCOME_TOTAL']\n",
    "    df['CREDIT_TO_INCOME_RATIO'] = df['AMT_CREDIT'] / df['AMT_INCOME_TOTAL']\n",
    "    df['INCOME_TO_EMPLOYED_RATIO'] = df['AMT_INCOME_TOTAL'] / df['DAYS_EMPLOYED']\n",
    "    df['INCOME_TO_BIRTH_RATIO'] = df['AMT_INCOME_TOTAL'] / df['DAYS_BIRTH']\n",
    "    # Time ratios\n",
    "    df['EMPLOYED_TO_BIRTH_RATIO'] = df['DAYS_EMPLOYED'] / df['DAYS_BIRTH']\n",
    "    df['ID_TO_BIRTH_RATIO'] = df['DAYS_ID_PUBLISH'] / df['DAYS_BIRTH']\n",
    "    df['CAR_TO_BIRTH_RATIO'] = df['OWN_CAR_AGE'] / df['DAYS_BIRTH']\n",
    "    df['CAR_TO_EMPLOYED_RATIO'] = df['OWN_CAR_AGE'] / df['DAYS_EMPLOYED']\n",
    "    df['PHONE_TO_BIRTH_RATIO'] = df['DAYS_LAST_PHONE_CHANGE'] / df['DAYS_BIRTH']\n",
    "    \n",
    "    df = df.reset_index(drop=True)\n",
    "    return df"
   ]
  },
  {
   "cell_type": "code",
   "execution_count": 15,
   "id": "791f7a2f",
   "metadata": {
    "execution": {
     "iopub.execute_input": "2022-05-21T14:34:01.025114Z",
     "iopub.status.busy": "2022-05-21T14:34:01.024672Z",
     "iopub.status.idle": "2022-05-21T14:34:09.619313Z",
     "shell.execute_reply": "2022-05-21T14:34:09.618117Z"
    },
    "papermill": {
     "duration": 8.631671,
     "end_time": "2022-05-21T14:34:09.621614",
     "exception": false,
     "start_time": "2022-05-21T14:34:00.989943",
     "status": "completed"
    },
    "tags": []
   },
   "outputs": [
    {
     "name": "stdout",
     "output_type": "stream",
     "text": [
      "Training data shape:  (307463, 354)\n",
      "Testing data shape:  (48739, 353)\n"
     ]
    }
   ],
   "source": [
    "train_feature_engineered = feature_engineering(train)\n",
    "test_feature_engineered = feature_engineering(test)\n",
    "print('Training data shape: ', train_feature_engineered.shape)\n",
    "print('Testing data shape: ', test_feature_engineered.shape)"
   ]
  },
  {
   "cell_type": "code",
   "execution_count": 16,
   "id": "9c3642e6",
   "metadata": {
    "execution": {
     "iopub.execute_input": "2022-05-21T14:34:09.696125Z",
     "iopub.status.busy": "2022-05-21T14:34:09.695655Z",
     "iopub.status.idle": "2022-05-21T14:35:40.986069Z",
     "shell.execute_reply": "2022-05-21T14:35:40.984960Z"
    },
    "papermill": {
     "duration": 91.332748,
     "end_time": "2022-05-21T14:35:40.989476",
     "exception": false,
     "start_time": "2022-05-21T14:34:09.656728",
     "status": "completed"
    },
    "tags": []
   },
   "outputs": [],
   "source": [
    "train_feature_engineered.to_csv('train_feature_engineered.csv', index = False)\n",
    "test_feature_engineered.to_csv('test_feature_engineered.csv', index = False)"
   ]
  },
  {
   "cell_type": "code",
   "execution_count": 17,
   "id": "0abc000c",
   "metadata": {
    "execution": {
     "iopub.execute_input": "2022-05-21T14:35:41.060072Z",
     "iopub.status.busy": "2022-05-21T14:35:41.059592Z",
     "iopub.status.idle": "2022-05-21T14:35:43.159958Z",
     "shell.execute_reply": "2022-05-21T14:35:43.159148Z"
    },
    "papermill": {
     "duration": 2.137487,
     "end_time": "2022-05-21T14:35:43.162451",
     "exception": false,
     "start_time": "2022-05-21T14:35:41.024964",
     "status": "completed"
    },
    "tags": []
   },
   "outputs": [
    {
     "data": {
      "text/html": [
       "<style type='text/css'>\n",
       ".datatable table.frame { margin-bottom: 0; }\n",
       ".datatable table.frame thead { border-bottom: none; }\n",
       ".datatable table.frame tr.coltypes td {  color: #FFFFFF;  line-height: 6px;  padding: 0 0.5em;}\n",
       ".datatable .bool    { background: #DDDD99; }\n",
       ".datatable .object  { background: #565656; }\n",
       ".datatable .int     { background: #5D9E5D; }\n",
       ".datatable .float   { background: #4040CC; }\n",
       ".datatable .str     { background: #CC4040; }\n",
       ".datatable .time    { background: #40CC40; }\n",
       ".datatable .row_index {  background: var(--jp-border-color3);  border-right: 1px solid var(--jp-border-color0);  color: var(--jp-ui-font-color3);  font-size: 9px;}\n",
       ".datatable .frame tbody td { text-align: left; }\n",
       ".datatable .frame tr.coltypes .row_index {  background: var(--jp-border-color0);}\n",
       ".datatable th:nth-child(2) { padding-left: 12px; }\n",
       ".datatable .hellipsis {  color: var(--jp-cell-editor-border-color);}\n",
       ".datatable .vellipsis {  background: var(--jp-layout-color0);  color: var(--jp-cell-editor-border-color);}\n",
       ".datatable .na {  color: var(--jp-cell-editor-border-color);  font-size: 80%;}\n",
       ".datatable .sp {  opacity: 0.25;}\n",
       ".datatable .footer { font-size: 9px; }\n",
       ".datatable .frame_dimensions {  background: var(--jp-border-color3);  border-top: 1px solid var(--jp-border-color0);  color: var(--jp-ui-font-color3);  display: inline-block;  opacity: 0.6;  padding: 1px 10px 1px 5px;}\n",
       "</style>\n"
      ],
      "text/plain": [
       "<IPython.core.display.HTML object>"
      ]
     },
     "metadata": {},
     "output_type": "display_data"
    }
   ],
   "source": [
    "import lightgbm as lgb\n",
    "\n",
    "from sklearn.model_selection import KFold\n",
    "from sklearn.metrics import roc_auc_score\n",
    "from sklearn.preprocessing import LabelEncoder\n",
    "\n",
    "import gc\n",
    "import matplotlib.pyplot as plt"
   ]
  },
  {
   "cell_type": "code",
   "execution_count": 18,
   "id": "36a817fa",
   "metadata": {
    "execution": {
     "iopub.execute_input": "2022-05-21T14:35:43.233843Z",
     "iopub.status.busy": "2022-05-21T14:35:43.233008Z",
     "iopub.status.idle": "2022-05-21T14:35:43.256547Z",
     "shell.execute_reply": "2022-05-21T14:35:43.255785Z"
    },
    "papermill": {
     "duration": 0.061741,
     "end_time": "2022-05-21T14:35:43.258864",
     "exception": false,
     "start_time": "2022-05-21T14:35:43.197123",
     "status": "completed"
    },
    "tags": []
   },
   "outputs": [],
   "source": [
    "def model(features, test_features, encoding = 'ohe', n_folds =5):\n",
    "    labels = features['TARGET']\n",
    "    train_ids = features['SK_ID_CURR']\n",
    "    test_ids = test_features['SK_ID_CURR']\n",
    "    \n",
    "    train = features.drop(columns = ['TARGET','SK_ID_CURR'])\n",
    "    test = test_features.drop(columns = 'SK_ID_CURR')\n",
    "    \n",
    "    if encoding == 'ohe':\n",
    "        train = pd.get_dummies(train)\n",
    "        test = pd.get_dummies(test)\n",
    "        \n",
    "        train, test = train.align(test, join='inner', axis =1)\n",
    "        cat_indices = 'auto'\n",
    "    elif encoding == 'le':\n",
    "        label_encoder = LabelEncoder()\n",
    "        cat_indices = []\n",
    "        \n",
    "        for i, col in enumerate(train):\n",
    "            if train[col] == 'object':\n",
    "                train[col] = label_encoder.fit_transform(np.array(train[col].astype(str)).reshape(-1,))\n",
    "                test[col] = label_encoder.transform(np.array(test[col].astype(str)).reshape(-1,))\n",
    "                cat_indices.append(i)\n",
    "    else:\n",
    "        raise ValueError(\"Encoding must be either 'ohe' or 'le'\")\n",
    "    print('Traing Data Shape:', train.shape)\n",
    "    print('Testing Data Shape:', test.shape)\n",
    "    \n",
    "    feature_names = list(train.columns)\n",
    "    \n",
    "    train = np.array(train)\n",
    "    test = np.array(test)\n",
    "    \n",
    "    k_fold = KFold(n_splits = n_folds, shuffle = True, random_state = 50)\n",
    "    \n",
    "    feature_importance_values = np.zeros(len(feature_names))\n",
    "    \n",
    "    test_predictions = np.zeros(len(test))\n",
    "    out_of_fold = np.zeros(len(train))\n",
    "    \n",
    "    valid_scores = []\n",
    "    train_scores = []\n",
    "    \n",
    "    for train_indices, valid_indices in k_fold.split(train):\n",
    "        train_features, train_labels = train[train_indices], labels[train_indices]\n",
    "        valid_features, valid_labels = train[valid_indices], labels[valid_indices]\n",
    "        \n",
    "        model = lgb.LGBMClassifier(n_estimators = 10000\n",
    "                                   , objective='binary'\n",
    "                                   , class_weight = 'balanced'\n",
    "                                   , learning_rate = 0.05\n",
    "                                   , reg_alpha = 0.1\n",
    "                                   , reg_lambda = 0.1\n",
    "                                   , subsample = 0.8\n",
    "                                   , n_jobs = -1\n",
    "                                   , random_state= 50\n",
    "                                  )\n",
    "        model.fit(train_features\n",
    "                 , train_labels\n",
    "                 , eval_metric = 'auc'\n",
    "                 , eval_set = [(valid_features, valid_labels), (train_features, train_labels)]\n",
    "                 , eval_names =['valid','train']\n",
    "                 , categorical_feature = cat_indices\n",
    "                 , early_stopping_rounds = 100\n",
    "                 , verbose = 200\n",
    "        )\n",
    "        best_iteration = model.best_iteration_\n",
    "        feature_importance_values += model.feature_importances_ / k_fold.n_splits\n",
    "        \n",
    "        test_predictions += model.predict_proba(test, num_iteration = best_iteration)[:,1] / k_fold.n_splits\n",
    "        \n",
    "        out_of_fold[valid_indices] =model.predict_proba(valid_features, num_iteration = best_iteration)[:,1]\n",
    "        \n",
    "        valid_score = model.best_score_['valid']['auc']\n",
    "        train_score = model.best_score_['train']['auc']\n",
    "        \n",
    "        valid_scores.append(valid_score)\n",
    "        train_scores.append(train_score)\n",
    "        \n",
    "        gc.enable()\n",
    "        del model, train_features, valid_features\n",
    "        gc.collect()\n",
    "        \n",
    "    feature_importacne = pd.DataFrame({'feature':feature_names, 'importance':feature_importance_values})\n",
    "    \n",
    "    submission = pd.DataFrame({'SK_ID_CURR':test_ids, 'TARGET':test_predictions})\n",
    "    \n",
    "    valid_auc = roc_auc_score(labels, out_of_fold)\n",
    "    \n",
    "    valid_scores.append(valid_auc)\n",
    "    train_scores.append(np.mean(train_scores))\n",
    "    \n",
    "    fold_names = list(range(n_folds))\n",
    "    fold_names.append('overall')\n",
    "    \n",
    "    metrics = pd.DataFrame({'fold':fold_names, 'train':train_scores, 'valid': valid_scores})\n",
    "    return submission, feature_importacne, metrics"
   ]
  },
  {
   "cell_type": "code",
   "execution_count": 19,
   "id": "7cfc3157",
   "metadata": {
    "execution": {
     "iopub.execute_input": "2022-05-21T14:35:43.330513Z",
     "iopub.status.busy": "2022-05-21T14:35:43.330057Z",
     "iopub.status.idle": "2022-05-21T14:35:43.338438Z",
     "shell.execute_reply": "2022-05-21T14:35:43.337647Z"
    },
    "papermill": {
     "duration": 0.047489,
     "end_time": "2022-05-21T14:35:43.340614",
     "exception": false,
     "start_time": "2022-05-21T14:35:43.293125",
     "status": "completed"
    },
    "tags": []
   },
   "outputs": [],
   "source": [
    "def plot_feature_importances(df):\n",
    "    df = df.sort_values('importance', ascending = False).reset_index()\n",
    "    \n",
    "    df['importance_nomalized'] = df['importance'] / df['importance'].sum()\n",
    "    \n",
    "    plt.figure(figsize = (10, 6))\n",
    "    ax = plt.subplot()\n",
    "    \n",
    "    ax.barh(list(reversed(list(df.index[:15]))),\n",
    "           df['importance_nomalized'].head(15),\n",
    "           align = 'center',\n",
    "           edgecolor = 'k')\n",
    "    \n",
    "    ax.set_yticks(list(reversed(list(df.index[:15]))))\n",
    "    ax.set_yticklabels(df['feature'].head(15))\n",
    "    \n",
    "    plt.xlabel('Normalized Importance')\n",
    "    plt.ylabel('Feature Importances')\n",
    "    plt.show()\n",
    "    \n",
    "    return df"
   ]
  },
  {
   "cell_type": "code",
   "execution_count": 20,
   "id": "8597467b",
   "metadata": {
    "execution": {
     "iopub.execute_input": "2022-05-21T14:35:43.412436Z",
     "iopub.status.busy": "2022-05-21T14:35:43.412002Z",
     "iopub.status.idle": "2022-05-21T14:42:30.209982Z",
     "shell.execute_reply": "2022-05-21T14:42:30.208814Z"
    },
    "papermill": {
     "duration": 406.837299,
     "end_time": "2022-05-21T14:42:30.212977",
     "exception": false,
     "start_time": "2022-05-21T14:35:43.375678",
     "status": "completed"
    },
    "tags": []
   },
   "outputs": [
    {
     "name": "stdout",
     "output_type": "stream",
     "text": [
      "Traing Data Shape: (307511, 452)\n",
      "Testing Data Shape: (48744, 452)\n",
      "[200]\ttrain's auc: 0.810821\ttrain's binary_logloss: 0.53617\tvalid's auc: 0.763278\tvalid's binary_logloss: 0.553135\n",
      "[200]\ttrain's auc: 0.810727\ttrain's binary_logloss: 0.53666\tvalid's auc: 0.765248\tvalid's binary_logloss: 0.553447\n",
      "[200]\ttrain's auc: 0.809569\ttrain's binary_logloss: 0.538079\tvalid's auc: 0.770518\tvalid's binary_logloss: 0.554759\n",
      "[200]\ttrain's auc: 0.810367\ttrain's binary_logloss: 0.537096\tvalid's auc: 0.765831\tvalid's binary_logloss: 0.552573\n",
      "[200]\ttrain's auc: 0.810433\ttrain's binary_logloss: 0.536726\tvalid's auc: 0.76417\tvalid's binary_logloss: 0.554751\n"
     ]
    }
   ],
   "source": [
    "submission, fi, metrics = model(train,test)"
   ]
  },
  {
   "cell_type": "code",
   "execution_count": 21,
   "id": "0e96aadd",
   "metadata": {
    "execution": {
     "iopub.execute_input": "2022-05-21T14:42:30.288401Z",
     "iopub.status.busy": "2022-05-21T14:42:30.287793Z",
     "iopub.status.idle": "2022-05-21T14:42:30.633465Z",
     "shell.execute_reply": "2022-05-21T14:42:30.632421Z"
    },
    "papermill": {
     "duration": 0.386267,
     "end_time": "2022-05-21T14:42:30.635646",
     "exception": false,
     "start_time": "2022-05-21T14:42:30.249379",
     "status": "completed"
    },
    "tags": []
   },
   "outputs": [
    {
     "data": {
      "image/png": "[encoded data removed]",
      "text/plain": [
       "<Figure size 720x432 with 1 Axes>"
      ]
     },
     "metadata": {},
     "output_type": "display_data"
    },
    {
     "data": {
      "text/html": [
       "<div>\n",
       "<style scoped>\n",
       "    .dataframe tbody tr th:only-of-type {\n",
       "        vertical-align: middle;\n",
       "    }\n",
       "\n",
       "    .dataframe tbody tr th {\n",
       "        vertical-align: top;\n",
       "    }\n",
       "\n",
       "    .dataframe thead th {\n",
       "        text-align: right;\n",
       "    }\n",
       "</style>\n",
       "<table border=\"1\" class=\"dataframe\">\n",
       "  <thead>\n",
       "    <tr style=\"text-align: right;\">\n",
       "      <th></th>\n",
       "      <th>index</th>\n",
       "      <th>feature</th>\n",
       "      <th>importance</th>\n",
       "      <th>importance_nomalized</th>\n",
       "    </tr>\n",
       "  </thead>\n",
       "  <tbody>\n",
       "    <tr>\n",
       "      <th>0</th>\n",
       "      <td>27</td>\n",
       "      <td>EXT_SOURCE_1</td>\n",
       "      <td>452.8</td>\n",
       "      <td>0.056445</td>\n",
       "    </tr>\n",
       "    <tr>\n",
       "      <th>1</th>\n",
       "      <td>29</td>\n",
       "      <td>EXT_SOURCE_3</td>\n",
       "      <td>360.4</td>\n",
       "      <td>0.044926</td>\n",
       "    </tr>\n",
       "    <tr>\n",
       "      <th>2</th>\n",
       "      <td>28</td>\n",
       "      <td>EXT_SOURCE_2</td>\n",
       "      <td>350.0</td>\n",
       "      <td>0.043630</td>\n",
       "    </tr>\n",
       "    <tr>\n",
       "      <th>3</th>\n",
       "      <td>6</td>\n",
       "      <td>DAYS_BIRTH</td>\n",
       "      <td>315.8</td>\n",
       "      <td>0.039367</td>\n",
       "    </tr>\n",
       "    <tr>\n",
       "      <th>4</th>\n",
       "      <td>2</td>\n",
       "      <td>AMT_CREDIT</td>\n",
       "      <td>274.4</td>\n",
       "      <td>0.034206</td>\n",
       "    </tr>\n",
       "    <tr>\n",
       "      <th>...</th>\n",
       "      <td>...</td>\n",
       "      <td>...</td>\n",
       "      <td>...</td>\n",
       "      <td>...</td>\n",
       "    </tr>\n",
       "    <tr>\n",
       "      <th>447</th>\n",
       "      <td>135</td>\n",
       "      <td>bureau_CREDIT_TYPE_Loan for purchase of shares...</td>\n",
       "      <td>0.0</td>\n",
       "      <td>0.000000</td>\n",
       "    </tr>\n",
       "    <tr>\n",
       "      <th>448</th>\n",
       "      <td>325</td>\n",
       "      <td>NAME_TYPE_SUITE_Group of people</td>\n",
       "      <td>0.0</td>\n",
       "      <td>0.000000</td>\n",
       "    </tr>\n",
       "    <tr>\n",
       "      <th>449</th>\n",
       "      <td>322</td>\n",
       "      <td>FLAG_OWN_REALTY_Y</td>\n",
       "      <td>0.0</td>\n",
       "      <td>0.000000</td>\n",
       "    </tr>\n",
       "    <tr>\n",
       "      <th>450</th>\n",
       "      <td>134</td>\n",
       "      <td>bureau_CREDIT_TYPE_Loan for purchase of shares...</td>\n",
       "      <td>0.0</td>\n",
       "      <td>0.000000</td>\n",
       "    </tr>\n",
       "    <tr>\n",
       "      <th>451</th>\n",
       "      <td>451</td>\n",
       "      <td>EMERGENCYSTATE_MODE_Yes</td>\n",
       "      <td>0.0</td>\n",
       "      <td>0.000000</td>\n",
       "    </tr>\n",
       "  </tbody>\n",
       "</table>\n",
       "<p>452 rows × 4 columns</p>\n",
       "</div>"
      ],
      "text/plain": [
       "     index                                            feature  importance  \\\n",
       "0       27                                       EXT_SOURCE_1       452.8   \n",
       "1       29                                       EXT_SOURCE_3       360.4   \n",
       "2       28                                       EXT_SOURCE_2       350.0   \n",
       "3        6                                         DAYS_BIRTH       315.8   \n",
       "4        2                                         AMT_CREDIT       274.4   \n",
       "..     ...                                                ...         ...   \n",
       "447    135  bureau_CREDIT_TYPE_Loan for purchase of shares...         0.0   \n",
       "448    325                    NAME_TYPE_SUITE_Group of people         0.0   \n",
       "449    322                                  FLAG_OWN_REALTY_Y         0.0   \n",
       "450    134  bureau_CREDIT_TYPE_Loan for purchase of shares...         0.0   \n",
       "451    451                            EMERGENCYSTATE_MODE_Yes         0.0   \n",
       "\n",
       "     importance_nomalized  \n",
       "0                0.056445  \n",
       "1                0.044926  \n",
       "2                0.043630  \n",
       "3                0.039367  \n",
       "4                0.034206  \n",
       "..                    ...  \n",
       "447              0.000000  \n",
       "448              0.000000  \n",
       "449              0.000000  \n",
       "450              0.000000  \n",
       "451              0.000000  \n",
       "\n",
       "[452 rows x 4 columns]"
      ]
     },
     "execution_count": 21,
     "metadata": {},
     "output_type": "execute_result"
    }
   ],
   "source": [
    "plot_feature_importances(fi)"
   ]
  },
  {
   "cell_type": "code",
   "execution_count": 22,
   "id": "69feeb60",
   "metadata": {
    "execution": {
     "iopub.execute_input": "2022-05-21T14:42:30.717643Z",
     "iopub.status.busy": "2022-05-21T14:42:30.717187Z",
     "iopub.status.idle": "2022-05-21T14:42:30.728947Z",
     "shell.execute_reply": "2022-05-21T14:42:30.727914Z"
    },
    "papermill": {
     "duration": 0.05691,
     "end_time": "2022-05-21T14:42:30.731469",
     "exception": false,
     "start_time": "2022-05-21T14:42:30.674559",
     "status": "completed"
    },
    "tags": []
   },
   "outputs": [
    {
     "data": {
      "text/html": [
       "<div>\n",
       "<style scoped>\n",
       "    .dataframe tbody tr th:only-of-type {\n",
       "        vertical-align: middle;\n",
       "    }\n",
       "\n",
       "    .dataframe tbody tr th {\n",
       "        vertical-align: top;\n",
       "    }\n",
       "\n",
       "    .dataframe thead th {\n",
       "        text-align: right;\n",
       "    }\n",
       "</style>\n",
       "<table border=\"1\" class=\"dataframe\">\n",
       "  <thead>\n",
       "    <tr style=\"text-align: right;\">\n",
       "      <th></th>\n",
       "      <th>fold</th>\n",
       "      <th>train</th>\n",
       "      <th>valid</th>\n",
       "    </tr>\n",
       "  </thead>\n",
       "  <tbody>\n",
       "    <tr>\n",
       "      <th>0</th>\n",
       "      <td>0</td>\n",
       "      <td>0.823660</td>\n",
       "      <td>0.763730</td>\n",
       "    </tr>\n",
       "    <tr>\n",
       "      <th>1</th>\n",
       "      <td>1</td>\n",
       "      <td>0.824682</td>\n",
       "      <td>0.766092</td>\n",
       "    </tr>\n",
       "    <tr>\n",
       "      <th>2</th>\n",
       "      <td>2</td>\n",
       "      <td>0.826798</td>\n",
       "      <td>0.771362</td>\n",
       "    </tr>\n",
       "    <tr>\n",
       "      <th>3</th>\n",
       "      <td>3</td>\n",
       "      <td>0.817720</td>\n",
       "      <td>0.766207</td>\n",
       "    </tr>\n",
       "    <tr>\n",
       "      <th>4</th>\n",
       "      <td>4</td>\n",
       "      <td>0.821525</td>\n",
       "      <td>0.764642</td>\n",
       "    </tr>\n",
       "    <tr>\n",
       "      <th>5</th>\n",
       "      <td>overall</td>\n",
       "      <td>0.822877</td>\n",
       "      <td>0.766404</td>\n",
       "    </tr>\n",
       "  </tbody>\n",
       "</table>\n",
       "</div>"
      ],
      "text/plain": [
       "      fold     train     valid\n",
       "0        0  0.823660  0.763730\n",
       "1        1  0.824682  0.766092\n",
       "2        2  0.826798  0.771362\n",
       "3        3  0.817720  0.766207\n",
       "4        4  0.821525  0.764642\n",
       "5  overall  0.822877  0.766404"
      ]
     },
     "execution_count": 22,
     "metadata": {},
     "output_type": "execute_result"
    }
   ],
   "source": [
    "metrics"
   ]
  },
  {
   "cell_type": "code",
   "execution_count": 23,
   "id": "2a0abae4",
   "metadata": {
    "execution": {
     "iopub.execute_input": "2022-05-21T14:42:30.817288Z",
     "iopub.status.busy": "2022-05-21T14:42:30.816990Z",
     "iopub.status.idle": "2022-05-21T14:51:00.061463Z",
     "shell.execute_reply": "2022-05-21T14:51:00.060444Z"
    },
    "papermill": {
     "duration": 509.291752,
     "end_time": "2022-05-21T14:51:00.064798",
     "exception": false,
     "start_time": "2022-05-21T14:42:30.773046",
     "status": "completed"
    },
    "tags": []
   },
   "outputs": [
    {
     "name": "stdout",
     "output_type": "stream",
     "text": [
      "Traing Data Shape: (307463, 473)\n",
      "Testing Data Shape: (48739, 473)\n",
      "[200]\ttrain's auc: 0.815659\ttrain's binary_logloss: 0.530203\tvalid's auc: 0.771883\tvalid's binary_logloss: 0.546744\n",
      "[200]\ttrain's auc: 0.815998\ttrain's binary_logloss: 0.529594\tvalid's auc: 0.770062\tvalid's binary_logloss: 0.546099\n",
      "[400]\ttrain's auc: 0.850903\ttrain's binary_logloss: 0.492664\tvalid's auc: 0.77065\tvalid's binary_logloss: 0.523572\n",
      "[200]\ttrain's auc: 0.815952\ttrain's binary_logloss: 0.529834\tvalid's auc: 0.77381\tvalid's binary_logloss: 0.547175\n",
      "[400]\ttrain's auc: 0.85105\ttrain's binary_logloss: 0.492922\tvalid's auc: 0.775925\tvalid's binary_logloss: 0.523701\n",
      "[200]\ttrain's auc: 0.815944\ttrain's binary_logloss: 0.529744\tvalid's auc: 0.768323\tvalid's binary_logloss: 0.552721\n",
      "[400]\ttrain's auc: 0.851144\ttrain's binary_logloss: 0.492664\tvalid's auc: 0.769775\tvalid's binary_logloss: 0.529509\n",
      "[200]\ttrain's auc: 0.814885\ttrain's binary_logloss: 0.530791\tvalid's auc: 0.775488\tvalid's binary_logloss: 0.547882\n",
      "[400]\ttrain's auc: 0.849993\ttrain's binary_logloss: 0.493889\tvalid's auc: 0.776108\tvalid's binary_logloss: 0.524856\n"
     ]
    }
   ],
   "source": [
    "submission_engineered, fi_engineered, metrics_engineered = model(train_feature_engineered, test_feature_engineered)"
   ]
  },
  {
   "cell_type": "code",
   "execution_count": 24,
   "id": "94e74eb9",
   "metadata": {
    "execution": {
     "iopub.execute_input": "2022-05-21T14:51:00.154371Z",
     "iopub.status.busy": "2022-05-21T14:51:00.154092Z",
     "iopub.status.idle": "2022-05-21T14:51:00.484401Z",
     "shell.execute_reply": "2022-05-21T14:51:00.473284Z"
    },
    "papermill": {
     "duration": 0.380929,
     "end_time": "2022-05-21T14:51:00.489409",
     "exception": false,
     "start_time": "2022-05-21T14:51:00.108480",
     "status": "completed"
    },
    "tags": []
   },
   "outputs": [
    {
     "data": {
      "image/png": "[encoded data removed]",
      "text/plain": [
       "<Figure size 720x432 with 1 Axes>"
      ]
     },
     "metadata": {},
     "output_type": "display_data"
    },
    {
     "data": {
      "text/html": [
       "<div>\n",
       "<style scoped>\n",
       "    .dataframe tbody tr th:only-of-type {\n",
       "        vertical-align: middle;\n",
       "    }\n",
       "\n",
       "    .dataframe tbody tr th {\n",
       "        vertical-align: top;\n",
       "    }\n",
       "\n",
       "    .dataframe thead th {\n",
       "        text-align: right;\n",
       "    }\n",
       "</style>\n",
       "<table border=\"1\" class=\"dataframe\">\n",
       "  <thead>\n",
       "    <tr style=\"text-align: right;\">\n",
       "      <th></th>\n",
       "      <th>index</th>\n",
       "      <th>feature</th>\n",
       "      <th>importance</th>\n",
       "      <th>importance_nomalized</th>\n",
       "    </tr>\n",
       "  </thead>\n",
       "  <tbody>\n",
       "    <tr>\n",
       "      <th>0</th>\n",
       "      <td>325</td>\n",
       "      <td>CREDIT_TO_ANNUITY_RATIO</td>\n",
       "      <td>595.2</td>\n",
       "      <td>0.057077</td>\n",
       "    </tr>\n",
       "    <tr>\n",
       "      <th>1</th>\n",
       "      <td>6</td>\n",
       "      <td>DAYS_BIRTH</td>\n",
       "      <td>268.8</td>\n",
       "      <td>0.025777</td>\n",
       "    </tr>\n",
       "    <tr>\n",
       "      <th>2</th>\n",
       "      <td>29</td>\n",
       "      <td>EXT_SOURCE_3</td>\n",
       "      <td>227.8</td>\n",
       "      <td>0.021845</td>\n",
       "    </tr>\n",
       "    <tr>\n",
       "      <th>3</th>\n",
       "      <td>322</td>\n",
       "      <td>EXT_SOURCES_MEAN</td>\n",
       "      <td>217.2</td>\n",
       "      <td>0.020829</td>\n",
       "    </tr>\n",
       "    <tr>\n",
       "      <th>4</th>\n",
       "      <td>326</td>\n",
       "      <td>CREDIT_TO_GOODS_RATIO</td>\n",
       "      <td>200.2</td>\n",
       "      <td>0.019198</td>\n",
       "    </tr>\n",
       "    <tr>\n",
       "      <th>...</th>\n",
       "      <td>...</td>\n",
       "      <td>...</td>\n",
       "      <td>...</td>\n",
       "      <td>...</td>\n",
       "    </tr>\n",
       "    <tr>\n",
       "      <th>468</th>\n",
       "      <td>346</td>\n",
       "      <td>NAME_TYPE_SUITE_Group of people</td>\n",
       "      <td>0.0</td>\n",
       "      <td>0.000000</td>\n",
       "    </tr>\n",
       "    <tr>\n",
       "      <th>469</th>\n",
       "      <td>347</td>\n",
       "      <td>NAME_TYPE_SUITE_Other_A</td>\n",
       "      <td>0.0</td>\n",
       "      <td>0.000000</td>\n",
       "    </tr>\n",
       "    <tr>\n",
       "      <th>470</th>\n",
       "      <td>254</td>\n",
       "      <td>client_bureau_balance_STATUS_1_mean_count</td>\n",
       "      <td>0.0</td>\n",
       "      <td>0.000000</td>\n",
       "    </tr>\n",
       "    <tr>\n",
       "      <th>471</th>\n",
       "      <td>348</td>\n",
       "      <td>NAME_TYPE_SUITE_Other_B</td>\n",
       "      <td>0.0</td>\n",
       "      <td>0.000000</td>\n",
       "    </tr>\n",
       "    <tr>\n",
       "      <th>472</th>\n",
       "      <td>130</td>\n",
       "      <td>bureau_CREDIT_TYPE_Interbank credit_count</td>\n",
       "      <td>0.0</td>\n",
       "      <td>0.000000</td>\n",
       "    </tr>\n",
       "  </tbody>\n",
       "</table>\n",
       "<p>473 rows × 4 columns</p>\n",
       "</div>"
      ],
      "text/plain": [
       "     index                                    feature  importance  \\\n",
       "0      325                    CREDIT_TO_ANNUITY_RATIO       595.2   \n",
       "1        6                                 DAYS_BIRTH       268.8   \n",
       "2       29                               EXT_SOURCE_3       227.8   \n",
       "3      322                           EXT_SOURCES_MEAN       217.2   \n",
       "4      326                      CREDIT_TO_GOODS_RATIO       200.2   \n",
       "..     ...                                        ...         ...   \n",
       "468    346            NAME_TYPE_SUITE_Group of people         0.0   \n",
       "469    347                    NAME_TYPE_SUITE_Other_A         0.0   \n",
       "470    254  client_bureau_balance_STATUS_1_mean_count         0.0   \n",
       "471    348                    NAME_TYPE_SUITE_Other_B         0.0   \n",
       "472    130  bureau_CREDIT_TYPE_Interbank credit_count         0.0   \n",
       "\n",
       "     importance_nomalized  \n",
       "0                0.057077  \n",
       "1                0.025777  \n",
       "2                0.021845  \n",
       "3                0.020829  \n",
       "4                0.019198  \n",
       "..                    ...  \n",
       "468              0.000000  \n",
       "469              0.000000  \n",
       "470              0.000000  \n",
       "471              0.000000  \n",
       "472              0.000000  \n",
       "\n",
       "[473 rows x 4 columns]"
      ]
     },
     "execution_count": 24,
     "metadata": {},
     "output_type": "execute_result"
    }
   ],
   "source": [
    "plot_feature_importances(fi_engineered)"
   ]
  },
  {
   "cell_type": "code",
   "execution_count": 25,
   "id": "deb54848",
   "metadata": {
    "execution": {
     "iopub.execute_input": "2022-05-21T14:51:00.584354Z",
     "iopub.status.busy": "2022-05-21T14:51:00.584043Z",
     "iopub.status.idle": "2022-05-21T14:51:00.599250Z",
     "shell.execute_reply": "2022-05-21T14:51:00.597644Z"
    },
    "papermill": {
     "duration": 0.065618,
     "end_time": "2022-05-21T14:51:00.601687",
     "exception": false,
     "start_time": "2022-05-21T14:51:00.536069",
     "status": "completed"
    },
    "tags": []
   },
   "outputs": [
    {
     "data": {
      "text/html": [
       "<div>\n",
       "<style scoped>\n",
       "    .dataframe tbody tr th:only-of-type {\n",
       "        vertical-align: middle;\n",
       "    }\n",
       "\n",
       "    .dataframe tbody tr th {\n",
       "        vertical-align: top;\n",
       "    }\n",
       "\n",
       "    .dataframe thead th {\n",
       "        text-align: right;\n",
       "    }\n",
       "</style>\n",
       "<table border=\"1\" class=\"dataframe\">\n",
       "  <thead>\n",
       "    <tr style=\"text-align: right;\">\n",
       "      <th></th>\n",
       "      <th>fold</th>\n",
       "      <th>train</th>\n",
       "      <th>valid</th>\n",
       "    </tr>\n",
       "  </thead>\n",
       "  <tbody>\n",
       "    <tr>\n",
       "      <th>0</th>\n",
       "      <td>0</td>\n",
       "      <td>0.827294</td>\n",
       "      <td>0.772525</td>\n",
       "    </tr>\n",
       "    <tr>\n",
       "      <th>1</th>\n",
       "      <td>1</td>\n",
       "      <td>0.838932</td>\n",
       "      <td>0.770862</td>\n",
       "    </tr>\n",
       "    <tr>\n",
       "      <th>2</th>\n",
       "      <td>2</td>\n",
       "      <td>0.858705</td>\n",
       "      <td>0.776032</td>\n",
       "    </tr>\n",
       "    <tr>\n",
       "      <th>3</th>\n",
       "      <td>3</td>\n",
       "      <td>0.847241</td>\n",
       "      <td>0.769914</td>\n",
       "    </tr>\n",
       "    <tr>\n",
       "      <th>4</th>\n",
       "      <td>4</td>\n",
       "      <td>0.838210</td>\n",
       "      <td>0.776313</td>\n",
       "    </tr>\n",
       "    <tr>\n",
       "      <th>5</th>\n",
       "      <td>overall</td>\n",
       "      <td>0.842076</td>\n",
       "      <td>0.773072</td>\n",
       "    </tr>\n",
       "  </tbody>\n",
       "</table>\n",
       "</div>"
      ],
      "text/plain": [
       "      fold     train     valid\n",
       "0        0  0.827294  0.772525\n",
       "1        1  0.838932  0.770862\n",
       "2        2  0.858705  0.776032\n",
       "3        3  0.847241  0.769914\n",
       "4        4  0.838210  0.776313\n",
       "5  overall  0.842076  0.773072"
      ]
     },
     "execution_count": 25,
     "metadata": {},
     "output_type": "execute_result"
    }
   ],
   "source": [
    "metrics_engineered"
   ]
  },
  {
   "cell_type": "code",
   "execution_count": null,
   "id": "3c9c7bc1",
   "metadata": {
    "execution": {
     "iopub.execute_input": "2022-05-21T14:08:01.845347Z",
     "iopub.status.busy": "2022-05-21T14:08:01.844477Z",
     "iopub.status.idle": "2022-05-21T14:08:01.853448Z",
     "shell.execute_reply": "2022-05-21T14:08:01.852881Z",
     "shell.execute_reply.started": "2022-05-21T14:08:01.845309Z"
    },
    "papermill": {
     "duration": 0.047693,
     "end_time": "2022-05-21T14:51:00.696748",
     "exception": false,
     "start_time": "2022-05-21T14:51:00.649055",
     "status": "completed"
    },
    "tags": []
   },
   "outputs": [],
   "source": []
  },
  {
   "cell_type": "code",
   "execution_count": null,
   "id": "939ac26d",
   "metadata": {
    "papermill": {
     "duration": 0.047427,
     "end_time": "2022-05-21T14:51:00.792452",
     "exception": false,
     "start_time": "2022-05-21T14:51:00.745025",
     "status": "completed"
    },
    "tags": []
   },
   "outputs": [],
   "source": []
  }
 ],
 "metadata": {
  "kernelspec": {
   "display_name": "Python 3",
   "language": "python",
   "name": "python3"
  },
  "language_info": {
   "codemirror_mode": {
    "name": "ipython",
    "version": 3
   },
   "file_extension": ".py",
   "mimetype": "text/x-python",
   "name": "python",
   "nbconvert_exporter": "python",
   "pygments_lexer": "ipython3",
   "version": "3.7.12"
  },
  "papermill": {
   "default_parameters": {},
   "duration": 1180.615286,
   "end_time": "2022-05-21T14:51:01.969784",
   "environment_variables": {},
   "exception": null,
   "input_path": "__notebook__.ipynb",
   "output_path": "__notebook__.ipynb",
   "parameters": {},
   "start_time": "2022-05-21T14:31:21.354498",
   "version": "2.3.4"
  }
 },
 "nbformat": 4,
 "nbformat_minor": 5
}
