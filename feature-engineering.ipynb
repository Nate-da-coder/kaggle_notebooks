{
 "cells": [
  {
   "cell_type": "code",
   "execution_count": 1,
   "id": "dc41b70b",
   "metadata": {
    "_cell_guid": "b1076dfc-b9ad-4769-8c92-a6c4dae69d19",
    "_uuid": "8f2839f25d086af736a60e9eeb907d3b93b6e0e5",
    "execution": {
     "iopub.execute_input": "2022-05-22T07:02:55.840810Z",
     "iopub.status.busy": "2022-05-22T07:02:55.840251Z",
     "iopub.status.idle": "2022-05-22T07:02:55.850958Z",
     "shell.execute_reply": "2022-05-22T07:02:55.850106Z"
    },
    "papermill": {
     "duration": 0.056132,
     "end_time": "2022-05-22T07:02:55.853180",
     "exception": false,
     "start_time": "2022-05-22T07:02:55.797048",
     "status": "completed"
    },
    "tags": []
   },
   "outputs": [],
   "source": [
    "import pandas as pd\n",
    "import numpy as np\n",
    "\n",
    "import matplotlib.pyplot as plt\n",
    "\n",
    "import gc \n",
    "import warnings \n",
    "warnings.filterwarnings('ignore')\n",
    "\n",
    "plt.style.use('fivethirtyeight')"
   ]
  },
  {
   "cell_type": "code",
   "execution_count": 2,
   "id": "3c0a2bd6",
   "metadata": {
    "execution": {
     "iopub.execute_input": "2022-05-22T07:02:55.937323Z",
     "iopub.status.busy": "2022-05-22T07:02:55.936898Z",
     "iopub.status.idle": "2022-05-22T07:03:19.887204Z",
     "shell.execute_reply": "2022-05-22T07:03:19.885678Z"
    },
    "papermill": {
     "duration": 23.997759,
     "end_time": "2022-05-22T07:03:19.891890",
     "exception": false,
     "start_time": "2022-05-22T07:02:55.894131",
     "status": "completed"
    },
    "tags": []
   },
   "outputs": [],
   "source": [
    "application_train = pd.read_csv('../input/home-credit-default-risk/application_train.csv')\n",
    "application_test = pd.read_csv('../input/home-credit-default-risk/application_test.csv')\n",
    "bureau = pd.read_csv('../input/home-credit-default-risk/bureau.csv')\n",
    "bureau_balance = pd.read_csv('../input/home-credit-default-risk/bureau_balance.csv')"
   ]
  },
  {
   "cell_type": "code",
   "execution_count": 3,
   "id": "328b57ae",
   "metadata": {
    "execution": {
     "iopub.execute_input": "2022-05-22T07:03:19.976317Z",
     "iopub.status.busy": "2022-05-22T07:03:19.975970Z",
     "iopub.status.idle": "2022-05-22T07:03:19.987458Z",
     "shell.execute_reply": "2022-05-22T07:03:19.986706Z"
    },
    "papermill": {
     "duration": 0.054824,
     "end_time": "2022-05-22T07:03:19.989385",
     "exception": false,
     "start_time": "2022-05-22T07:03:19.934561",
     "status": "completed"
    },
    "tags": []
   },
   "outputs": [],
   "source": [
    "def agg_numeric(df, group_var, df_name):\n",
    "    numeric_df = df.select_dtypes('number')\n",
    "    numeric_df = numeric_df.groupby(group_var).agg(['mean', 'sum','max','min','count']).reset_index()\n",
    "    \n",
    "    columns = [group_var]\n",
    "    for var in numeric_df.columns.levels[0]:\n",
    "        if var != group_var:\n",
    "            for stat in numeric_df.columns.levels[1][:-1]:\n",
    "                columns.append('%s_%s_%s'%(df_name, var, stat))\n",
    "    numeric_df.columns = columns\n",
    "    return numeric_df\n",
    "\n",
    "def count_categorical(df, group_var, df_name):\n",
    "    categorical_df = pd.get_dummies(df.select_dtypes('object'))\n",
    "    categorical_df[group_var] = df[group_var]\n",
    "    \n",
    "    categorical_df = categorical_df.groupby(group_var).agg(['sum','mean'])\n",
    "    \n",
    "    columns = []\n",
    "    \n",
    "    for var in categorical_df.columns.levels[0]:\n",
    "        for stat in ['count','mean']:\n",
    "            columns.append('%s_%s_%s'%(df_name, var, stat))\n",
    "    categorical_df.columns = columns\n",
    "    return categorical_df"
   ]
  },
  {
   "cell_type": "code",
   "execution_count": 4,
   "id": "21458196",
   "metadata": {
    "execution": {
     "iopub.execute_input": "2022-05-22T07:03:20.077643Z",
     "iopub.status.busy": "2022-05-22T07:03:20.077332Z",
     "iopub.status.idle": "2022-05-22T07:03:38.743509Z",
     "shell.execute_reply": "2022-05-22T07:03:38.742556Z"
    },
    "papermill": {
     "duration": 18.709993,
     "end_time": "2022-05-22T07:03:38.745961",
     "exception": false,
     "start_time": "2022-05-22T07:03:20.035968",
     "status": "completed"
    },
    "tags": []
   },
   "outputs": [],
   "source": [
    "bureau_agg = agg_numeric(bureau.drop(columns ='SK_ID_BUREAU'), 'SK_ID_CURR', 'bureau')\n",
    "bureau_count = count_categorical(bureau.drop(columns ='SK_ID_BUREAU'), 'SK_ID_CURR', 'bureau')\n",
    "bureau_balance_agg = agg_numeric(bureau_balance, 'SK_ID_BUREAU', 'bureau_balance')\n",
    "bureau_balance_count = count_categorical(bureau_balance, 'SK_ID_BUREAU', 'bureau_balance')"
   ]
  },
  {
   "cell_type": "code",
   "execution_count": 5,
   "id": "c57bbda3",
   "metadata": {
    "execution": {
     "iopub.execute_input": "2022-05-22T07:03:38.828850Z",
     "iopub.status.busy": "2022-05-22T07:03:38.828405Z",
     "iopub.status.idle": "2022-05-22T07:03:44.377154Z",
     "shell.execute_reply": "2022-05-22T07:03:44.376236Z"
    },
    "papermill": {
     "duration": 5.59247,
     "end_time": "2022-05-22T07:03:44.379628",
     "exception": false,
     "start_time": "2022-05-22T07:03:38.787158",
     "status": "completed"
    },
    "tags": []
   },
   "outputs": [],
   "source": [
    "bureau_balance_by_bureau = bureau_balance_agg.merge(bureau_balance_count, left_on ='SK_ID_BUREAU', right_index= True, how = 'outer')\n",
    "bureau_balance_by_client = bureau[['SK_ID_CURR', 'SK_ID_BUREAU']].merge(bureau_balance_by_bureau, on = 'SK_ID_BUREAU', how = 'left')\n",
    "bureau_balance_by_client = agg_numeric(bureau_balance_by_client.drop(columns='SK_ID_BUREAU'),'SK_ID_CURR', 'client')"
   ]
  },
  {
   "cell_type": "code",
   "execution_count": 6,
   "id": "c7c2a73d",
   "metadata": {
    "execution": {
     "iopub.execute_input": "2022-05-22T07:03:44.460743Z",
     "iopub.status.busy": "2022-05-22T07:03:44.460427Z",
     "iopub.status.idle": "2022-05-22T07:03:53.280598Z",
     "shell.execute_reply": "2022-05-22T07:03:53.279661Z"
    },
    "papermill": {
     "duration": 8.864147,
     "end_time": "2022-05-22T07:03:53.283137",
     "exception": false,
     "start_time": "2022-05-22T07:03:44.418990",
     "status": "completed"
    },
    "tags": []
   },
   "outputs": [],
   "source": [
    "train = application_train.merge(bureau_count, on ='SK_ID_CURR', how='left')\n",
    "train = train.merge(bureau_agg, on ='SK_ID_CURR', how='left')\n",
    "train = train.merge(bureau_balance_by_client, on ='SK_ID_CURR', how='left')"
   ]
  },
  {
   "cell_type": "code",
   "execution_count": 7,
   "id": "07b37537",
   "metadata": {
    "execution": {
     "iopub.execute_input": "2022-05-22T07:03:53.369420Z",
     "iopub.status.busy": "2022-05-22T07:03:53.369073Z",
     "iopub.status.idle": "2022-05-22T07:03:55.266200Z",
     "shell.execute_reply": "2022-05-22T07:03:55.265430Z"
    },
    "papermill": {
     "duration": 1.945234,
     "end_time": "2022-05-22T07:03:55.268651",
     "exception": false,
     "start_time": "2022-05-22T07:03:53.323417",
     "status": "completed"
    },
    "tags": []
   },
   "outputs": [],
   "source": [
    "test = application_test.merge(bureau_count, on ='SK_ID_CURR', how='left')\n",
    "test = test.merge(bureau_agg, on ='SK_ID_CURR', how='left')\n",
    "test = test.merge(bureau_balance_by_client, on ='SK_ID_CURR', how='left')"
   ]
  },
  {
   "cell_type": "code",
   "execution_count": 8,
   "id": "c99c58fd",
   "metadata": {
    "execution": {
     "iopub.execute_input": "2022-05-22T07:03:55.349648Z",
     "iopub.status.busy": "2022-05-22T07:03:55.349357Z",
     "iopub.status.idle": "2022-05-22T07:03:55.355256Z",
     "shell.execute_reply": "2022-05-22T07:03:55.354413Z"
    },
    "papermill": {
     "duration": 0.048842,
     "end_time": "2022-05-22T07:03:55.357361",
     "exception": false,
     "start_time": "2022-05-22T07:03:55.308519",
     "status": "completed"
    },
    "tags": []
   },
   "outputs": [
    {
     "name": "stdout",
     "output_type": "stream",
     "text": [
      "Training Data Shape: (307511, 333)\n",
      "Testing Data Shape: (48744, 332)\n"
     ]
    }
   ],
   "source": [
    "print('Training Data Shape:', train.shape)\n",
    "print('Testing Data Shape:', test.shape)"
   ]
  },
  {
   "cell_type": "code",
   "execution_count": 9,
   "id": "42521831",
   "metadata": {
    "execution": {
     "iopub.execute_input": "2022-05-22T07:03:55.439936Z",
     "iopub.status.busy": "2022-05-22T07:03:55.439275Z",
     "iopub.status.idle": "2022-05-22T07:03:56.351467Z",
     "shell.execute_reply": "2022-05-22T07:03:56.350564Z"
    },
    "papermill": {
     "duration": 0.95619,
     "end_time": "2022-05-22T07:03:56.353975",
     "exception": false,
     "start_time": "2022-05-22T07:03:55.397785",
     "status": "completed"
    },
    "tags": []
   },
   "outputs": [],
   "source": [
    "train_labels = train['TARGET']\n",
    "train, test= train.align(test, join='inner', axis = 1)\n",
    "train['TARGET'] = train_labels "
   ]
  },
  {
   "cell_type": "code",
   "execution_count": 10,
   "id": "acd3a706",
   "metadata": {
    "execution": {
     "iopub.execute_input": "2022-05-22T07:03:56.435450Z",
     "iopub.status.busy": "2022-05-22T07:03:56.435053Z",
     "iopub.status.idle": "2022-05-22T07:03:56.439390Z",
     "shell.execute_reply": "2022-05-22T07:03:56.438671Z"
    },
    "papermill": {
     "duration": 0.04731,
     "end_time": "2022-05-22T07:03:56.441127",
     "exception": false,
     "start_time": "2022-05-22T07:03:56.393817",
     "status": "completed"
    },
    "tags": []
   },
   "outputs": [
    {
     "name": "stdout",
     "output_type": "stream",
     "text": [
      "Training Data Shape: (307511, 333)\n",
      "Testing Data Shape: (48744, 332)\n"
     ]
    }
   ],
   "source": [
    "print('Training Data Shape:', train.shape)\n",
    "print('Testing Data Shape:', test.shape)"
   ]
  },
  {
   "cell_type": "code",
   "execution_count": 11,
   "id": "d7d6a513",
   "metadata": {
    "execution": {
     "iopub.execute_input": "2022-05-22T07:03:56.522849Z",
     "iopub.status.busy": "2022-05-22T07:03:56.522556Z",
     "iopub.status.idle": "2022-05-22T07:05:15.239624Z",
     "shell.execute_reply": "2022-05-22T07:05:15.238709Z"
    },
    "papermill": {
     "duration": 78.760647,
     "end_time": "2022-05-22T07:05:15.241982",
     "exception": false,
     "start_time": "2022-05-22T07:03:56.481335",
     "status": "completed"
    },
    "tags": []
   },
   "outputs": [],
   "source": [
    "train.to_csv('train_bureau.csv', index = False)\n",
    "test.to_csv('test_bureau.csv', index = False)"
   ]
  },
  {
   "cell_type": "markdown",
   "id": "3d94f373",
   "metadata": {
    "papermill": {
     "duration": 0.040215,
     "end_time": "2022-05-22T07:05:15.323322",
     "exception": false,
     "start_time": "2022-05-22T07:05:15.283107",
     "status": "completed"
    },
    "tags": []
   },
   "source": [
    "## Feature Engineering"
   ]
  },
  {
   "cell_type": "code",
   "execution_count": 12,
   "id": "28ad2e3e",
   "metadata": {
    "execution": {
     "iopub.execute_input": "2022-05-22T07:05:15.407973Z",
     "iopub.status.busy": "2022-05-22T07:05:15.407579Z",
     "iopub.status.idle": "2022-05-22T07:05:15.441597Z",
     "shell.execute_reply": "2022-05-22T07:05:15.441007Z"
    },
    "papermill": {
     "duration": 0.078078,
     "end_time": "2022-05-22T07:05:15.444262",
     "exception": false,
     "start_time": "2022-05-22T07:05:15.366184",
     "status": "completed"
    },
    "tags": []
   },
   "outputs": [
    {
     "data": {
      "text/html": [
       "<div>\n",
       "<style scoped>\n",
       "    .dataframe tbody tr th:only-of-type {\n",
       "        vertical-align: middle;\n",
       "    }\n",
       "\n",
       "    .dataframe tbody tr th {\n",
       "        vertical-align: top;\n",
       "    }\n",
       "\n",
       "    .dataframe thead th {\n",
       "        text-align: right;\n",
       "    }\n",
       "</style>\n",
       "<table border=\"1\" class=\"dataframe\">\n",
       "  <thead>\n",
       "    <tr style=\"text-align: right;\">\n",
       "      <th></th>\n",
       "      <th>SK_ID_CURR</th>\n",
       "      <th>NAME_CONTRACT_TYPE</th>\n",
       "      <th>CODE_GENDER</th>\n",
       "      <th>FLAG_OWN_CAR</th>\n",
       "      <th>FLAG_OWN_REALTY</th>\n",
       "      <th>CNT_CHILDREN</th>\n",
       "      <th>AMT_INCOME_TOTAL</th>\n",
       "      <th>AMT_CREDIT</th>\n",
       "      <th>AMT_ANNUITY</th>\n",
       "      <th>AMT_GOODS_PRICE</th>\n",
       "      <th>...</th>\n",
       "      <th>client_bureau_balance_STATUS_X_count_sum</th>\n",
       "      <th>client_bureau_balance_STATUS_X_count_max</th>\n",
       "      <th>client_bureau_balance_STATUS_X_count_min</th>\n",
       "      <th>client_bureau_balance_STATUS_X_count_count</th>\n",
       "      <th>client_bureau_balance_STATUS_X_mean_mean</th>\n",
       "      <th>client_bureau_balance_STATUS_X_mean_sum</th>\n",
       "      <th>client_bureau_balance_STATUS_X_mean_max</th>\n",
       "      <th>client_bureau_balance_STATUS_X_mean_min</th>\n",
       "      <th>client_bureau_balance_STATUS_X_mean_count</th>\n",
       "      <th>TARGET</th>\n",
       "    </tr>\n",
       "  </thead>\n",
       "  <tbody>\n",
       "    <tr>\n",
       "      <th>0</th>\n",
       "      <td>100002</td>\n",
       "      <td>Cash loans</td>\n",
       "      <td>M</td>\n",
       "      <td>N</td>\n",
       "      <td>Y</td>\n",
       "      <td>0</td>\n",
       "      <td>202500.0</td>\n",
       "      <td>406597.5</td>\n",
       "      <td>24700.5</td>\n",
       "      <td>351000.0</td>\n",
       "      <td>...</td>\n",
       "      <td>15.0</td>\n",
       "      <td>3.0</td>\n",
       "      <td>0.0</td>\n",
       "      <td>8.0</td>\n",
       "      <td>0.161932</td>\n",
       "      <td>1.295455</td>\n",
       "      <td>0.5</td>\n",
       "      <td>0.0</td>\n",
       "      <td>8.0</td>\n",
       "      <td>1</td>\n",
       "    </tr>\n",
       "    <tr>\n",
       "      <th>1</th>\n",
       "      <td>100003</td>\n",
       "      <td>Cash loans</td>\n",
       "      <td>F</td>\n",
       "      <td>N</td>\n",
       "      <td>N</td>\n",
       "      <td>0</td>\n",
       "      <td>270000.0</td>\n",
       "      <td>1293502.5</td>\n",
       "      <td>35698.5</td>\n",
       "      <td>1129500.0</td>\n",
       "      <td>...</td>\n",
       "      <td>0.0</td>\n",
       "      <td>NaN</td>\n",
       "      <td>NaN</td>\n",
       "      <td>0.0</td>\n",
       "      <td>NaN</td>\n",
       "      <td>0.000000</td>\n",
       "      <td>NaN</td>\n",
       "      <td>NaN</td>\n",
       "      <td>0.0</td>\n",
       "      <td>0</td>\n",
       "    </tr>\n",
       "    <tr>\n",
       "      <th>2</th>\n",
       "      <td>100004</td>\n",
       "      <td>Revolving loans</td>\n",
       "      <td>M</td>\n",
       "      <td>Y</td>\n",
       "      <td>Y</td>\n",
       "      <td>0</td>\n",
       "      <td>67500.0</td>\n",
       "      <td>135000.0</td>\n",
       "      <td>6750.0</td>\n",
       "      <td>135000.0</td>\n",
       "      <td>...</td>\n",
       "      <td>0.0</td>\n",
       "      <td>NaN</td>\n",
       "      <td>NaN</td>\n",
       "      <td>0.0</td>\n",
       "      <td>NaN</td>\n",
       "      <td>0.000000</td>\n",
       "      <td>NaN</td>\n",
       "      <td>NaN</td>\n",
       "      <td>0.0</td>\n",
       "      <td>0</td>\n",
       "    </tr>\n",
       "    <tr>\n",
       "      <th>3</th>\n",
       "      <td>100006</td>\n",
       "      <td>Cash loans</td>\n",
       "      <td>F</td>\n",
       "      <td>N</td>\n",
       "      <td>Y</td>\n",
       "      <td>0</td>\n",
       "      <td>135000.0</td>\n",
       "      <td>312682.5</td>\n",
       "      <td>29686.5</td>\n",
       "      <td>297000.0</td>\n",
       "      <td>...</td>\n",
       "      <td>NaN</td>\n",
       "      <td>NaN</td>\n",
       "      <td>NaN</td>\n",
       "      <td>NaN</td>\n",
       "      <td>NaN</td>\n",
       "      <td>NaN</td>\n",
       "      <td>NaN</td>\n",
       "      <td>NaN</td>\n",
       "      <td>NaN</td>\n",
       "      <td>0</td>\n",
       "    </tr>\n",
       "    <tr>\n",
       "      <th>4</th>\n",
       "      <td>100007</td>\n",
       "      <td>Cash loans</td>\n",
       "      <td>M</td>\n",
       "      <td>N</td>\n",
       "      <td>Y</td>\n",
       "      <td>0</td>\n",
       "      <td>121500.0</td>\n",
       "      <td>513000.0</td>\n",
       "      <td>21865.5</td>\n",
       "      <td>513000.0</td>\n",
       "      <td>...</td>\n",
       "      <td>0.0</td>\n",
       "      <td>NaN</td>\n",
       "      <td>NaN</td>\n",
       "      <td>0.0</td>\n",
       "      <td>NaN</td>\n",
       "      <td>0.000000</td>\n",
       "      <td>NaN</td>\n",
       "      <td>NaN</td>\n",
       "      <td>0.0</td>\n",
       "      <td>0</td>\n",
       "    </tr>\n",
       "  </tbody>\n",
       "</table>\n",
       "<p>5 rows × 333 columns</p>\n",
       "</div>"
      ],
      "text/plain": [
       "   SK_ID_CURR NAME_CONTRACT_TYPE CODE_GENDER FLAG_OWN_CAR FLAG_OWN_REALTY  \\\n",
       "0      100002         Cash loans           M            N               Y   \n",
       "1      100003         Cash loans           F            N               N   \n",
       "2      100004    Revolving loans           M            Y               Y   \n",
       "3      100006         Cash loans           F            N               Y   \n",
       "4      100007         Cash loans           M            N               Y   \n",
       "\n",
       "   CNT_CHILDREN  AMT_INCOME_TOTAL  AMT_CREDIT  AMT_ANNUITY  AMT_GOODS_PRICE  \\\n",
       "0             0          202500.0    406597.5      24700.5         351000.0   \n",
       "1             0          270000.0   1293502.5      35698.5        1129500.0   \n",
       "2             0           67500.0    135000.0       6750.0         135000.0   \n",
       "3             0          135000.0    312682.5      29686.5         297000.0   \n",
       "4             0          121500.0    513000.0      21865.5         513000.0   \n",
       "\n",
       "   ... client_bureau_balance_STATUS_X_count_sum  \\\n",
       "0  ...                                     15.0   \n",
       "1  ...                                      0.0   \n",
       "2  ...                                      0.0   \n",
       "3  ...                                      NaN   \n",
       "4  ...                                      0.0   \n",
       "\n",
       "  client_bureau_balance_STATUS_X_count_max  \\\n",
       "0                                      3.0   \n",
       "1                                      NaN   \n",
       "2                                      NaN   \n",
       "3                                      NaN   \n",
       "4                                      NaN   \n",
       "\n",
       "  client_bureau_balance_STATUS_X_count_min  \\\n",
       "0                                      0.0   \n",
       "1                                      NaN   \n",
       "2                                      NaN   \n",
       "3                                      NaN   \n",
       "4                                      NaN   \n",
       "\n",
       "  client_bureau_balance_STATUS_X_count_count  \\\n",
       "0                                        8.0   \n",
       "1                                        0.0   \n",
       "2                                        0.0   \n",
       "3                                        NaN   \n",
       "4                                        0.0   \n",
       "\n",
       "  client_bureau_balance_STATUS_X_mean_mean  \\\n",
       "0                                 0.161932   \n",
       "1                                      NaN   \n",
       "2                                      NaN   \n",
       "3                                      NaN   \n",
       "4                                      NaN   \n",
       "\n",
       "   client_bureau_balance_STATUS_X_mean_sum  \\\n",
       "0                                 1.295455   \n",
       "1                                 0.000000   \n",
       "2                                 0.000000   \n",
       "3                                      NaN   \n",
       "4                                 0.000000   \n",
       "\n",
       "   client_bureau_balance_STATUS_X_mean_max  \\\n",
       "0                                      0.5   \n",
       "1                                      NaN   \n",
       "2                                      NaN   \n",
       "3                                      NaN   \n",
       "4                                      NaN   \n",
       "\n",
       "   client_bureau_balance_STATUS_X_mean_min  \\\n",
       "0                                      0.0   \n",
       "1                                      NaN   \n",
       "2                                      NaN   \n",
       "3                                      NaN   \n",
       "4                                      NaN   \n",
       "\n",
       "   client_bureau_balance_STATUS_X_mean_count  TARGET  \n",
       "0                                        8.0       1  \n",
       "1                                        0.0       0  \n",
       "2                                        0.0       0  \n",
       "3                                        NaN       0  \n",
       "4                                        0.0       0  \n",
       "\n",
       "[5 rows x 333 columns]"
      ]
     },
     "execution_count": 12,
     "metadata": {},
     "output_type": "execute_result"
    }
   ],
   "source": [
    "train.head()"
   ]
  },
  {
   "cell_type": "code",
   "execution_count": 13,
   "id": "c3ddd39c",
   "metadata": {
    "execution": {
     "iopub.execute_input": "2022-05-22T07:05:15.527961Z",
     "iopub.status.busy": "2022-05-22T07:05:15.527567Z",
     "iopub.status.idle": "2022-05-22T07:05:15.532322Z",
     "shell.execute_reply": "2022-05-22T07:05:15.531765Z"
    },
    "papermill": {
     "duration": 0.048914,
     "end_time": "2022-05-22T07:05:15.534060",
     "exception": false,
     "start_time": "2022-05-22T07:05:15.485146",
     "status": "completed"
    },
    "tags": []
   },
   "outputs": [],
   "source": [
    "def get_age_label(days_birth):\n",
    "    \"\"\" Return the age group label (int). \"\"\"\n",
    "    age_years = -days_birth / 365\n",
    "    if age_years < 27: return 1\n",
    "    elif age_years < 40: return 2\n",
    "    elif age_years < 50: return 3\n",
    "    elif age_years < 65: return 4\n",
    "    elif age_years < 99: return 5\n",
    "    else: return 0"
   ]
  },
  {
   "cell_type": "code",
   "execution_count": 14,
   "id": "d65c4a18",
   "metadata": {
    "execution": {
     "iopub.execute_input": "2022-05-22T07:05:15.617396Z",
     "iopub.status.busy": "2022-05-22T07:05:15.616998Z",
     "iopub.status.idle": "2022-05-22T07:05:15.627627Z",
     "shell.execute_reply": "2022-05-22T07:05:15.626952Z"
    },
    "papermill": {
     "duration": 0.054576,
     "end_time": "2022-05-22T07:05:15.629681",
     "exception": false,
     "start_time": "2022-05-22T07:05:15.575105",
     "status": "completed"
    },
    "tags": []
   },
   "outputs": [],
   "source": [
    "# ------------------------- UTILITY FUNCTIONS -------------------------\n",
    "\n",
    "def do_mean(df, group_cols, counted, agg_name):\n",
    "    gp = df[group_cols + [counted]].groupby(group_cols)[counted].mean().reset_index().rename(\n",
    "        columns={counted: agg_name})\n",
    "    df = df.merge(gp, on=group_cols, how='left')\n",
    "    del gp\n",
    "    gc.collect()\n",
    "    return df\n",
    "\n",
    "\n",
    "def do_median(df, group_cols, counted, agg_name):\n",
    "    gp = df[group_cols + [counted]].groupby(group_cols)[counted].median().reset_index().rename(\n",
    "        columns={counted: agg_name})\n",
    "    df = df.merge(gp, on=group_cols, how='left')\n",
    "    del gp\n",
    "    gc.collect()\n",
    "    return df\n",
    "\n",
    "\n",
    "def do_std(df, group_cols, counted, agg_name):\n",
    "    gp = df[group_cols + [counted]].groupby(group_cols)[counted].std().reset_index().rename(\n",
    "        columns={counted: agg_name})\n",
    "    df = df.merge(gp, on=group_cols, how='left')\n",
    "    del gp\n",
    "    gc.collect()\n",
    "    return df\n",
    "\n",
    "\n",
    "def do_sum(df, group_cols, counted, agg_name):\n",
    "    gp = df[group_cols + [counted]].groupby(group_cols)[counted].sum().reset_index().rename(\n",
    "        columns={counted: agg_name})\n",
    "    df = df.merge(gp, on=group_cols, how='left')\n",
    "    del gp\n",
    "    gc.collect()\n",
    "    return df"
   ]
  },
  {
   "cell_type": "code",
   "execution_count": 15,
   "id": "a9d24098",
   "metadata": {
    "execution": {
     "iopub.execute_input": "2022-05-22T07:05:15.713914Z",
     "iopub.status.busy": "2022-05-22T07:05:15.713508Z",
     "iopub.status.idle": "2022-05-22T07:05:15.730364Z",
     "shell.execute_reply": "2022-05-22T07:05:15.729599Z"
    },
    "papermill": {
     "duration": 0.061357,
     "end_time": "2022-05-22T07:05:15.732543",
     "exception": false,
     "start_time": "2022-05-22T07:05:15.671186",
     "status": "completed"
    },
    "tags": []
   },
   "outputs": [],
   "source": [
    "def feature_engineering(df):\n",
    "    df = df[df['CODE_GENDER'] != 'XNA']\n",
    "    df = df[df['AMT_INCOME_TOTAL'] < 20000000]\n",
    "    df['DAYS_EMPLOYED'].replace(365243, np.nan, inplace=True)\n",
    "    df['DAYS_LAST_PHONE_CHANGE'].replace(0, np.nan, inplace=True)\n",
    "    \n",
    "    docs = [f for f in df.columns if 'FLAG_DOC' in f]\n",
    "    df['DOCUMENT_COUNT'] = df[docs].sum(axis=1)\n",
    "    df['NEW_DOC_KURT'] = df[docs].sum(axis=1)\n",
    "    \n",
    "    df['AGE_RANGE'] = df['DAYS_BIRTH'].apply(lambda x: get_age_label(x))\n",
    "    \n",
    "    df['EXT_SOURCES_PROD'] = df['EXT_SOURCE_1'] * df['EXT_SOURCE_2'] * df['EXT_SOURCE_3']\n",
    "    df['EXT_SOURCE_WEIGHT'] = df['EXT_SOURCE_1']*2 + df['EXT_SOURCE_2'] *1 + df['EXT_SOURCE_3'] *3\n",
    "    \n",
    "    for function_name in ['min', 'max', 'mean', 'nanmedian', 'var']:\n",
    "        feature_name = 'EXT_SOURCES_{}'.format(function_name.upper())\n",
    "        df[feature_name] = eval('np.{}'.format(function_name))(\n",
    "            df[['EXT_SOURCE_1', 'EXT_SOURCE_2', 'EXT_SOURCE_3']], axis=1)\n",
    "\n",
    "    # Credit ratios\n",
    "    df['CREDIT_TO_ANNUITY_RATIO'] = df['AMT_CREDIT'] / df['AMT_ANNUITY']\n",
    "    df['CREDIT_TO_GOODS_RATIO'] = df['AMT_CREDIT'] / df['AMT_GOODS_PRICE']\n",
    "    # Income ratios\n",
    "    df['ANNUITY_TO_INCOME_RATIO'] = df['AMT_ANNUITY'] / df['AMT_INCOME_TOTAL']\n",
    "    df['CREDIT_TO_INCOME_RATIO'] = df['AMT_CREDIT'] / df['AMT_INCOME_TOTAL']\n",
    "    df['INCOME_TO_EMPLOYED_RATIO'] = df['AMT_INCOME_TOTAL'] / df['DAYS_EMPLOYED']\n",
    "    df['INCOME_TO_BIRTH_RATIO'] = df['AMT_INCOME_TOTAL'] / df['DAYS_BIRTH']\n",
    "    # Time ratios\n",
    "    df['EMPLOYED_TO_BIRTH_RATIO'] = df['DAYS_EMPLOYED'] / df['DAYS_BIRTH']\n",
    "    df['ID_TO_BIRTH_RATIO'] = df['DAYS_ID_PUBLISH'] / df['DAYS_BIRTH']\n",
    "    df['CAR_TO_BIRTH_RATIO'] = df['OWN_CAR_AGE'] / df['DAYS_BIRTH']\n",
    "    df['CAR_TO_EMPLOYED_RATIO'] = df['OWN_CAR_AGE'] / df['DAYS_EMPLOYED']\n",
    "    df['PHONE_TO_BIRTH_RATIO'] = df['DAYS_LAST_PHONE_CHANGE'] / df['DAYS_BIRTH']\n",
    "    \n",
    "    # Groupby: Statistics for applications in the same group\n",
    "    group = ['ORGANIZATION_TYPE', 'NAME_EDUCATION_TYPE', 'OCCUPATION_TYPE', 'AGE_RANGE', 'CODE_GENDER']\n",
    "    df = do_median(df, group, 'EXT_SOURCES_MEAN', 'GROUP_EXT_SOURCES_MEDIAN')\n",
    "    df = do_std(df, group, 'EXT_SOURCES_MEAN', 'GROUP_EXT_SOURCES_STD')\n",
    "    df = do_mean(df, group, 'AMT_INCOME_TOTAL', 'GROUP_INCOME_MEAN')\n",
    "    df = do_std(df, group, 'AMT_INCOME_TOTAL', 'GROUP_INCOME_STD')\n",
    "    df = do_mean(df, group, 'CREDIT_TO_ANNUITY_RATIO', 'GROUP_CREDIT_TO_ANNUITY_MEAN')\n",
    "    df = do_std(df, group, 'CREDIT_TO_ANNUITY_RATIO', 'GROUP_CREDIT_TO_ANNUITY_STD')\n",
    "    df = do_mean(df, group, 'AMT_CREDIT', 'GROUP_CREDIT_MEAN')\n",
    "    df = do_mean(df, group, 'AMT_ANNUITY', 'GROUP_ANNUITY_MEAN')\n",
    "    df = do_std(df, group, 'AMT_ANNUITY', 'GROUP_ANNUITY_STD')\n",
    "\n",
    "    df = df.reset_index(drop=True)\n",
    "    return df"
   ]
  },
  {
   "cell_type": "code",
   "execution_count": 16,
   "id": "fff86399",
   "metadata": {
    "execution": {
     "iopub.execute_input": "2022-05-22T07:05:15.816704Z",
     "iopub.status.busy": "2022-05-22T07:05:15.816241Z",
     "iopub.status.idle": "2022-05-22T07:06:13.628855Z",
     "shell.execute_reply": "2022-05-22T07:06:13.628028Z"
    },
    "papermill": {
     "duration": 57.899897,
     "end_time": "2022-05-22T07:06:13.673587",
     "exception": false,
     "start_time": "2022-05-22T07:05:15.773690",
     "status": "completed"
    },
    "tags": []
   },
   "outputs": [
    {
     "name": "stdout",
     "output_type": "stream",
     "text": [
      "Training data shape:  (307506, 363)\n",
      "Testing data shape:  (48744, 362)\n"
     ]
    }
   ],
   "source": [
    "train_feature_engineered = feature_engineering(train)\n",
    "test_feature_engineered = feature_engineering(test)\n",
    "print('Training data shape: ', train_feature_engineered.shape)\n",
    "print('Testing data shape: ', test_feature_engineered.shape)"
   ]
  },
  {
   "cell_type": "code",
   "execution_count": 17,
   "id": "722ea097",
   "metadata": {
    "execution": {
     "iopub.execute_input": "2022-05-22T07:06:13.758744Z",
     "iopub.status.busy": "2022-05-22T07:06:13.758143Z",
     "iopub.status.idle": "2022-05-22T07:07:48.405799Z",
     "shell.execute_reply": "2022-05-22T07:07:48.404804Z"
    },
    "papermill": {
     "duration": 94.693526,
     "end_time": "2022-05-22T07:07:48.408578",
     "exception": false,
     "start_time": "2022-05-22T07:06:13.715052",
     "status": "completed"
    },
    "tags": []
   },
   "outputs": [],
   "source": [
    "train_feature_engineered.to_csv('train_feature_engineered.csv', index = False)\n",
    "test_feature_engineered.to_csv('test_feature_engineered.csv', index = False)"
   ]
  },
  {
   "cell_type": "markdown",
   "id": "8c6f632d",
   "metadata": {
    "papermill": {
     "duration": 0.045704,
     "end_time": "2022-05-22T07:07:48.496583",
     "exception": false,
     "start_time": "2022-05-22T07:07:48.450879",
     "status": "completed"
    },
    "tags": []
   },
   "source": [
    "### Permutation Importances"
   ]
  },
  {
   "cell_type": "code",
   "execution_count": 18,
   "id": "efe8b181",
   "metadata": {
    "execution": {
     "iopub.execute_input": "2022-05-22T07:07:48.581561Z",
     "iopub.status.busy": "2022-05-22T07:07:48.581250Z",
     "iopub.status.idle": "2022-05-22T07:07:54.143288Z",
     "shell.execute_reply": "2022-05-22T07:07:54.142456Z"
    },
    "papermill": {
     "duration": 5.607699,
     "end_time": "2022-05-22T07:07:54.145780",
     "exception": false,
     "start_time": "2022-05-22T07:07:48.538081",
     "status": "completed"
    },
    "tags": []
   },
   "outputs": [
    {
     "data": {
      "text/html": [
       "<style type='text/css'>\n",
       ".datatable table.frame { margin-bottom: 0; }\n",
       ".datatable table.frame thead { border-bottom: none; }\n",
       ".datatable table.frame tr.coltypes td {  color: #FFFFFF;  line-height: 6px;  padding: 0 0.5em;}\n",
       ".datatable .bool    { background: #DDDD99; }\n",
       ".datatable .object  { background: #565656; }\n",
       ".datatable .int     { background: #5D9E5D; }\n",
       ".datatable .float   { background: #4040CC; }\n",
       ".datatable .str     { background: #CC4040; }\n",
       ".datatable .time    { background: #40CC40; }\n",
       ".datatable .row_index {  background: var(--jp-border-color3);  border-right: 1px solid var(--jp-border-color0);  color: var(--jp-ui-font-color3);  font-size: 9px;}\n",
       ".datatable .frame tbody td { text-align: left; }\n",
       ".datatable .frame tr.coltypes .row_index {  background: var(--jp-border-color0);}\n",
       ".datatable th:nth-child(2) { padding-left: 12px; }\n",
       ".datatable .hellipsis {  color: var(--jp-cell-editor-border-color);}\n",
       ".datatable .vellipsis {  background: var(--jp-layout-color0);  color: var(--jp-cell-editor-border-color);}\n",
       ".datatable .na {  color: var(--jp-cell-editor-border-color);  font-size: 80%;}\n",
       ".datatable .sp {  opacity: 0.25;}\n",
       ".datatable .footer { font-size: 9px; }\n",
       ".datatable .frame_dimensions {  background: var(--jp-border-color3);  border-top: 1px solid var(--jp-border-color0);  color: var(--jp-ui-font-color3);  display: inline-block;  opacity: 0.6;  padding: 1px 10px 1px 5px;}\n",
       "</style>\n"
      ],
      "text/plain": [
       "<IPython.core.display.HTML object>"
      ]
     },
     "metadata": {},
     "output_type": "display_data"
    }
   ],
   "source": [
    "#Do not support special JSON characters in feature name -> light gbm에서 column 명에 \" , : [ ] { } 문자가 포함되어 있을 경우 false를 리턴한다.\n",
    "from sklearn.model_selection import train_test_split\n",
    "\n",
    "import lightgbm as lgb\n",
    "from sklearn import metrics\n",
    "import re\n",
    "\n",
    "from sklearn.preprocessing import LabelEncoder\n",
    "\n",
    "labels = train_feature_engineered['TARGET']\n",
    "X = train_feature_engineered.drop(columns='TARGET')\n",
    "\n",
    "label_encoder = LabelEncoder()\n",
    "cat_indices = []\n",
    "\n",
    "for i, col in enumerate(X):\n",
    "    if X[col].dtype == 'object':\n",
    "        X[col] = label_encoder.fit_transform(np.array(X[col].astype(str)).reshape(-1,))\n",
    "        cat_indices.append(i)\n",
    "#X = X.rename(columns = lambda x:re.sub('[^A-Za-z0-9_]+', '', x))\n",
    "Y = labels\n",
    "\n",
    "x_train, x_valid, y_train, y_valid = train_test_split(X, Y, test_size=0.2, shuffle=True, stratify=Y, random_state=34)"
   ]
  },
  {
   "cell_type": "code",
   "execution_count": 19,
   "id": "cd81a221",
   "metadata": {
    "execution": {
     "iopub.execute_input": "2022-05-22T07:07:54.232118Z",
     "iopub.status.busy": "2022-05-22T07:07:54.231831Z",
     "iopub.status.idle": "2022-05-22T07:09:02.462038Z",
     "shell.execute_reply": "2022-05-22T07:09:02.461125Z"
    },
    "papermill": {
     "duration": 68.275779,
     "end_time": "2022-05-22T07:09:02.464249",
     "exception": false,
     "start_time": "2022-05-22T07:07:54.188470",
     "status": "completed"
    },
    "tags": []
   },
   "outputs": [
    {
     "name": "stdout",
     "output_type": "stream",
     "text": [
      "[200]\ttrain's auc: 0.823718\ttrain's binary_logloss: 0.522294\tvalid's auc: 0.769517\tvalid's binary_logloss: 0.544467\n",
      "train accuracy:  0.8379553122953806\n",
      "test accuracy:  0.7701926931041656\n"
     ]
    }
   ],
   "source": [
    "#0.768\n",
    "model = lgb.LGBMClassifier(n_estimators = 10000\n",
    "                               , objective='binary'\n",
    "                               , class_weight = 'balanced'\n",
    "                               , learning_rate = 0.05\n",
    "                               , reg_alpha = 0.1\n",
    "                               , reg_lambda = 0.1\n",
    "                               , subsample = 0.8\n",
    "                               , n_jobs = -1\n",
    "                               , random_state= 50)\n",
    "model.fit(x_train, y_train, eval_metric = 'auc', eval_set = [(x_valid, y_valid), (x_train, y_train)]\n",
    "                 , eval_names =['valid','train'], early_stopping_rounds = 100\n",
    "                 , verbose = 200, categorical_feature = cat_indices)\n",
    "\n",
    "print('train accuracy: ', model.best_score_['train']['auc'])\n",
    "print('test accuracy: ', model.best_score_['valid']['auc'])"
   ]
  },
  {
   "cell_type": "code",
   "execution_count": 20,
   "id": "4d12f715",
   "metadata": {
    "execution": {
     "iopub.execute_input": "2022-05-22T07:09:02.551717Z",
     "iopub.status.busy": "2022-05-22T07:09:02.551128Z",
     "iopub.status.idle": "2022-05-22T07:35:58.377599Z",
     "shell.execute_reply": "2022-05-22T07:35:58.376923Z"
    },
    "papermill": {
     "duration": 1615.923208,
     "end_time": "2022-05-22T07:35:58.430223",
     "exception": false,
     "start_time": "2022-05-22T07:09:02.507015",
     "status": "completed"
    },
    "tags": []
   },
   "outputs": [
    {
     "data": {
      "text/html": [
       "\n",
       "    <style>\n",
       "    table.eli5-weights tr:hover {\n",
       "        filter: brightness(85%);\n",
       "    }\n",
       "</style>\n",
       "\n",
       "\n",
       "\n",
       "    \n",
       "\n",
       "    \n",
       "\n",
       "    \n",
       "\n",
       "    \n",
       "\n",
       "    \n",
       "\n",
       "    \n",
       "\n",
       "\n",
       "    \n",
       "\n",
       "    \n",
       "\n",
       "    \n",
       "\n",
       "    \n",
       "\n",
       "    \n",
       "\n",
       "    \n",
       "\n",
       "\n",
       "    \n",
       "\n",
       "    \n",
       "\n",
       "    \n",
       "\n",
       "    \n",
       "\n",
       "    \n",
       "        <table class=\"eli5-weights eli5-feature-importances\" style=\"border-collapse: collapse; border: none; margin-top: 0em; table-layout: auto;\">\n",
       "    <thead>\n",
       "    <tr style=\"border: none;\">\n",
       "        <th style=\"padding: 0 1em 0 0.5em; text-align: right; border: none;\">Weight</th>\n",
       "        <th style=\"padding: 0 0.5em 0 0.5em; text-align: left; border: none;\">Feature</th>\n",
       "    </tr>\n",
       "    </thead>\n",
       "    <tbody>\n",
       "    \n",
       "        <tr style=\"background-color: hsl(120, 100.00%, 80.00%); border: none;\">\n",
       "            <td style=\"padding: 0 1em 0 0.5em; text-align: right; border: none;\">\n",
       "                0.0052\n",
       "                \n",
       "                    &plusmn; 0.0008\n",
       "                \n",
       "            </td>\n",
       "            <td style=\"padding: 0 0.5em 0 0.5em; text-align: left; border: none;\">\n",
       "                DAYS_BIRTH\n",
       "            </td>\n",
       "        </tr>\n",
       "    \n",
       "        <tr style=\"background-color: hsl(120, 100.00%, 81.27%); border: none;\">\n",
       "            <td style=\"padding: 0 1em 0 0.5em; text-align: right; border: none;\">\n",
       "                0.0047\n",
       "                \n",
       "                    &plusmn; 0.0010\n",
       "                \n",
       "            </td>\n",
       "            <td style=\"padding: 0 0.5em 0 0.5em; text-align: left; border: none;\">\n",
       "                EXT_SOURCE_1\n",
       "            </td>\n",
       "        </tr>\n",
       "    \n",
       "        <tr style=\"background-color: hsl(120, 100.00%, 87.95%); border: none;\">\n",
       "            <td style=\"padding: 0 1em 0 0.5em; text-align: right; border: none;\">\n",
       "                0.0025\n",
       "                \n",
       "                    &plusmn; 0.0007\n",
       "                \n",
       "            </td>\n",
       "            <td style=\"padding: 0 0.5em 0 0.5em; text-align: left; border: none;\">\n",
       "                AMT_ANNUITY\n",
       "            </td>\n",
       "        </tr>\n",
       "    \n",
       "        <tr style=\"background-color: hsl(120, 100.00%, 89.22%); border: none;\">\n",
       "            <td style=\"padding: 0 1em 0 0.5em; text-align: right; border: none;\">\n",
       "                0.0021\n",
       "                \n",
       "                    &plusmn; 0.0013\n",
       "                \n",
       "            </td>\n",
       "            <td style=\"padding: 0 0.5em 0 0.5em; text-align: left; border: none;\">\n",
       "                CODE_GENDER\n",
       "            </td>\n",
       "        </tr>\n",
       "    \n",
       "        <tr style=\"background-color: hsl(120, 100.00%, 91.53%); border: none;\">\n",
       "            <td style=\"padding: 0 1em 0 0.5em; text-align: right; border: none;\">\n",
       "                0.0015\n",
       "                \n",
       "                    &plusmn; 0.0007\n",
       "                \n",
       "            </td>\n",
       "            <td style=\"padding: 0 0.5em 0 0.5em; text-align: left; border: none;\">\n",
       "                NAME_FAMILY_STATUS\n",
       "            </td>\n",
       "        </tr>\n",
       "    \n",
       "        <tr style=\"background-color: hsl(120, 100.00%, 91.57%); border: none;\">\n",
       "            <td style=\"padding: 0 1em 0 0.5em; text-align: right; border: none;\">\n",
       "                0.0015\n",
       "                \n",
       "                    &plusmn; 0.0008\n",
       "                \n",
       "            </td>\n",
       "            <td style=\"padding: 0 0.5em 0 0.5em; text-align: left; border: none;\">\n",
       "                AMT_GOODS_PRICE\n",
       "            </td>\n",
       "        </tr>\n",
       "    \n",
       "        <tr style=\"background-color: hsl(120, 100.00%, 92.19%); border: none;\">\n",
       "            <td style=\"padding: 0 1em 0 0.5em; text-align: right; border: none;\">\n",
       "                0.0013\n",
       "                \n",
       "                    &plusmn; 0.0004\n",
       "                \n",
       "            </td>\n",
       "            <td style=\"padding: 0 0.5em 0 0.5em; text-align: left; border: none;\">\n",
       "                bureau_AMT_CREDIT_SUM_min\n",
       "            </td>\n",
       "        </tr>\n",
       "    \n",
       "        <tr style=\"background-color: hsl(120, 100.00%, 92.41%); border: none;\">\n",
       "            <td style=\"padding: 0 1em 0 0.5em; text-align: right; border: none;\">\n",
       "                0.0013\n",
       "                \n",
       "                    &plusmn; 0.0004\n",
       "                \n",
       "            </td>\n",
       "            <td style=\"padding: 0 0.5em 0 0.5em; text-align: left; border: none;\">\n",
       "                bureau_CREDIT_ACTIVE_Closed_mean\n",
       "            </td>\n",
       "        </tr>\n",
       "    \n",
       "        <tr style=\"background-color: hsl(120, 100.00%, 93.91%); border: none;\">\n",
       "            <td style=\"padding: 0 1em 0 0.5em; text-align: right; border: none;\">\n",
       "                0.0009\n",
       "                \n",
       "                    &plusmn; 0.0002\n",
       "                \n",
       "            </td>\n",
       "            <td style=\"padding: 0 0.5em 0 0.5em; text-align: left; border: none;\">\n",
       "                AGE_RANGE\n",
       "            </td>\n",
       "        </tr>\n",
       "    \n",
       "        <tr style=\"background-color: hsl(120, 100.00%, 95.00%); border: none;\">\n",
       "            <td style=\"padding: 0 1em 0 0.5em; text-align: right; border: none;\">\n",
       "                0.0007\n",
       "                \n",
       "                    &plusmn; 0.0003\n",
       "                \n",
       "            </td>\n",
       "            <td style=\"padding: 0 0.5em 0 0.5em; text-align: left; border: none;\">\n",
       "                bureau_AMT_CREDIT_SUM_LIMIT_count\n",
       "            </td>\n",
       "        </tr>\n",
       "    \n",
       "        <tr style=\"background-color: hsl(120, 100.00%, 95.69%); border: none;\">\n",
       "            <td style=\"padding: 0 1em 0 0.5em; text-align: right; border: none;\">\n",
       "                0.0006\n",
       "                \n",
       "                    &plusmn; 0.0002\n",
       "                \n",
       "            </td>\n",
       "            <td style=\"padding: 0 0.5em 0 0.5em; text-align: left; border: none;\">\n",
       "                bureau_AMT_CREDIT_SUM_LIMIT_mean\n",
       "            </td>\n",
       "        </tr>\n",
       "    \n",
       "        <tr style=\"background-color: hsl(120, 100.00%, 96.16%); border: none;\">\n",
       "            <td style=\"padding: 0 1em 0 0.5em; text-align: right; border: none;\">\n",
       "                0.0005\n",
       "                \n",
       "                    &plusmn; 0.0003\n",
       "                \n",
       "            </td>\n",
       "            <td style=\"padding: 0 0.5em 0 0.5em; text-align: left; border: none;\">\n",
       "                bureau_DAYS_CREDIT_UPDATE_max\n",
       "            </td>\n",
       "        </tr>\n",
       "    \n",
       "        <tr style=\"background-color: hsl(120, 100.00%, 96.42%); border: none;\">\n",
       "            <td style=\"padding: 0 1em 0 0.5em; text-align: right; border: none;\">\n",
       "                0.0004\n",
       "                \n",
       "                    &plusmn; 0.0006\n",
       "                \n",
       "            </td>\n",
       "            <td style=\"padding: 0 0.5em 0 0.5em; text-align: left; border: none;\">\n",
       "                ANNUITY_TO_INCOME_RATIO\n",
       "            </td>\n",
       "        </tr>\n",
       "    \n",
       "        <tr style=\"background-color: hsl(120, 100.00%, 96.74%); border: none;\">\n",
       "            <td style=\"padding: 0 1em 0 0.5em; text-align: right; border: none;\">\n",
       "                0.0004\n",
       "                \n",
       "                    &plusmn; 0.0001\n",
       "                \n",
       "            </td>\n",
       "            <td style=\"padding: 0 0.5em 0 0.5em; text-align: left; border: none;\">\n",
       "                bureau_DAYS_CREDIT_ENDDATE_min\n",
       "            </td>\n",
       "        </tr>\n",
       "    \n",
       "        <tr style=\"background-color: hsl(120, 100.00%, 97.15%); border: none;\">\n",
       "            <td style=\"padding: 0 1em 0 0.5em; text-align: right; border: none;\">\n",
       "                0.0003\n",
       "                \n",
       "                    &plusmn; 0.0007\n",
       "                \n",
       "            </td>\n",
       "            <td style=\"padding: 0 0.5em 0 0.5em; text-align: left; border: none;\">\n",
       "                bureau_AMT_CREDIT_MAX_OVERDUE_mean\n",
       "            </td>\n",
       "        </tr>\n",
       "    \n",
       "        <tr style=\"background-color: hsl(120, 100.00%, 97.36%); border: none;\">\n",
       "            <td style=\"padding: 0 1em 0 0.5em; text-align: right; border: none;\">\n",
       "                0.0003\n",
       "                \n",
       "                    &plusmn; 0.0002\n",
       "                \n",
       "            </td>\n",
       "            <td style=\"padding: 0 0.5em 0 0.5em; text-align: left; border: none;\">\n",
       "                EXT_SOURCE_WEIGHT\n",
       "            </td>\n",
       "        </tr>\n",
       "    \n",
       "        <tr style=\"background-color: hsl(120, 100.00%, 97.51%); border: none;\">\n",
       "            <td style=\"padding: 0 1em 0 0.5em; text-align: right; border: none;\">\n",
       "                0.0003\n",
       "                \n",
       "                    &plusmn; 0.0002\n",
       "                \n",
       "            </td>\n",
       "            <td style=\"padding: 0 0.5em 0 0.5em; text-align: left; border: none;\">\n",
       "                bureau_CREDIT_ACTIVE_Closed_count\n",
       "            </td>\n",
       "        </tr>\n",
       "    \n",
       "        <tr style=\"background-color: hsl(120, 100.00%, 97.59%); border: none;\">\n",
       "            <td style=\"padding: 0 1em 0 0.5em; text-align: right; border: none;\">\n",
       "                0.0003\n",
       "                \n",
       "                    &plusmn; 0.0003\n",
       "                \n",
       "            </td>\n",
       "            <td style=\"padding: 0 0.5em 0 0.5em; text-align: left; border: none;\">\n",
       "                INCOME_TO_BIRTH_RATIO\n",
       "            </td>\n",
       "        </tr>\n",
       "    \n",
       "        <tr style=\"background-color: hsl(120, 100.00%, 97.64%); border: none;\">\n",
       "            <td style=\"padding: 0 1em 0 0.5em; text-align: right; border: none;\">\n",
       "                0.0002\n",
       "                \n",
       "                    &plusmn; 0.0003\n",
       "                \n",
       "            </td>\n",
       "            <td style=\"padding: 0 0.5em 0 0.5em; text-align: left; border: none;\">\n",
       "                REG_CITY_NOT_LIVE_CITY\n",
       "            </td>\n",
       "        </tr>\n",
       "    \n",
       "        <tr style=\"background-color: hsl(120, 100.00%, 97.84%); border: none;\">\n",
       "            <td style=\"padding: 0 1em 0 0.5em; text-align: right; border: none;\">\n",
       "                0.0002\n",
       "                \n",
       "                    &plusmn; 0.0003\n",
       "                \n",
       "            </td>\n",
       "            <td style=\"padding: 0 0.5em 0 0.5em; text-align: left; border: none;\">\n",
       "                SK_ID_CURR\n",
       "            </td>\n",
       "        </tr>\n",
       "    \n",
       "    \n",
       "        \n",
       "            <tr style=\"background-color: hsl(120, 100.00%, 97.84%); border: none;\">\n",
       "                <td colspan=\"2\" style=\"padding: 0 0.5em 0 0.5em; text-align: center; border: none; white-space: nowrap;\">\n",
       "                    <i>&hellip; 342 more &hellip;</i>\n",
       "                </td>\n",
       "            </tr>\n",
       "        \n",
       "    \n",
       "    </tbody>\n",
       "</table>\n",
       "    \n",
       "\n",
       "    \n",
       "\n",
       "\n",
       "    \n",
       "\n",
       "    \n",
       "\n",
       "    \n",
       "\n",
       "    \n",
       "\n",
       "    \n",
       "\n",
       "    \n",
       "\n",
       "\n",
       "\n"
      ],
      "text/plain": [
       "<IPython.core.display.HTML object>"
      ]
     },
     "execution_count": 20,
     "metadata": {},
     "output_type": "execute_result"
    }
   ],
   "source": [
    "import eli5\n",
    "from eli5.sklearn import PermutationImportance\n",
    "\n",
    "perm = PermutationImportance(model, random_state = 1).fit(x_valid, y_valid)\n",
    "eli5.show_weights(perm, feature_names = x_valid.columns.tolist())"
   ]
  },
  {
   "cell_type": "code",
   "execution_count": 21,
   "id": "0b28e417",
   "metadata": {
    "execution": {
     "iopub.execute_input": "2022-05-22T07:35:58.520551Z",
     "iopub.status.busy": "2022-05-22T07:35:58.520027Z",
     "iopub.status.idle": "2022-05-22T07:35:58.535412Z",
     "shell.execute_reply": "2022-05-22T07:35:58.534842Z"
    },
    "papermill": {
     "duration": 0.062749,
     "end_time": "2022-05-22T07:35:58.537158",
     "exception": false,
     "start_time": "2022-05-22T07:35:58.474409",
     "status": "completed"
    },
    "tags": []
   },
   "outputs": [
    {
     "data": {
      "text/html": [
       "<div>\n",
       "<style scoped>\n",
       "    .dataframe tbody tr th:only-of-type {\n",
       "        vertical-align: middle;\n",
       "    }\n",
       "\n",
       "    .dataframe tbody tr th {\n",
       "        vertical-align: top;\n",
       "    }\n",
       "\n",
       "    .dataframe thead th {\n",
       "        text-align: right;\n",
       "    }\n",
       "</style>\n",
       "<table border=\"1\" class=\"dataframe\">\n",
       "  <thead>\n",
       "    <tr style=\"text-align: right;\">\n",
       "      <th></th>\n",
       "      <th>column</th>\n",
       "      <th>importace</th>\n",
       "      <th>abs_importance</th>\n",
       "    </tr>\n",
       "  </thead>\n",
       "  <tbody>\n",
       "    <tr>\n",
       "      <th>135</th>\n",
       "      <td>bureau_CREDIT_CURRENCY_currency 4_count</td>\n",
       "      <td>0.0</td>\n",
       "      <td>0.0</td>\n",
       "    </tr>\n",
       "    <tr>\n",
       "      <th>136</th>\n",
       "      <td>bureau_CREDIT_CURRENCY_currency 4_mean</td>\n",
       "      <td>0.0</td>\n",
       "      <td>0.0</td>\n",
       "    </tr>\n",
       "    <tr>\n",
       "      <th>137</th>\n",
       "      <td>bureau_CREDIT_TYPE_Another type of loan_count</td>\n",
       "      <td>0.0</td>\n",
       "      <td>0.0</td>\n",
       "    </tr>\n",
       "    <tr>\n",
       "      <th>266</th>\n",
       "      <td>client_bureau_balance_STATUS_1_count_count</td>\n",
       "      <td>0.0</td>\n",
       "      <td>0.0</td>\n",
       "    </tr>\n",
       "    <tr>\n",
       "      <th>263</th>\n",
       "      <td>client_bureau_balance_STATUS_1_count_sum</td>\n",
       "      <td>0.0</td>\n",
       "      <td>0.0</td>\n",
       "    </tr>\n",
       "    <tr>\n",
       "      <th>138</th>\n",
       "      <td>bureau_CREDIT_TYPE_Another type of loan_mean</td>\n",
       "      <td>0.0</td>\n",
       "      <td>0.0</td>\n",
       "    </tr>\n",
       "    <tr>\n",
       "      <th>261</th>\n",
       "      <td>client_bureau_balance_STATUS_0_mean_count</td>\n",
       "      <td>0.0</td>\n",
       "      <td>0.0</td>\n",
       "    </tr>\n",
       "    <tr>\n",
       "      <th>141</th>\n",
       "      <td>bureau_CREDIT_TYPE_Cash loan (non-earmarked)_c...</td>\n",
       "      <td>0.0</td>\n",
       "      <td>0.0</td>\n",
       "    </tr>\n",
       "    <tr>\n",
       "      <th>142</th>\n",
       "      <td>bureau_CREDIT_TYPE_Cash loan (non-earmarked)_mean</td>\n",
       "      <td>0.0</td>\n",
       "      <td>0.0</td>\n",
       "    </tr>\n",
       "    <tr>\n",
       "      <th>284</th>\n",
       "      <td>client_bureau_balance_STATUS_3_count_max</td>\n",
       "      <td>0.0</td>\n",
       "      <td>0.0</td>\n",
       "    </tr>\n",
       "  </tbody>\n",
       "</table>\n",
       "</div>"
      ],
      "text/plain": [
       "                                                column  importace  \\\n",
       "135            bureau_CREDIT_CURRENCY_currency 4_count        0.0   \n",
       "136             bureau_CREDIT_CURRENCY_currency 4_mean        0.0   \n",
       "137      bureau_CREDIT_TYPE_Another type of loan_count        0.0   \n",
       "266         client_bureau_balance_STATUS_1_count_count        0.0   \n",
       "263           client_bureau_balance_STATUS_1_count_sum        0.0   \n",
       "138       bureau_CREDIT_TYPE_Another type of loan_mean        0.0   \n",
       "261          client_bureau_balance_STATUS_0_mean_count        0.0   \n",
       "141  bureau_CREDIT_TYPE_Cash loan (non-earmarked)_c...        0.0   \n",
       "142  bureau_CREDIT_TYPE_Cash loan (non-earmarked)_mean        0.0   \n",
       "284           client_bureau_balance_STATUS_3_count_max        0.0   \n",
       "\n",
       "     abs_importance  \n",
       "135             0.0  \n",
       "136             0.0  \n",
       "137             0.0  \n",
       "266             0.0  \n",
       "263             0.0  \n",
       "138             0.0  \n",
       "261             0.0  \n",
       "141             0.0  \n",
       "142             0.0  \n",
       "284             0.0  "
      ]
     },
     "execution_count": 21,
     "metadata": {},
     "output_type": "execute_result"
    }
   ],
   "source": [
    "pfi = pd.DataFrame({'column':X.columns,'importace': perm.feature_importances_, 'abs_importance': np.abs(perm.feature_importances_)})\n",
    "pfi.sort_values('abs_importance',ascending=False).tail(10)"
   ]
  },
  {
   "cell_type": "code",
   "execution_count": 22,
   "id": "47969850",
   "metadata": {
    "execution": {
     "iopub.execute_input": "2022-05-22T07:35:58.627657Z",
     "iopub.status.busy": "2022-05-22T07:35:58.627359Z",
     "iopub.status.idle": "2022-05-22T07:35:58.633509Z",
     "shell.execute_reply": "2022-05-22T07:35:58.632619Z"
    },
    "papermill": {
     "duration": 0.0545,
     "end_time": "2022-05-22T07:35:58.635840",
     "exception": false,
     "start_time": "2022-05-22T07:35:58.581340",
     "status": "completed"
    },
    "tags": []
   },
   "outputs": [
    {
     "name": "stdout",
     "output_type": "stream",
     "text": [
      "['client_bureau_balance_STATUS_2_mean_min', 'bureau_CREDIT_CURRENCY_currency 2_mean', 'bureau_CREDIT_CURRENCY_currency 3_count', 'client_bureau_balance_STATUS_2_count_min', 'bureau_CREDIT_TYPE_Interbank credit_count', 'client_bureau_balance_STATUS_2_count_max', 'client_bureau_balance_STATUS_2_count_sum', 'LIVE_CITY_NOT_WORK_CITY', 'client_bureau_balance_STATUS_1_mean_count', 'bureau_CREDIT_CURRENCY_currency 3_mean', 'bureau_CREDIT_CURRENCY_currency 4_count', 'bureau_CREDIT_CURRENCY_currency 4_mean', 'bureau_CREDIT_TYPE_Another type of loan_count', 'client_bureau_balance_STATUS_1_count_count', 'client_bureau_balance_STATUS_1_count_sum', 'bureau_CREDIT_TYPE_Another type of loan_mean', 'client_bureau_balance_STATUS_0_mean_count', 'bureau_CREDIT_TYPE_Cash loan (non-earmarked)_count', 'bureau_CREDIT_TYPE_Cash loan (non-earmarked)_mean', 'client_bureau_balance_STATUS_3_count_max']\n"
     ]
    }
   ],
   "source": [
    "removed_columns = list(pfi.sort_values('abs_importance',ascending=False).tail(20)['column'])\n",
    "print(removed_columns)"
   ]
  },
  {
   "cell_type": "code",
   "execution_count": 23,
   "id": "290ccaa2",
   "metadata": {
    "execution": {
     "iopub.execute_input": "2022-05-22T07:35:58.727302Z",
     "iopub.status.busy": "2022-05-22T07:35:58.727055Z",
     "iopub.status.idle": "2022-05-22T07:35:59.115274Z",
     "shell.execute_reply": "2022-05-22T07:35:59.114521Z"
    },
    "papermill": {
     "duration": 0.436452,
     "end_time": "2022-05-22T07:35:59.117486",
     "exception": false,
     "start_time": "2022-05-22T07:35:58.681034",
     "status": "completed"
    },
    "tags": []
   },
   "outputs": [],
   "source": [
    "removed_train_feature_engineered = train_feature_engineered.drop(columns=removed_columns)\n",
    "removed_test_feature_engineered = test_feature_engineered.drop(columns=removed_columns)"
   ]
  },
  {
   "cell_type": "code",
   "execution_count": 24,
   "id": "f68f0f7f",
   "metadata": {
    "execution": {
     "iopub.execute_input": "2022-05-22T07:35:59.208391Z",
     "iopub.status.busy": "2022-05-22T07:35:59.208108Z",
     "iopub.status.idle": "2022-05-22T07:37:29.722615Z",
     "shell.execute_reply": "2022-05-22T07:37:29.721889Z"
    },
    "papermill": {
     "duration": 90.562979,
     "end_time": "2022-05-22T07:37:29.725166",
     "exception": false,
     "start_time": "2022-05-22T07:35:59.162187",
     "status": "completed"
    },
    "tags": []
   },
   "outputs": [],
   "source": [
    "removed_train_feature_engineered.to_csv('removed_train_feature_engineered.csv', index = False)\n",
    "removed_test_feature_engineered.to_csv('removed_test_feature_engineered.csv', index = False)"
   ]
  },
  {
   "cell_type": "code",
   "execution_count": 25,
   "id": "8024c6a5",
   "metadata": {
    "execution": {
     "iopub.execute_input": "2022-05-22T07:37:29.817776Z",
     "iopub.status.busy": "2022-05-22T07:37:29.817184Z",
     "iopub.status.idle": "2022-05-22T07:37:29.821486Z",
     "shell.execute_reply": "2022-05-22T07:37:29.820917Z"
    },
    "papermill": {
     "duration": 0.052487,
     "end_time": "2022-05-22T07:37:29.823283",
     "exception": false,
     "start_time": "2022-05-22T07:37:29.770796",
     "status": "completed"
    },
    "tags": []
   },
   "outputs": [],
   "source": [
    "import lightgbm as lgb\n",
    "\n",
    "from sklearn.model_selection import KFold\n",
    "from sklearn.metrics import roc_auc_score\n",
    "from sklearn.preprocessing import LabelEncoder\n",
    "\n",
    "import gc\n",
    "import matplotlib.pyplot as plt"
   ]
  },
  {
   "cell_type": "code",
   "execution_count": 26,
   "id": "e3c17a83",
   "metadata": {
    "execution": {
     "iopub.execute_input": "2022-05-22T07:37:29.915603Z",
     "iopub.status.busy": "2022-05-22T07:37:29.915046Z",
     "iopub.status.idle": "2022-05-22T07:37:29.937127Z",
     "shell.execute_reply": "2022-05-22T07:37:29.936529Z"
    },
    "papermill": {
     "duration": 0.070613,
     "end_time": "2022-05-22T07:37:29.939262",
     "exception": false,
     "start_time": "2022-05-22T07:37:29.868649",
     "status": "completed"
    },
    "tags": []
   },
   "outputs": [],
   "source": [
    "def model(features, test_features, encoding = 'ohe', n_folds =5):\n",
    "    labels = features['TARGET']\n",
    "    train_ids = features['SK_ID_CURR']\n",
    "    test_ids = test_features['SK_ID_CURR']\n",
    "    \n",
    "    train = features.drop(columns = ['TARGET','SK_ID_CURR'])\n",
    "    test = test_features.drop(columns = 'SK_ID_CURR')\n",
    "    \n",
    "    if encoding == 'ohe':\n",
    "        train = pd.get_dummies(train)\n",
    "        test = pd.get_dummies(test)\n",
    "        \n",
    "        train, test = train.align(test, join='inner', axis =1)\n",
    "        cat_indices = 'auto'\n",
    "    elif encoding == 'le':\n",
    "        label_encoder = LabelEncoder()\n",
    "        cat_indices = []\n",
    "        \n",
    "        for i, col in enumerate(train):\n",
    "            if train[col] == 'object':\n",
    "                train[col] = label_encoder.fit_transform(np.array(train[col].astype(str)).reshape(-1,))\n",
    "                test[col] = label_encoder.transform(np.array(test[col].astype(str)).reshape(-1,))\n",
    "                cat_indices.append(i)\n",
    "    else:\n",
    "        raise ValueError(\"Encoding must be either 'ohe' or 'le'\")\n",
    "    print('Traing Data Shape:', train.shape)\n",
    "    print('Testing Data Shape:', test.shape)\n",
    "    \n",
    "    feature_names = list(train.columns)\n",
    "    \n",
    "    train = np.array(train)\n",
    "    test = np.array(test)\n",
    "    \n",
    "    k_fold = KFold(n_splits = n_folds, shuffle = True, random_state = 50)\n",
    "    \n",
    "    feature_importance_values = np.zeros(len(feature_names))\n",
    "    \n",
    "    test_predictions = np.zeros(len(test))\n",
    "    out_of_fold = np.zeros(len(train))\n",
    "    \n",
    "    valid_scores = []\n",
    "    train_scores = []\n",
    "    \n",
    "    for train_indices, valid_indices in k_fold.split(train):\n",
    "        train_features, train_labels = train[train_indices], labels[train_indices]\n",
    "        valid_features, valid_labels = train[valid_indices], labels[valid_indices]\n",
    "        \n",
    "        model = lgb.LGBMClassifier(n_estimators = 10000\n",
    "                                   , objective='binary'\n",
    "                                   , class_weight = 'balanced'\n",
    "                                   , learning_rate = 0.05\n",
    "                                   , reg_alpha = 0.1\n",
    "                                   , reg_lambda = 0.1\n",
    "                                   , subsample = 0.8\n",
    "                                   , n_jobs = -1\n",
    "                                   , random_state= 50\n",
    "                                  )\n",
    "        model.fit(train_features\n",
    "                 , train_labels\n",
    "                 , eval_metric = 'auc'\n",
    "                 , eval_set = [(valid_features, valid_labels), (train_features, train_labels)]\n",
    "                 , eval_names =['valid','train']\n",
    "                 , categorical_feature = cat_indices\n",
    "                 , early_stopping_rounds = 100\n",
    "                 , verbose = 200\n",
    "        )\n",
    "        best_iteration = model.best_iteration_\n",
    "        feature_importance_values += model.feature_importances_ / k_fold.n_splits\n",
    "        \n",
    "        test_predictions += model.predict_proba(test, num_iteration = best_iteration)[:,1] / k_fold.n_splits\n",
    "        \n",
    "        out_of_fold[valid_indices] =model.predict_proba(valid_features, num_iteration = best_iteration)[:,1]\n",
    "        \n",
    "        valid_score = model.best_score_['valid']['auc']\n",
    "        train_score = model.best_score_['train']['auc']\n",
    "        \n",
    "        valid_scores.append(valid_score)\n",
    "        train_scores.append(train_score)\n",
    "        \n",
    "        gc.enable()\n",
    "        del model, train_features, valid_features\n",
    "        gc.collect()\n",
    "        \n",
    "    feature_importacne = pd.DataFrame({'feature':feature_names, 'importance':feature_importance_values})\n",
    "    \n",
    "    submission = pd.DataFrame({'SK_ID_CURR':test_ids, 'TARGET':test_predictions})\n",
    "    \n",
    "    valid_auc = roc_auc_score(labels, out_of_fold)\n",
    "    \n",
    "    valid_scores.append(valid_auc)\n",
    "    train_scores.append(np.mean(train_scores))\n",
    "    \n",
    "    fold_names = list(range(n_folds))\n",
    "    fold_names.append('overall')\n",
    "    \n",
    "    metrics = pd.DataFrame({'fold':fold_names, 'train':train_scores, 'valid': valid_scores})\n",
    "    return submission, feature_importacne, metrics"
   ]
  },
  {
   "cell_type": "code",
   "execution_count": 27,
   "id": "3255db70",
   "metadata": {
    "execution": {
     "iopub.execute_input": "2022-05-22T07:37:30.030512Z",
     "iopub.status.busy": "2022-05-22T07:37:30.030007Z",
     "iopub.status.idle": "2022-05-22T07:37:30.037103Z",
     "shell.execute_reply": "2022-05-22T07:37:30.036550Z"
    },
    "papermill": {
     "duration": 0.054694,
     "end_time": "2022-05-22T07:37:30.038835",
     "exception": false,
     "start_time": "2022-05-22T07:37:29.984141",
     "status": "completed"
    },
    "tags": []
   },
   "outputs": [],
   "source": [
    "def plot_feature_importances(df):\n",
    "    df = df.sort_values('importance', ascending = False).reset_index()\n",
    "    \n",
    "    df['importance_nomalized'] = df['importance'] / df['importance'].sum()\n",
    "    \n",
    "    plt.figure(figsize = (10, 6))\n",
    "    ax = plt.subplot()\n",
    "    \n",
    "    ax.barh(list(reversed(list(df.index[:15]))),\n",
    "           df['importance_nomalized'].head(15),\n",
    "           align = 'center',\n",
    "           edgecolor = 'k')\n",
    "    \n",
    "    ax.set_yticks(list(reversed(list(df.index[:15]))))\n",
    "    ax.set_yticklabels(df['feature'].head(15))\n",
    "    \n",
    "    plt.xlabel('Normalized Importance')\n",
    "    plt.ylabel('Feature Importances')\n",
    "    plt.show()\n",
    "    \n",
    "    return df"
   ]
  },
  {
   "cell_type": "code",
   "execution_count": 28,
   "id": "bb0b1ffb",
   "metadata": {
    "execution": {
     "iopub.execute_input": "2022-05-22T07:37:30.129596Z",
     "iopub.status.busy": "2022-05-22T07:37:30.129096Z",
     "iopub.status.idle": "2022-05-22T07:42:41.238727Z",
     "shell.execute_reply": "2022-05-22T07:42:41.237832Z"
    },
    "papermill": {
     "duration": 311.157736,
     "end_time": "2022-05-22T07:42:41.241163",
     "exception": false,
     "start_time": "2022-05-22T07:37:30.083427",
     "status": "completed"
    },
    "tags": []
   },
   "outputs": [
    {
     "name": "stdout",
     "output_type": "stream",
     "text": [
      "Traing Data Shape: (307511, 452)\n",
      "Testing Data Shape: (48744, 452)\n",
      "[200]\ttrain's auc: 0.810821\ttrain's binary_logloss: 0.53617\tvalid's auc: 0.763278\tvalid's binary_logloss: 0.553135\n",
      "[200]\ttrain's auc: 0.810727\ttrain's binary_logloss: 0.53666\tvalid's auc: 0.765248\tvalid's binary_logloss: 0.553447\n",
      "[200]\ttrain's auc: 0.809569\ttrain's binary_logloss: 0.538079\tvalid's auc: 0.770518\tvalid's binary_logloss: 0.554759\n",
      "[200]\ttrain's auc: 0.810367\ttrain's binary_logloss: 0.537096\tvalid's auc: 0.765831\tvalid's binary_logloss: 0.552573\n",
      "[200]\ttrain's auc: 0.810433\ttrain's binary_logloss: 0.536726\tvalid's auc: 0.76417\tvalid's binary_logloss: 0.554751\n"
     ]
    }
   ],
   "source": [
    "submission, fi, metrics = model(train,test)"
   ]
  },
  {
   "cell_type": "code",
   "execution_count": 29,
   "id": "9bc06892",
   "metadata": {
    "execution": {
     "iopub.execute_input": "2022-05-22T07:42:41.336959Z",
     "iopub.status.busy": "2022-05-22T07:42:41.336485Z",
     "iopub.status.idle": "2022-05-22T07:42:41.651002Z",
     "shell.execute_reply": "2022-05-22T07:42:41.650160Z"
    },
    "papermill": {
     "duration": 0.364666,
     "end_time": "2022-05-22T07:42:41.652962",
     "exception": false,
     "start_time": "2022-05-22T07:42:41.288296",
     "status": "completed"
    },
    "tags": []
   },
   "outputs": [
    {
     "data": {
      "image/png": "[encoded data removed]",
      "text/plain": [
       "<Figure size 720x432 with 1 Axes>"
      ]
     },
     "metadata": {},
     "output_type": "display_data"
    },
    {
     "data": {
      "text/html": [
       "<div>\n",
       "<style scoped>\n",
       "    .dataframe tbody tr th:only-of-type {\n",
       "        vertical-align: middle;\n",
       "    }\n",
       "\n",
       "    .dataframe tbody tr th {\n",
       "        vertical-align: top;\n",
       "    }\n",
       "\n",
       "    .dataframe thead th {\n",
       "        text-align: right;\n",
       "    }\n",
       "</style>\n",
       "<table border=\"1\" class=\"dataframe\">\n",
       "  <thead>\n",
       "    <tr style=\"text-align: right;\">\n",
       "      <th></th>\n",
       "      <th>index</th>\n",
       "      <th>feature</th>\n",
       "      <th>importance</th>\n",
       "      <th>importance_nomalized</th>\n",
       "    </tr>\n",
       "  </thead>\n",
       "  <tbody>\n",
       "    <tr>\n",
       "      <th>0</th>\n",
       "      <td>27</td>\n",
       "      <td>EXT_SOURCE_1</td>\n",
       "      <td>452.8</td>\n",
       "      <td>0.056445</td>\n",
       "    </tr>\n",
       "    <tr>\n",
       "      <th>1</th>\n",
       "      <td>29</td>\n",
       "      <td>EXT_SOURCE_3</td>\n",
       "      <td>360.4</td>\n",
       "      <td>0.044926</td>\n",
       "    </tr>\n",
       "    <tr>\n",
       "      <th>2</th>\n",
       "      <td>28</td>\n",
       "      <td>EXT_SOURCE_2</td>\n",
       "      <td>350.0</td>\n",
       "      <td>0.043630</td>\n",
       "    </tr>\n",
       "    <tr>\n",
       "      <th>3</th>\n",
       "      <td>6</td>\n",
       "      <td>DAYS_BIRTH</td>\n",
       "      <td>315.8</td>\n",
       "      <td>0.039367</td>\n",
       "    </tr>\n",
       "    <tr>\n",
       "      <th>4</th>\n",
       "      <td>2</td>\n",
       "      <td>AMT_CREDIT</td>\n",
       "      <td>274.4</td>\n",
       "      <td>0.034206</td>\n",
       "    </tr>\n",
       "    <tr>\n",
       "      <th>...</th>\n",
       "      <td>...</td>\n",
       "      <td>...</td>\n",
       "      <td>...</td>\n",
       "      <td>...</td>\n",
       "    </tr>\n",
       "    <tr>\n",
       "      <th>447</th>\n",
       "      <td>135</td>\n",
       "      <td>bureau_CREDIT_TYPE_Loan for purchase of shares...</td>\n",
       "      <td>0.0</td>\n",
       "      <td>0.000000</td>\n",
       "    </tr>\n",
       "    <tr>\n",
       "      <th>448</th>\n",
       "      <td>325</td>\n",
       "      <td>NAME_TYPE_SUITE_Group of people</td>\n",
       "      <td>0.0</td>\n",
       "      <td>0.000000</td>\n",
       "    </tr>\n",
       "    <tr>\n",
       "      <th>449</th>\n",
       "      <td>322</td>\n",
       "      <td>FLAG_OWN_REALTY_Y</td>\n",
       "      <td>0.0</td>\n",
       "      <td>0.000000</td>\n",
       "    </tr>\n",
       "    <tr>\n",
       "      <th>450</th>\n",
       "      <td>134</td>\n",
       "      <td>bureau_CREDIT_TYPE_Loan for purchase of shares...</td>\n",
       "      <td>0.0</td>\n",
       "      <td>0.000000</td>\n",
       "    </tr>\n",
       "    <tr>\n",
       "      <th>451</th>\n",
       "      <td>451</td>\n",
       "      <td>EMERGENCYSTATE_MODE_Yes</td>\n",
       "      <td>0.0</td>\n",
       "      <td>0.000000</td>\n",
       "    </tr>\n",
       "  </tbody>\n",
       "</table>\n",
       "<p>452 rows × 4 columns</p>\n",
       "</div>"
      ],
      "text/plain": [
       "     index                                            feature  importance  \\\n",
       "0       27                                       EXT_SOURCE_1       452.8   \n",
       "1       29                                       EXT_SOURCE_3       360.4   \n",
       "2       28                                       EXT_SOURCE_2       350.0   \n",
       "3        6                                         DAYS_BIRTH       315.8   \n",
       "4        2                                         AMT_CREDIT       274.4   \n",
       "..     ...                                                ...         ...   \n",
       "447    135  bureau_CREDIT_TYPE_Loan for purchase of shares...         0.0   \n",
       "448    325                    NAME_TYPE_SUITE_Group of people         0.0   \n",
       "449    322                                  FLAG_OWN_REALTY_Y         0.0   \n",
       "450    134  bureau_CREDIT_TYPE_Loan for purchase of shares...         0.0   \n",
       "451    451                            EMERGENCYSTATE_MODE_Yes         0.0   \n",
       "\n",
       "     importance_nomalized  \n",
       "0                0.056445  \n",
       "1                0.044926  \n",
       "2                0.043630  \n",
       "3                0.039367  \n",
       "4                0.034206  \n",
       "..                    ...  \n",
       "447              0.000000  \n",
       "448              0.000000  \n",
       "449              0.000000  \n",
       "450              0.000000  \n",
       "451              0.000000  \n",
       "\n",
       "[452 rows x 4 columns]"
      ]
     },
     "execution_count": 29,
     "metadata": {},
     "output_type": "execute_result"
    }
   ],
   "source": [
    "plot_feature_importances(fi)"
   ]
  },
  {
   "cell_type": "code",
   "execution_count": 30,
   "id": "2b6686e1",
   "metadata": {
    "execution": {
     "iopub.execute_input": "2022-05-22T07:42:41.756377Z",
     "iopub.status.busy": "2022-05-22T07:42:41.755808Z",
     "iopub.status.idle": "2022-05-22T07:42:41.766368Z",
     "shell.execute_reply": "2022-05-22T07:42:41.765487Z"
    },
    "papermill": {
     "duration": 0.065078,
     "end_time": "2022-05-22T07:42:41.768307",
     "exception": false,
     "start_time": "2022-05-22T07:42:41.703229",
     "status": "completed"
    },
    "tags": []
   },
   "outputs": [
    {
     "data": {
      "text/html": [
       "<div>\n",
       "<style scoped>\n",
       "    .dataframe tbody tr th:only-of-type {\n",
       "        vertical-align: middle;\n",
       "    }\n",
       "\n",
       "    .dataframe tbody tr th {\n",
       "        vertical-align: top;\n",
       "    }\n",
       "\n",
       "    .dataframe thead th {\n",
       "        text-align: right;\n",
       "    }\n",
       "</style>\n",
       "<table border=\"1\" class=\"dataframe\">\n",
       "  <thead>\n",
       "    <tr style=\"text-align: right;\">\n",
       "      <th></th>\n",
       "      <th>fold</th>\n",
       "      <th>train</th>\n",
       "      <th>valid</th>\n",
       "    </tr>\n",
       "  </thead>\n",
       "  <tbody>\n",
       "    <tr>\n",
       "      <th>0</th>\n",
       "      <td>0</td>\n",
       "      <td>0.823660</td>\n",
       "      <td>0.763730</td>\n",
       "    </tr>\n",
       "    <tr>\n",
       "      <th>1</th>\n",
       "      <td>1</td>\n",
       "      <td>0.824682</td>\n",
       "      <td>0.766092</td>\n",
       "    </tr>\n",
       "    <tr>\n",
       "      <th>2</th>\n",
       "      <td>2</td>\n",
       "      <td>0.826798</td>\n",
       "      <td>0.771362</td>\n",
       "    </tr>\n",
       "    <tr>\n",
       "      <th>3</th>\n",
       "      <td>3</td>\n",
       "      <td>0.817720</td>\n",
       "      <td>0.766207</td>\n",
       "    </tr>\n",
       "    <tr>\n",
       "      <th>4</th>\n",
       "      <td>4</td>\n",
       "      <td>0.821525</td>\n",
       "      <td>0.764642</td>\n",
       "    </tr>\n",
       "    <tr>\n",
       "      <th>5</th>\n",
       "      <td>overall</td>\n",
       "      <td>0.822877</td>\n",
       "      <td>0.766404</td>\n",
       "    </tr>\n",
       "  </tbody>\n",
       "</table>\n",
       "</div>"
      ],
      "text/plain": [
       "      fold     train     valid\n",
       "0        0  0.823660  0.763730\n",
       "1        1  0.824682  0.766092\n",
       "2        2  0.826798  0.771362\n",
       "3        3  0.817720  0.766207\n",
       "4        4  0.821525  0.764642\n",
       "5  overall  0.822877  0.766404"
      ]
     },
     "execution_count": 30,
     "metadata": {},
     "output_type": "execute_result"
    }
   ],
   "source": [
    "metrics"
   ]
  },
  {
   "cell_type": "code",
   "execution_count": 31,
   "id": "4d094227",
   "metadata": {
    "execution": {
     "iopub.execute_input": "2022-05-22T07:42:41.872149Z",
     "iopub.status.busy": "2022-05-22T07:42:41.871610Z",
     "iopub.status.idle": "2022-05-22T07:49:00.316875Z",
     "shell.execute_reply": "2022-05-22T07:49:00.316087Z"
    },
    "papermill": {
     "duration": 378.500068,
     "end_time": "2022-05-22T07:49:00.319365",
     "exception": false,
     "start_time": "2022-05-22T07:42:41.819297",
     "status": "completed"
    },
    "tags": []
   },
   "outputs": [
    {
     "name": "stdout",
     "output_type": "stream",
     "text": [
      "Traing Data Shape: (307506, 482)\n",
      "Testing Data Shape: (48744, 482)\n",
      "[200]\ttrain's auc: 0.816906\ttrain's binary_logloss: 0.528855\tvalid's auc: 0.770793\tvalid's binary_logloss: 0.545976\n",
      "[200]\ttrain's auc: 0.815646\ttrain's binary_logloss: 0.530263\tvalid's auc: 0.775005\tvalid's binary_logloss: 0.546945\n",
      "[400]\ttrain's auc: 0.851118\ttrain's binary_logloss: 0.492799\tvalid's auc: 0.776481\tvalid's binary_logloss: 0.52303\n",
      "[200]\ttrain's auc: 0.817126\ttrain's binary_logloss: 0.528981\tvalid's auc: 0.771315\tvalid's binary_logloss: 0.549057\n",
      "[200]\ttrain's auc: 0.815824\ttrain's binary_logloss: 0.530126\tvalid's auc: 0.775153\tvalid's binary_logloss: 0.547871\n",
      "[200]\ttrain's auc: 0.81707\ttrain's binary_logloss: 0.528558\tvalid's auc: 0.767887\tvalid's binary_logloss: 0.548611\n",
      "[400]\ttrain's auc: 0.852711\ttrain's binary_logloss: 0.490847\tvalid's auc: 0.768842\tvalid's binary_logloss: 0.525221\n"
     ]
    }
   ],
   "source": [
    "submission_engineered, fi_engineered, metrics_engineered = model(train_feature_engineered, test_feature_engineered)"
   ]
  },
  {
   "cell_type": "code",
   "execution_count": 32,
   "id": "e956addc",
   "metadata": {
    "execution": {
     "iopub.execute_input": "2022-05-22T07:49:00.428919Z",
     "iopub.status.busy": "2022-05-22T07:49:00.428158Z",
     "iopub.status.idle": "2022-05-22T07:49:00.712626Z",
     "shell.execute_reply": "2022-05-22T07:49:00.711756Z"
    },
    "papermill": {
     "duration": 0.341753,
     "end_time": "2022-05-22T07:49:00.715159",
     "exception": false,
     "start_time": "2022-05-22T07:49:00.373406",
     "status": "completed"
    },
    "tags": []
   },
   "outputs": [
    {
     "data": {
      "image/png": "[encoded data removed]",
      "text/plain": [
       "<Figure size 720x432 with 1 Axes>"
      ]
     },
     "metadata": {},
     "output_type": "display_data"
    },
    {
     "data": {
      "text/html": [
       "<div>\n",
       "<style scoped>\n",
       "    .dataframe tbody tr th:only-of-type {\n",
       "        vertical-align: middle;\n",
       "    }\n",
       "\n",
       "    .dataframe tbody tr th {\n",
       "        vertical-align: top;\n",
       "    }\n",
       "\n",
       "    .dataframe thead th {\n",
       "        text-align: right;\n",
       "    }\n",
       "</style>\n",
       "<table border=\"1\" class=\"dataframe\">\n",
       "  <thead>\n",
       "    <tr style=\"text-align: right;\">\n",
       "      <th></th>\n",
       "      <th>index</th>\n",
       "      <th>feature</th>\n",
       "      <th>importance</th>\n",
       "      <th>importance_nomalized</th>\n",
       "    </tr>\n",
       "  </thead>\n",
       "  <tbody>\n",
       "    <tr>\n",
       "      <th>0</th>\n",
       "      <td>325</td>\n",
       "      <td>CREDIT_TO_ANNUITY_RATIO</td>\n",
       "      <td>524.8</td>\n",
       "      <td>0.061080</td>\n",
       "    </tr>\n",
       "    <tr>\n",
       "      <th>1</th>\n",
       "      <td>6</td>\n",
       "      <td>DAYS_BIRTH</td>\n",
       "      <td>197.6</td>\n",
       "      <td>0.022998</td>\n",
       "    </tr>\n",
       "    <tr>\n",
       "      <th>2</th>\n",
       "      <td>29</td>\n",
       "      <td>EXT_SOURCE_3</td>\n",
       "      <td>185.0</td>\n",
       "      <td>0.021532</td>\n",
       "    </tr>\n",
       "    <tr>\n",
       "      <th>3</th>\n",
       "      <td>326</td>\n",
       "      <td>CREDIT_TO_GOODS_RATIO</td>\n",
       "      <td>183.6</td>\n",
       "      <td>0.021369</td>\n",
       "    </tr>\n",
       "    <tr>\n",
       "      <th>4</th>\n",
       "      <td>322</td>\n",
       "      <td>EXT_SOURCES_MEAN</td>\n",
       "      <td>181.6</td>\n",
       "      <td>0.021136</td>\n",
       "    </tr>\n",
       "    <tr>\n",
       "      <th>...</th>\n",
       "      <td>...</td>\n",
       "      <td>...</td>\n",
       "      <td>...</td>\n",
       "      <td>...</td>\n",
       "    </tr>\n",
       "    <tr>\n",
       "      <th>477</th>\n",
       "      <td>116</td>\n",
       "      <td>bureau_CREDIT_CURRENCY_currency 3_count</td>\n",
       "      <td>0.0</td>\n",
       "      <td>0.000000</td>\n",
       "    </tr>\n",
       "    <tr>\n",
       "      <th>478</th>\n",
       "      <td>107</td>\n",
       "      <td>bureau_CREDIT_ACTIVE_Bad debt_mean</td>\n",
       "      <td>0.0</td>\n",
       "      <td>0.000000</td>\n",
       "    </tr>\n",
       "    <tr>\n",
       "      <th>479</th>\n",
       "      <td>106</td>\n",
       "      <td>bureau_CREDIT_ACTIVE_Bad debt_count</td>\n",
       "      <td>0.0</td>\n",
       "      <td>0.000000</td>\n",
       "    </tr>\n",
       "    <tr>\n",
       "      <th>480</th>\n",
       "      <td>98</td>\n",
       "      <td>AMT_REQ_CREDIT_BUREAU_HOUR</td>\n",
       "      <td>0.0</td>\n",
       "      <td>0.000000</td>\n",
       "    </tr>\n",
       "    <tr>\n",
       "      <th>481</th>\n",
       "      <td>481</td>\n",
       "      <td>EMERGENCYSTATE_MODE_Yes</td>\n",
       "      <td>0.0</td>\n",
       "      <td>0.000000</td>\n",
       "    </tr>\n",
       "  </tbody>\n",
       "</table>\n",
       "<p>482 rows × 4 columns</p>\n",
       "</div>"
      ],
      "text/plain": [
       "     index                                  feature  importance  \\\n",
       "0      325                  CREDIT_TO_ANNUITY_RATIO       524.8   \n",
       "1        6                               DAYS_BIRTH       197.6   \n",
       "2       29                             EXT_SOURCE_3       185.0   \n",
       "3      326                    CREDIT_TO_GOODS_RATIO       183.6   \n",
       "4      322                         EXT_SOURCES_MEAN       181.6   \n",
       "..     ...                                      ...         ...   \n",
       "477    116  bureau_CREDIT_CURRENCY_currency 3_count         0.0   \n",
       "478    107       bureau_CREDIT_ACTIVE_Bad debt_mean         0.0   \n",
       "479    106      bureau_CREDIT_ACTIVE_Bad debt_count         0.0   \n",
       "480     98               AMT_REQ_CREDIT_BUREAU_HOUR         0.0   \n",
       "481    481                  EMERGENCYSTATE_MODE_Yes         0.0   \n",
       "\n",
       "     importance_nomalized  \n",
       "0                0.061080  \n",
       "1                0.022998  \n",
       "2                0.021532  \n",
       "3                0.021369  \n",
       "4                0.021136  \n",
       "..                    ...  \n",
       "477              0.000000  \n",
       "478              0.000000  \n",
       "479              0.000000  \n",
       "480              0.000000  \n",
       "481              0.000000  \n",
       "\n",
       "[482 rows x 4 columns]"
      ]
     },
     "execution_count": 32,
     "metadata": {},
     "output_type": "execute_result"
    }
   ],
   "source": [
    "plot_feature_importances(fi_engineered)"
   ]
  },
  {
   "cell_type": "code",
   "execution_count": 33,
   "id": "6f024450",
   "metadata": {
    "execution": {
     "iopub.execute_input": "2022-05-22T07:49:00.833661Z",
     "iopub.status.busy": "2022-05-22T07:49:00.832967Z",
     "iopub.status.idle": "2022-05-22T07:49:00.842287Z",
     "shell.execute_reply": "2022-05-22T07:49:00.841556Z"
    },
    "papermill": {
     "duration": 0.07132,
     "end_time": "2022-05-22T07:49:00.844161",
     "exception": false,
     "start_time": "2022-05-22T07:49:00.772841",
     "status": "completed"
    },
    "tags": []
   },
   "outputs": [
    {
     "data": {
      "text/html": [
       "<div>\n",
       "<style scoped>\n",
       "    .dataframe tbody tr th:only-of-type {\n",
       "        vertical-align: middle;\n",
       "    }\n",
       "\n",
       "    .dataframe tbody tr th {\n",
       "        vertical-align: top;\n",
       "    }\n",
       "\n",
       "    .dataframe thead th {\n",
       "        text-align: right;\n",
       "    }\n",
       "</style>\n",
       "<table border=\"1\" class=\"dataframe\">\n",
       "  <thead>\n",
       "    <tr style=\"text-align: right;\">\n",
       "      <th></th>\n",
       "      <th>fold</th>\n",
       "      <th>train</th>\n",
       "      <th>valid</th>\n",
       "    </tr>\n",
       "  </thead>\n",
       "  <tbody>\n",
       "    <tr>\n",
       "      <th>0</th>\n",
       "      <td>0</td>\n",
       "      <td>0.820823</td>\n",
       "      <td>0.770983</td>\n",
       "    </tr>\n",
       "    <tr>\n",
       "      <th>1</th>\n",
       "      <td>1</td>\n",
       "      <td>0.853665</td>\n",
       "      <td>0.776562</td>\n",
       "    </tr>\n",
       "    <tr>\n",
       "      <th>2</th>\n",
       "      <td>2</td>\n",
       "      <td>0.823527</td>\n",
       "      <td>0.771706</td>\n",
       "    </tr>\n",
       "    <tr>\n",
       "      <th>3</th>\n",
       "      <td>3</td>\n",
       "      <td>0.826898</td>\n",
       "      <td>0.775649</td>\n",
       "    </tr>\n",
       "    <tr>\n",
       "      <th>4</th>\n",
       "      <td>4</td>\n",
       "      <td>0.837807</td>\n",
       "      <td>0.769112</td>\n",
       "    </tr>\n",
       "    <tr>\n",
       "      <th>5</th>\n",
       "      <td>overall</td>\n",
       "      <td>0.832544</td>\n",
       "      <td>0.772745</td>\n",
       "    </tr>\n",
       "  </tbody>\n",
       "</table>\n",
       "</div>"
      ],
      "text/plain": [
       "      fold     train     valid\n",
       "0        0  0.820823  0.770983\n",
       "1        1  0.853665  0.776562\n",
       "2        2  0.823527  0.771706\n",
       "3        3  0.826898  0.775649\n",
       "4        4  0.837807  0.769112\n",
       "5  overall  0.832544  0.772745"
      ]
     },
     "execution_count": 33,
     "metadata": {},
     "output_type": "execute_result"
    }
   ],
   "source": [
    "metrics_engineered"
   ]
  },
  {
   "cell_type": "code",
   "execution_count": 34,
   "id": "f8c4fd33",
   "metadata": {
    "execution": {
     "iopub.execute_input": "2022-05-22T07:49:00.961469Z",
     "iopub.status.busy": "2022-05-22T07:49:00.960966Z",
     "iopub.status.idle": "2022-05-22T07:49:01.130862Z",
     "shell.execute_reply": "2022-05-22T07:49:01.129937Z"
    },
    "papermill": {
     "duration": 0.23105,
     "end_time": "2022-05-22T07:49:01.133250",
     "exception": false,
     "start_time": "2022-05-22T07:49:00.902200",
     "status": "completed"
    },
    "tags": []
   },
   "outputs": [],
   "source": [
    "submission_engineered.to_csv('submission_feature_engineered.csv', index = False)"
   ]
  },
  {
   "cell_type": "code",
   "execution_count": 35,
   "id": "d32f382b",
   "metadata": {
    "execution": {
     "iopub.execute_input": "2022-05-22T07:49:01.249328Z",
     "iopub.status.busy": "2022-05-22T07:49:01.249053Z",
     "iopub.status.idle": "2022-05-22T07:55:15.118843Z",
     "shell.execute_reply": "2022-05-22T07:55:15.117761Z"
    },
    "papermill": {
     "duration": 373.930814,
     "end_time": "2022-05-22T07:55:15.121440",
     "exception": false,
     "start_time": "2022-05-22T07:49:01.190626",
     "status": "completed"
    },
    "tags": []
   },
   "outputs": [
    {
     "name": "stdout",
     "output_type": "stream",
     "text": [
      "Traing Data Shape: (307506, 462)\n",
      "Testing Data Shape: (48744, 462)\n",
      "[200]\ttrain's auc: 0.816932\ttrain's binary_logloss: 0.528834\tvalid's auc: 0.770818\tvalid's binary_logloss: 0.545992\n",
      "[200]\ttrain's auc: 0.815628\ttrain's binary_logloss: 0.530319\tvalid's auc: 0.774777\tvalid's binary_logloss: 0.547051\n",
      "[400]\ttrain's auc: 0.851678\ttrain's binary_logloss: 0.49252\tvalid's auc: 0.775423\tvalid's binary_logloss: 0.523054\n",
      "[200]\ttrain's auc: 0.816972\ttrain's binary_logloss: 0.529053\tvalid's auc: 0.770573\tvalid's binary_logloss: 0.549265\n",
      "[200]\ttrain's auc: 0.815792\ttrain's binary_logloss: 0.530112\tvalid's auc: 0.774734\tvalid's binary_logloss: 0.54827\n",
      "[200]\ttrain's auc: 0.817398\ttrain's binary_logloss: 0.528354\tvalid's auc: 0.767992\tvalid's binary_logloss: 0.548258\n",
      "[400]\ttrain's auc: 0.853225\ttrain's binary_logloss: 0.490209\tvalid's auc: 0.769007\tvalid's binary_logloss: 0.524974\n"
     ]
    }
   ],
   "source": [
    "submission_engineered_removed_, fi_engineered_removed, metrics_engineered_removed = model(removed_train_feature_engineered, removed_test_feature_engineered) "
   ]
  },
  {
   "cell_type": "code",
   "execution_count": 36,
   "id": "669813c9",
   "metadata": {
    "execution": {
     "iopub.execute_input": "2022-05-22T07:55:15.250436Z",
     "iopub.status.busy": "2022-05-22T07:55:15.250128Z",
     "iopub.status.idle": "2022-05-22T07:55:15.531912Z",
     "shell.execute_reply": "2022-05-22T07:55:15.531080Z"
    },
    "papermill": {
     "duration": 0.346379,
     "end_time": "2022-05-22T07:55:15.533905",
     "exception": false,
     "start_time": "2022-05-22T07:55:15.187526",
     "status": "completed"
    },
    "tags": []
   },
   "outputs": [
    {
     "data": {
      "image/png": "[encoded data removed]",
      "text/plain": [
       "<Figure size 720x432 with 1 Axes>"
      ]
     },
     "metadata": {},
     "output_type": "display_data"
    },
    {
     "data": {
      "text/html": [
       "<div>\n",
       "<style scoped>\n",
       "    .dataframe tbody tr th:only-of-type {\n",
       "        vertical-align: middle;\n",
       "    }\n",
       "\n",
       "    .dataframe tbody tr th {\n",
       "        vertical-align: top;\n",
       "    }\n",
       "\n",
       "    .dataframe thead th {\n",
       "        text-align: right;\n",
       "    }\n",
       "</style>\n",
       "<table border=\"1\" class=\"dataframe\">\n",
       "  <thead>\n",
       "    <tr style=\"text-align: right;\">\n",
       "      <th></th>\n",
       "      <th>index</th>\n",
       "      <th>feature</th>\n",
       "      <th>importance</th>\n",
       "      <th>importance_nomalized</th>\n",
       "    </tr>\n",
       "  </thead>\n",
       "  <tbody>\n",
       "    <tr>\n",
       "      <th>0</th>\n",
       "      <td>305</td>\n",
       "      <td>CREDIT_TO_ANNUITY_RATIO</td>\n",
       "      <td>522.0</td>\n",
       "      <td>0.060839</td>\n",
       "    </tr>\n",
       "    <tr>\n",
       "      <th>1</th>\n",
       "      <td>6</td>\n",
       "      <td>DAYS_BIRTH</td>\n",
       "      <td>199.2</td>\n",
       "      <td>0.023217</td>\n",
       "    </tr>\n",
       "    <tr>\n",
       "      <th>2</th>\n",
       "      <td>28</td>\n",
       "      <td>EXT_SOURCE_3</td>\n",
       "      <td>185.6</td>\n",
       "      <td>0.021632</td>\n",
       "    </tr>\n",
       "    <tr>\n",
       "      <th>3</th>\n",
       "      <td>306</td>\n",
       "      <td>CREDIT_TO_GOODS_RATIO</td>\n",
       "      <td>177.2</td>\n",
       "      <td>0.020653</td>\n",
       "    </tr>\n",
       "    <tr>\n",
       "      <th>4</th>\n",
       "      <td>302</td>\n",
       "      <td>EXT_SOURCES_MEAN</td>\n",
       "      <td>175.0</td>\n",
       "      <td>0.020396</td>\n",
       "    </tr>\n",
       "    <tr>\n",
       "      <th>...</th>\n",
       "      <td>...</td>\n",
       "      <td>...</td>\n",
       "      <td>...</td>\n",
       "      <td>...</td>\n",
       "    </tr>\n",
       "    <tr>\n",
       "      <th>457</th>\n",
       "      <td>97</td>\n",
       "      <td>AMT_REQ_CREDIT_BUREAU_HOUR</td>\n",
       "      <td>0.0</td>\n",
       "      <td>0.000000</td>\n",
       "    </tr>\n",
       "    <tr>\n",
       "      <th>458</th>\n",
       "      <td>96</td>\n",
       "      <td>FLAG_DOCUMENT_21</td>\n",
       "      <td>0.0</td>\n",
       "      <td>0.000000</td>\n",
       "    </tr>\n",
       "    <tr>\n",
       "      <th>459</th>\n",
       "      <td>95</td>\n",
       "      <td>FLAG_DOCUMENT_20</td>\n",
       "      <td>0.0</td>\n",
       "      <td>0.000000</td>\n",
       "    </tr>\n",
       "    <tr>\n",
       "      <th>460</th>\n",
       "      <td>94</td>\n",
       "      <td>FLAG_DOCUMENT_19</td>\n",
       "      <td>0.0</td>\n",
       "      <td>0.000000</td>\n",
       "    </tr>\n",
       "    <tr>\n",
       "      <th>461</th>\n",
       "      <td>461</td>\n",
       "      <td>EMERGENCYSTATE_MODE_Yes</td>\n",
       "      <td>0.0</td>\n",
       "      <td>0.000000</td>\n",
       "    </tr>\n",
       "  </tbody>\n",
       "</table>\n",
       "<p>462 rows × 4 columns</p>\n",
       "</div>"
      ],
      "text/plain": [
       "     index                     feature  importance  importance_nomalized\n",
       "0      305     CREDIT_TO_ANNUITY_RATIO       522.0              0.060839\n",
       "1        6                  DAYS_BIRTH       199.2              0.023217\n",
       "2       28                EXT_SOURCE_3       185.6              0.021632\n",
       "3      306       CREDIT_TO_GOODS_RATIO       177.2              0.020653\n",
       "4      302            EXT_SOURCES_MEAN       175.0              0.020396\n",
       "..     ...                         ...         ...                   ...\n",
       "457     97  AMT_REQ_CREDIT_BUREAU_HOUR         0.0              0.000000\n",
       "458     96            FLAG_DOCUMENT_21         0.0              0.000000\n",
       "459     95            FLAG_DOCUMENT_20         0.0              0.000000\n",
       "460     94            FLAG_DOCUMENT_19         0.0              0.000000\n",
       "461    461     EMERGENCYSTATE_MODE_Yes         0.0              0.000000\n",
       "\n",
       "[462 rows x 4 columns]"
      ]
     },
     "execution_count": 36,
     "metadata": {},
     "output_type": "execute_result"
    }
   ],
   "source": [
    "plot_feature_importances(fi_engineered_removed)"
   ]
  },
  {
   "cell_type": "code",
   "execution_count": 37,
   "id": "10e6fb57",
   "metadata": {
    "execution": {
     "iopub.execute_input": "2022-05-22T07:55:15.663038Z",
     "iopub.status.busy": "2022-05-22T07:55:15.662628Z",
     "iopub.status.idle": "2022-05-22T07:55:15.675017Z",
     "shell.execute_reply": "2022-05-22T07:55:15.674064Z"
    },
    "papermill": {
     "duration": 0.080226,
     "end_time": "2022-05-22T07:55:15.677319",
     "exception": false,
     "start_time": "2022-05-22T07:55:15.597093",
     "status": "completed"
    },
    "tags": []
   },
   "outputs": [
    {
     "data": {
      "text/html": [
       "<div>\n",
       "<style scoped>\n",
       "    .dataframe tbody tr th:only-of-type {\n",
       "        vertical-align: middle;\n",
       "    }\n",
       "\n",
       "    .dataframe tbody tr th {\n",
       "        vertical-align: top;\n",
       "    }\n",
       "\n",
       "    .dataframe thead th {\n",
       "        text-align: right;\n",
       "    }\n",
       "</style>\n",
       "<table border=\"1\" class=\"dataframe\">\n",
       "  <thead>\n",
       "    <tr style=\"text-align: right;\">\n",
       "      <th></th>\n",
       "      <th>fold</th>\n",
       "      <th>train</th>\n",
       "      <th>valid</th>\n",
       "    </tr>\n",
       "  </thead>\n",
       "  <tbody>\n",
       "    <tr>\n",
       "      <th>0</th>\n",
       "      <td>0</td>\n",
       "      <td>0.817952</td>\n",
       "      <td>0.770907</td>\n",
       "    </tr>\n",
       "    <tr>\n",
       "      <th>1</th>\n",
       "      <td>1</td>\n",
       "      <td>0.843912</td>\n",
       "      <td>0.775967</td>\n",
       "    </tr>\n",
       "    <tr>\n",
       "      <th>2</th>\n",
       "      <td>2</td>\n",
       "      <td>0.830487</td>\n",
       "      <td>0.770962</td>\n",
       "    </tr>\n",
       "    <tr>\n",
       "      <th>3</th>\n",
       "      <td>3</td>\n",
       "      <td>0.825496</td>\n",
       "      <td>0.775095</td>\n",
       "    </tr>\n",
       "    <tr>\n",
       "      <th>4</th>\n",
       "      <td>4</td>\n",
       "      <td>0.846139</td>\n",
       "      <td>0.769161</td>\n",
       "    </tr>\n",
       "    <tr>\n",
       "      <th>5</th>\n",
       "      <td>overall</td>\n",
       "      <td>0.832797</td>\n",
       "      <td>0.772327</td>\n",
       "    </tr>\n",
       "  </tbody>\n",
       "</table>\n",
       "</div>"
      ],
      "text/plain": [
       "      fold     train     valid\n",
       "0        0  0.817952  0.770907\n",
       "1        1  0.843912  0.775967\n",
       "2        2  0.830487  0.770962\n",
       "3        3  0.825496  0.775095\n",
       "4        4  0.846139  0.769161\n",
       "5  overall  0.832797  0.772327"
      ]
     },
     "execution_count": 37,
     "metadata": {},
     "output_type": "execute_result"
    }
   ],
   "source": [
    "metrics_engineered_removed"
   ]
  },
  {
   "cell_type": "code",
   "execution_count": 38,
   "id": "d306e567",
   "metadata": {
    "execution": {
     "iopub.execute_input": "2022-05-22T07:55:15.811486Z",
     "iopub.status.busy": "2022-05-22T07:55:15.811150Z",
     "iopub.status.idle": "2022-05-22T07:55:15.991531Z",
     "shell.execute_reply": "2022-05-22T07:55:15.990580Z"
    },
    "papermill": {
     "duration": 0.24943,
     "end_time": "2022-05-22T07:55:15.994179",
     "exception": false,
     "start_time": "2022-05-22T07:55:15.744749",
     "status": "completed"
    },
    "tags": []
   },
   "outputs": [],
   "source": [
    "submission_engineered_removed_.to_csv('submission_engineered_removed_.csv', index = False)"
   ]
  },
  {
   "cell_type": "code",
   "execution_count": null,
   "id": "48316a81",
   "metadata": {
    "papermill": {
     "duration": 0.065977,
     "end_time": "2022-05-22T07:55:16.124799",
     "exception": false,
     "start_time": "2022-05-22T07:55:16.058822",
     "status": "completed"
    },
    "tags": []
   },
   "outputs": [],
   "source": []
  }
 ],
 "metadata": {
  "kernelspec": {
   "display_name": "Python 3",
   "language": "python",
   "name": "python3"
  },
  "language_info": {
   "codemirror_mode": {
    "name": "ipython",
    "version": 3
   },
   "file_extension": ".py",
   "mimetype": "text/x-python",
   "name": "python",
   "nbconvert_exporter": "python",
   "pygments_lexer": "ipython3",
   "version": "3.7.12"
  },
  "papermill": {
   "default_parameters": {},
   "duration": 3152.857291,
   "end_time": "2022-05-22T07:55:18.820733",
   "environment_variables": {},
   "exception": null,
   "input_path": "__notebook__.ipynb",
   "output_path": "__notebook__.ipynb",
   "parameters": {},
   "start_time": "2022-05-22T07:02:45.963442",
   "version": "2.3.4"
  }
 },
 "nbformat": 4,
 "nbformat_minor": 5
}
